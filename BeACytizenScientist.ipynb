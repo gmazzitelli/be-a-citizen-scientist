{
  "nbformat": 4,
  "nbformat_minor": 0,
  "metadata": {
    "colab": {
      "name": "BeACytizenScientist.ipynb",
      "version": "0.3.2",
      "provenance": [],
      "collapsed_sections": [
        "fYziw4PrTj9h",
        "bJOYMMk93sXE",
        "5VkN7wXlCkxW"
      ],
      "include_colab_link": true
    },
    "kernelspec": {
      "name": "python3",
      "display_name": "Python 3"
    }
  },
  "cells": [
    {
      "cell_type": "markdown",
      "metadata": {
        "id": "view-in-github",
        "colab_type": "text"
      },
      "source": [
        "<a href=\"https://colab.research.google.com/github/gmazzitelli/be-a-citizen-scientist/blob/master/BeACytizenScientist.ipynb\" target=\"_parent\"><img src=\"https://colab.research.google.com/assets/colab-badge.svg\" alt=\"Open In Colab\"/></a>"
      ]
    },
    {
      "cell_type": "markdown",
      "metadata": {
        "id": "fYziw4PrTj9h",
        "colab_type": "text"
      },
      "source": [
        "# GET data from local file with autentication\n",
        "\n",
        "\n"
      ]
    },
    {
      "cell_type": "code",
      "metadata": {
        "id": "qQlkP8D2JrYA",
        "colab_type": "code",
        "outputId": "974c39e7-1527-43c1-c251-5d0c98d947ab",
        "colab": {
          "base_uri": "https://localhost:8080/",
          "height": 1176
        }
      },
      "source": [
        "from google.colab import drive\n",
        "drive.mount('/content/drive')\n",
        "!ls /content/drive/\n",
        "!ls \"/content/drive/My Drive/Colab Notebooks\"\n",
        "import pandas as pd\n",
        "csv_file = \"/content/drive/My Drive/Colab Notebooks/_Be a Data Scientist a #IJF19 (Responses) - Form Responses 1.csv\"\n",
        "df = pd.read_csv(csv_file)\n",
        "df.head()"
      ],
      "execution_count": 5,
      "outputs": [
        {
          "output_type": "stream",
          "text": [
            "Go to this URL in a browser: https://accounts.google.com/o/oauth2/auth?client_id=947318989803-6bn6qk8qdgf4n4g3pfee6491hc0brc4i.apps.googleusercontent.com&redirect_uri=urn%3Aietf%3Awg%3Aoauth%3A2.0%3Aoob&scope=email%20https%3A%2F%2Fwww.googleapis.com%2Fauth%2Fdocs.test%20https%3A%2F%2Fwww.googleapis.com%2Fauth%2Fdrive%20https%3A%2F%2Fwww.googleapis.com%2Fauth%2Fdrive.photos.readonly%20https%3A%2F%2Fwww.googleapis.com%2Fauth%2Fpeopleapi.readonly&response_type=code\n",
            "\n",
            "Enter your authorization code:\n",
            "··········\n",
            "Mounted at /content/drive\n",
            "'My Drive'\n",
            " BeACytizenScientist.ipynb\n",
            "'_Be a Data Scientist a #IJF19 (Responses) - Form Responses 1.csv'\n",
            " clustering_example.ipynb\n",
            " colab_test.ipynb\n",
            "'Copia di cygnus_lib.py'\n",
            "'Copy of analisi_fondo.ipynb'\n",
            "'Copy of test_root.ipynb'\n",
            " cygnus_lib.py\n",
            " data\n",
            " montecarlo_example.ipynb\n",
            " Plotting-Studenti.ipynb\n",
            " __pycache__\n",
            " read_example.ipynb\n",
            " test_root.ipynb\n"
          ],
          "name": "stdout"
        },
        {
          "output_type": "execute_result",
          "data": {
            "text/html": [
              "<div>\n",
              "<style scoped>\n",
              "    .dataframe tbody tr th:only-of-type {\n",
              "        vertical-align: middle;\n",
              "    }\n",
              "\n",
              "    .dataframe tbody tr th {\n",
              "        vertical-align: top;\n",
              "    }\n",
              "\n",
              "    .dataframe thead th {\n",
              "        text-align: right;\n",
              "    }\n",
              "</style>\n",
              "<table border=\"1\" class=\"dataframe\">\n",
              "  <thead>\n",
              "    <tr style=\"text-align: right;\">\n",
              "      <th></th>\n",
              "      <th>Timestamp</th>\n",
              "      <th>Età in anni compiuti</th>\n",
              "      <th>Sesso</th>\n",
              "      <th>Cittadinanza</th>\n",
              "      <th>Sei nato in Italia?</th>\n",
              "      <th>Provincia di nascita</th>\n",
              "      <th>Provincia di dimora abituale</th>\n",
              "      <th>Titolo di Studio più alto conseguito</th>\n",
              "      <th>Cittadinanza del padre</th>\n",
              "      <th>Tuo padre è nato in Italia?</th>\n",
              "      <th>Provincia di nascita del padre</th>\n",
              "      <th>Cittadinanza della madre</th>\n",
              "      <th>Tua madre è nata in Italia?</th>\n",
              "      <th>Provincia di nascita della madre</th>\n",
              "      <th>Negli ultimi 12 mesi ti è mai capitato di cercare informazioni?</th>\n",
              "      <th>Negli ultimi 12 mesi quante volte hai cercato informazioni?</th>\n",
              "      <th>Negli ultimi 12 mesi che strumenti hai utilizzato per cercare informazioni?  [Carta (es. giornali, riviste, ecc.)]</th>\n",
              "      <th>Negli ultimi 12 mesi che strumenti hai utilizzato per cercare informazioni?  [Tv (es. telegiornali, talkshow)]</th>\n",
              "      <th>Negli ultimi 12 mesi che strumenti hai utilizzato per cercare informazioni?  [Radio (es. giornaleradio)]</th>\n",
              "      <th>Negli ultimi 12 mesi che strumenti hai utilizzato per cercare informazioni?  [Persone (amici, scuola, famiglia)]</th>\n",
              "      <th>Negli ultimi 12 mesi che strumenti hai utilizzato per cercare informazioni?  [Internet]</th>\n",
              "      <th>Negli ultimi 12 mesi che strumenti hai utilizzato per cercare informazioni?  [Altro]</th>\n",
              "      <th>Tra gli strumenti che negli ultimi 12 mesi hai utilizzato per cercare informazioni, qual è quello che preferisci usare?</th>\n",
              "      <th>Negli ultimi 12 mesi, quando hai cercato notizie, quanto tempo hai impiegato mediamente al giorno nella ricerca?</th>\n",
              "      <th>Quali notizie ti fanno paura?</th>\n",
              "      <th>Con che frequenza ti informi su argomenti riguardanti la scienza?</th>\n",
              "      <th>Quali argomenti scientifici ti attirano di più</th>\n",
              "      <th>Quando hai saputo della strage in discoteca a Corinaldo al concerto di Sfera Ebbasta, cosa ha catturato la tua attenzione?</th>\n",
              "      <th>Da dove hai appreso della caduta del ponte Morandi a Genova?</th>\n",
              "      <th>Hai mai usato internet?</th>\n",
              "      <th>Sul web, dove prendi le informazioni? [testate giornalistiche online]</th>\n",
              "      <th>Sul web, dove prendi le informazioni? [social]</th>\n",
              "      <th>Sul web, dove prendi le informazioni? [motori di ricerca (es google, safari, ping]</th>\n",
              "      <th>Sul web, dove prendi le informazioni? [siti specifici che conosco]</th>\n",
              "      <th>Sul web, dove prendi le informazioni? [app dedicate]</th>\n",
              "      <th>Sul web, dove prendi le informazioni? [newsletter via email]</th>\n",
              "      <th>Quali social usi di più per informarti?</th>\n",
              "      <th>Tra i social che usi di più anche per informati, quale preferisci?</th>\n",
              "      <th>Cosa cerchi di più su internet?</th>\n",
              "      <th>Qual è la prima cosa che vai a vedere sui social?</th>\n",
              "      <th>Da dove ricevi notizie senza cercarle quando sei on line?</th>\n",
              "      <th>Quali argomenti ti vengono suggeriti mentre sei online</th>\n",
              "      <th>Cosa attrae innanzitutto la tua attenzione su una notizia on line?</th>\n",
              "      <th>Condividi le notizie?</th>\n",
              "      <th>Con chi le condividi?</th>\n",
              "      <th>Come condividi le notizie che leggi?</th>\n",
              "      <th>Quando condividi lo fai ...  [Perché è una notizia che mi ha impressionato]</th>\n",
              "      <th>Quando condividi lo fai ...  [Per farlo sapere a tutti]</th>\n",
              "      <th>Quando condividi lo fai ...  [Per commentare]</th>\n",
              "      <th>Quando condividi lo fai ...  [Perché lo fanno tutti]</th>\n",
              "      <th>Secondo te ci si può fidare di ciò che scrivono i giornalisti?</th>\n",
              "      <th>Secondo te ci si può fidare delle notizie che si trovano su internet?</th>\n",
              "      <th>Ritieni che esistano sistemi sicuri per capire con certezza se una notizia è vera o no?</th>\n",
              "      <th>Cosa ti fa capire se una notizia è attendibile? [La notizia in sé, l'argomento che tratta]</th>\n",
              "      <th>Cosa ti fa capire se una notizia è attendibile? [Se riporta le fonti da cui è tratto l'argomento]</th>\n",
              "      <th>Cosa ti fa capire se una notizia è attendibile? [Il modo in cui è raccontata la notizia]</th>\n",
              "      <th>Cosa ti fa capire se una notizia è attendibile? [La fonte che la pubblica (il sito, il giornale, il social)]</th>\n",
              "      <th>Cosa ti fa capire se una notizia è attendibile? [La forma e lo stile]</th>\n",
              "      <th>Cosa ti fa capire se una notizia è attendibile? [altro]</th>\n",
              "      <th>Secondo te dove si diffondono di più le fake news?</th>\n",
              "      <th>Quali sono gli argormenti fake che attecchiscono di più?</th>\n",
              "      <th>Secondo te a che età si è più inclini a condividere una fake news?</th>\n",
              "      <th>Sai cos'è la reputazione digitale?</th>\n",
              "      <th>Sai quali pericoli potrebbero esserci nel postare le foto sui social?</th>\n",
              "    </tr>\n",
              "  </thead>\n",
              "  <tbody>\n",
              "    <tr>\n",
              "      <th>0</th>\n",
              "      <td>4/1/2019 19:34:25</td>\n",
              "      <td>tra 35 e 44</td>\n",
              "      <td>F</td>\n",
              "      <td>italiana</td>\n",
              "      <td>NaN</td>\n",
              "      <td>Roma</td>\n",
              "      <td>Roma</td>\n",
              "      <td>scuola primaria</td>\n",
              "      <td>italiana</td>\n",
              "      <td>NaN</td>\n",
              "      <td>Belluno</td>\n",
              "      <td>italiana</td>\n",
              "      <td>NaN</td>\n",
              "      <td>Asti</td>\n",
              "      <td>Sì</td>\n",
              "      <td>Meno di una volta al mese</td>\n",
              "      <td>raramente</td>\n",
              "      <td>raramente</td>\n",
              "      <td>raramente</td>\n",
              "      <td>raramente</td>\n",
              "      <td>raramente</td>\n",
              "      <td>raramente</td>\n",
              "      <td>Radio</td>\n",
              "      <td>circa 30 minuti</td>\n",
              "      <td>bullismo</td>\n",
              "      <td>giornalmente</td>\n",
              "      <td>matematica, medicina, ecologia/clima</td>\n",
              "      <td>i titoli delle testate giornalistiche</td>\n",
              "      <td>da un social, da un'app di informazione, dalla tv</td>\n",
              "      <td>Sì</td>\n",
              "      <td>mai</td>\n",
              "      <td>mai</td>\n",
              "      <td>mai</td>\n",
              "      <td>mai</td>\n",
              "      <td>mai</td>\n",
              "      <td>NaN</td>\n",
              "      <td>Instagram, Facebook, Twitter</td>\n",
              "      <td>Instagram</td>\n",
              "      <td>gossip, Notizie/cronaca/attualità, shopping on...</td>\n",
              "      <td>memes</td>\n",
              "      <td>Da un'app di news (es google news, apple news...)</td>\n",
              "      <td>gossip, Notizie/cronaca/attualità, shopping on...</td>\n",
              "      <td>il titolo</td>\n",
              "      <td>mai</td>\n",
              "      <td>famiglia</td>\n",
              "      <td>NaN</td>\n",
              "      <td>NaN</td>\n",
              "      <td>NaN</td>\n",
              "      <td>NaN</td>\n",
              "      <td>NaN</td>\n",
              "      <td>generalmente si</td>\n",
              "      <td>generalmente si</td>\n",
              "      <td>si</td>\n",
              "      <td>poco</td>\n",
              "      <td>poco</td>\n",
              "      <td>poco</td>\n",
              "      <td>poco</td>\n",
              "      <td>poco</td>\n",
              "      <td>poco</td>\n",
              "      <td>Instagram</td>\n",
              "      <td>Notizie/cronaca/attualità</td>\n",
              "      <td>sopra i 50</td>\n",
              "      <td>non mi interessa</td>\n",
              "      <td>lo so, ma non mi interessa</td>\n",
              "    </tr>\n",
              "    <tr>\n",
              "      <th>1</th>\n",
              "      <td>4/1/2019 19:47:19</td>\n",
              "      <td>tra 55 e 64</td>\n",
              "      <td>F</td>\n",
              "      <td>italiana</td>\n",
              "      <td>NaN</td>\n",
              "      <td>Pescara</td>\n",
              "      <td>Roma</td>\n",
              "      <td>laurea magistrale a ciclo unico</td>\n",
              "      <td>italiana</td>\n",
              "      <td>NaN</td>\n",
              "      <td>Venezia</td>\n",
              "      <td>italiana</td>\n",
              "      <td>NaN</td>\n",
              "      <td>Arezzo</td>\n",
              "      <td>Sì</td>\n",
              "      <td>Tutti i giorni</td>\n",
              "      <td>raramente</td>\n",
              "      <td>raramente</td>\n",
              "      <td>spesso</td>\n",
              "      <td>raramente</td>\n",
              "      <td>sempre</td>\n",
              "      <td>mai</td>\n",
              "      <td>Internet</td>\n",
              "      <td>più di un'ora</td>\n",
              "      <td>violenze e/o abusi sulle donne, violenze e/o a...</td>\n",
              "      <td>settimanalmente</td>\n",
              "      <td>ecologia/clima, curiosità scientifiche, tecnol...</td>\n",
              "      <td>commenti e discussioni riguardo la notizia</td>\n",
              "      <td>da un giornale o rivista online, dalla tv</td>\n",
              "      <td>Sì</td>\n",
              "      <td>sempre</td>\n",
              "      <td>sempre</td>\n",
              "      <td>sempre</td>\n",
              "      <td>sempre</td>\n",
              "      <td>raramente</td>\n",
              "      <td>NaN</td>\n",
              "      <td>Facebook, Twitter</td>\n",
              "      <td>Twitter</td>\n",
              "      <td>Notizie/cronaca/attualità, politica, scienza (...</td>\n",
              "      <td>NaN</td>\n",
              "      <td>Da un motore di ricerca online (es google, bin...</td>\n",
              "      <td>Notizie/cronaca/attualità, politica, scienza (...</td>\n",
              "      <td>commenti e discussioni riguardo la notizia</td>\n",
              "      <td>spesso</td>\n",
              "      <td>tutti, attraverso post pubblici</td>\n",
              "      <td>NaN</td>\n",
              "      <td>NaN</td>\n",
              "      <td>NaN</td>\n",
              "      <td>NaN</td>\n",
              "      <td>NaN</td>\n",
              "      <td>dipende dal giornale o dalla fonte</td>\n",
              "      <td>dipende dalla notizia</td>\n",
              "      <td>dipende</td>\n",
              "      <td>abbastanza</td>\n",
              "      <td>molto</td>\n",
              "      <td>molto</td>\n",
              "      <td>molto</td>\n",
              "      <td>molto</td>\n",
              "      <td>abbastanza</td>\n",
              "      <td>blog e siti vari</td>\n",
              "      <td>politica, scienza, cibo, salute</td>\n",
              "      <td>sopra i 50</td>\n",
              "      <td>si</td>\n",
              "      <td>si</td>\n",
              "    </tr>\n",
              "    <tr>\n",
              "      <th>2</th>\n",
              "      <td>4/2/2019 15:32:41</td>\n",
              "      <td>tra 45 e 54</td>\n",
              "      <td>M</td>\n",
              "      <td>europea</td>\n",
              "      <td>NaN</td>\n",
              "      <td>NaN</td>\n",
              "      <td>Fermo</td>\n",
              "      <td>laurea di primo livello</td>\n",
              "      <td>europea</td>\n",
              "      <td>NaN</td>\n",
              "      <td>NaN</td>\n",
              "      <td>europea</td>\n",
              "      <td>NaN</td>\n",
              "      <td>NaN</td>\n",
              "      <td>Sì</td>\n",
              "      <td>Tutti i giorni</td>\n",
              "      <td>raramente</td>\n",
              "      <td>raramente</td>\n",
              "      <td>raramente</td>\n",
              "      <td>raramente</td>\n",
              "      <td>raramente</td>\n",
              "      <td>mai</td>\n",
              "      <td>Radio</td>\n",
              "      <td>circa 30 minuti</td>\n",
              "      <td>violenze e/o abusi sui minori, catastrofi natu...</td>\n",
              "      <td>settimanalmente</td>\n",
              "      <td>ecologia/clima, astronomia, curiosità scientif...</td>\n",
              "      <td>le immagini, i video, il fatto che fosse molto...</td>\n",
              "      <td>da internet, da un giornale o rivista cartacea...</td>\n",
              "      <td>No</td>\n",
              "      <td>NaN</td>\n",
              "      <td>NaN</td>\n",
              "      <td>NaN</td>\n",
              "      <td>NaN</td>\n",
              "      <td>NaN</td>\n",
              "      <td>NaN</td>\n",
              "      <td>NaN</td>\n",
              "      <td>NaN</td>\n",
              "      <td>NaN</td>\n",
              "      <td>NaN</td>\n",
              "      <td>NaN</td>\n",
              "      <td>NaN</td>\n",
              "      <td>NaN</td>\n",
              "      <td>NaN</td>\n",
              "      <td>NaN</td>\n",
              "      <td>NaN</td>\n",
              "      <td>NaN</td>\n",
              "      <td>NaN</td>\n",
              "      <td>NaN</td>\n",
              "      <td>NaN</td>\n",
              "      <td>dipende dal giornale o dalla fonte</td>\n",
              "      <td>generalmente si</td>\n",
              "      <td>dipende</td>\n",
              "      <td>abbastanza</td>\n",
              "      <td>poco</td>\n",
              "      <td>molto</td>\n",
              "      <td>abbastanza</td>\n",
              "      <td>per niente</td>\n",
              "      <td>poco</td>\n",
              "      <td>Facebook, Twitter, Reddit</td>\n",
              "      <td>sport, politica, scienza, moda, cibo</td>\n",
              "      <td>tra 41 e 50</td>\n",
              "      <td>no</td>\n",
              "      <td>no</td>\n",
              "    </tr>\n",
              "    <tr>\n",
              "      <th>3</th>\n",
              "      <td>4/3/2019 20:22:05</td>\n",
              "      <td>tra 18 e 19</td>\n",
              "      <td>F</td>\n",
              "      <td>altra</td>\n",
              "      <td>NaN</td>\n",
              "      <td>NaN</td>\n",
              "      <td>Roma</td>\n",
              "      <td>licenza di scuola secondaria di primo grado</td>\n",
              "      <td>altra</td>\n",
              "      <td>NaN</td>\n",
              "      <td>NaN</td>\n",
              "      <td>altra</td>\n",
              "      <td>NaN</td>\n",
              "      <td>NaN</td>\n",
              "      <td>Sì</td>\n",
              "      <td>Più di due volte a settimana</td>\n",
              "      <td>mai</td>\n",
              "      <td>spesso</td>\n",
              "      <td>raramente</td>\n",
              "      <td>raramente</td>\n",
              "      <td>sempre</td>\n",
              "      <td>mai, raramente</td>\n",
              "      <td>Internet</td>\n",
              "      <td>meno di 10 minuti</td>\n",
              "      <td>terrorismo, violenze e/o abusi sulle donne, vi...</td>\n",
              "      <td>praticamente mai</td>\n",
              "      <td>NaN</td>\n",
              "      <td>commenti e discussioni riguardo la notizia</td>\n",
              "      <td>da internet</td>\n",
              "      <td>Sì</td>\n",
              "      <td>spesso</td>\n",
              "      <td>spesso</td>\n",
              "      <td>spesso</td>\n",
              "      <td>sempre</td>\n",
              "      <td>mai</td>\n",
              "      <td>NaN</td>\n",
              "      <td>Instagram</td>\n",
              "      <td>Instagram</td>\n",
              "      <td>gossip, Notizie/cronaca/attualità, moda, film ...</td>\n",
              "      <td>memes</td>\n",
              "      <td>Da un motore di ricerca online (es google, bin...</td>\n",
              "      <td>gossip, shopping online, moda, cibo, film - se...</td>\n",
              "      <td>il titolo, l'argomento che tratta</td>\n",
              "      <td>raramente</td>\n",
              "      <td>famiglia, gruppi con lo stesso interesse</td>\n",
              "      <td>NaN</td>\n",
              "      <td>NaN</td>\n",
              "      <td>NaN</td>\n",
              "      <td>NaN</td>\n",
              "      <td>NaN</td>\n",
              "      <td>dipende dal giornale o dalla fonte</td>\n",
              "      <td>dipende dalla notizia</td>\n",
              "      <td>no</td>\n",
              "      <td>per niente</td>\n",
              "      <td>abbastanza</td>\n",
              "      <td>per niente</td>\n",
              "      <td>abbastanza</td>\n",
              "      <td>per niente</td>\n",
              "      <td>per niente</td>\n",
              "      <td>Instagram, Facebook, messaggistica istantanea ...</td>\n",
              "      <td>politica, religioni, associazioni religiose, g...</td>\n",
              "      <td>tra 15 e 20</td>\n",
              "      <td>no</td>\n",
              "      <td>si</td>\n",
              "    </tr>\n",
              "    <tr>\n",
              "      <th>4</th>\n",
              "      <td>4/4/2019 16:35:20</td>\n",
              "      <td>tra 55 e 64</td>\n",
              "      <td>M</td>\n",
              "      <td>italiana</td>\n",
              "      <td>Sì</td>\n",
              "      <td>Viterbo</td>\n",
              "      <td>Perugia</td>\n",
              "      <td>laurea vecchio ordinamento</td>\n",
              "      <td>italiana</td>\n",
              "      <td>Sì</td>\n",
              "      <td>Viterbo</td>\n",
              "      <td>italiana</td>\n",
              "      <td>Sì</td>\n",
              "      <td>Viterbo</td>\n",
              "      <td>Sì</td>\n",
              "      <td>Tutti i giorni</td>\n",
              "      <td>raramente</td>\n",
              "      <td>spesso</td>\n",
              "      <td>raramente</td>\n",
              "      <td>raramente</td>\n",
              "      <td>sempre</td>\n",
              "      <td>mai</td>\n",
              "      <td>Internet</td>\n",
              "      <td>circa 30 minuti</td>\n",
              "      <td>bullismo, violenze e/o abusi sulle donne, viol...</td>\n",
              "      <td>giornalmente</td>\n",
              "      <td>chimica, tecnologia, innovazione, biologia</td>\n",
              "      <td>i titoli delle testate giornalistiche, i video</td>\n",
              "      <td>dalla tv, da una persona che ne parlava</td>\n",
              "      <td>Sì</td>\n",
              "      <td>sempre</td>\n",
              "      <td>raramente</td>\n",
              "      <td>sempre</td>\n",
              "      <td>sempre</td>\n",
              "      <td>mai</td>\n",
              "      <td>NaN</td>\n",
              "      <td>Altro</td>\n",
              "      <td>Altro</td>\n",
              "      <td>Notizie/cronaca/attualità, scienza (scoperte s...</td>\n",
              "      <td>news</td>\n",
              "      <td>Non ne ricevo</td>\n",
              "      <td>altro</td>\n",
              "      <td>il titolo, l'argomento che tratta</td>\n",
              "      <td>raramente</td>\n",
              "      <td>famiglia, amici più stretti</td>\n",
              "      <td>NaN</td>\n",
              "      <td>NaN</td>\n",
              "      <td>NaN</td>\n",
              "      <td>NaN</td>\n",
              "      <td>NaN</td>\n",
              "      <td>dipende dal giornale o dalla fonte</td>\n",
              "      <td>dipende dalla notizia</td>\n",
              "      <td>si</td>\n",
              "      <td>poco</td>\n",
              "      <td>abbastanza</td>\n",
              "      <td>abbastanza</td>\n",
              "      <td>abbastanza</td>\n",
              "      <td>poco</td>\n",
              "      <td>per niente</td>\n",
              "      <td>blog e siti vari</td>\n",
              "      <td>Notizie/cronaca/attualità, scienza, salute, te...</td>\n",
              "      <td>tra 15 e 20</td>\n",
              "      <td>si</td>\n",
              "      <td>si</td>\n",
              "    </tr>\n",
              "  </tbody>\n",
              "</table>\n",
              "</div>"
            ],
            "text/plain": [
              "           Timestamp  ... Sai quali pericoli potrebbero esserci nel postare le foto sui social?\n",
              "0  4/1/2019 19:34:25  ...                         lo so, ma non mi interessa                   \n",
              "1  4/1/2019 19:47:19  ...                                                 si                   \n",
              "2  4/2/2019 15:32:41  ...                                                 no                   \n",
              "3  4/3/2019 20:22:05  ...                                                 si                   \n",
              "4  4/4/2019 16:35:20  ...                                                 si                   \n",
              "\n",
              "[5 rows x 64 columns]"
            ]
          },
          "metadata": {
            "tags": []
          },
          "execution_count": 5
        }
      ]
    },
    {
      "cell_type": "markdown",
      "metadata": {
        "id": "bJOYMMk93sXE",
        "colab_type": "text"
      },
      "source": [
        "# GET data from URL\n",
        "Carica il file del questionario dalla URL (shared readeable file)"
      ]
    },
    {
      "cell_type": "code",
      "metadata": {
        "id": "VqV02vrl1k52",
        "colab_type": "code",
        "colab": {
          "base_uri": "https://localhost:8080/",
          "height": 836
        },
        "outputId": "e03a1753-1ed2-43bc-a7e0-39cfe10940a5"
      },
      "source": [
        "import pandas as pd\n",
        "url_csv_file = \"https://docs.google.com/spreadsheet/ccc?key=19zCRezCS3yIy6_Igzex2sotnNja2Ks57RonGX8W2R8I&output=csv\"\n",
        "df = pd.read_csv(url_csv_file)\n",
        "df.head()"
      ],
      "execution_count": 6,
      "outputs": [
        {
          "output_type": "execute_result",
          "data": {
            "text/html": [
              "<div>\n",
              "<style scoped>\n",
              "    .dataframe tbody tr th:only-of-type {\n",
              "        vertical-align: middle;\n",
              "    }\n",
              "\n",
              "    .dataframe tbody tr th {\n",
              "        vertical-align: top;\n",
              "    }\n",
              "\n",
              "    .dataframe thead th {\n",
              "        text-align: right;\n",
              "    }\n",
              "</style>\n",
              "<table border=\"1\" class=\"dataframe\">\n",
              "  <thead>\n",
              "    <tr style=\"text-align: right;\">\n",
              "      <th></th>\n",
              "      <th>Timestamp</th>\n",
              "      <th>Età in anni compiuti</th>\n",
              "      <th>Sesso</th>\n",
              "      <th>Cittadinanza</th>\n",
              "      <th>Sei nato in Italia?</th>\n",
              "      <th>Provincia di nascita</th>\n",
              "      <th>Provincia di dimora abituale</th>\n",
              "      <th>Titolo di Studio più alto conseguito</th>\n",
              "      <th>Cittadinanza del padre</th>\n",
              "      <th>Tuo padre è nato in Italia?</th>\n",
              "      <th>Provincia di nascita del padre</th>\n",
              "      <th>Cittadinanza della madre</th>\n",
              "      <th>Tua madre è nata in Italia?</th>\n",
              "      <th>Provincia di nascita della madre</th>\n",
              "      <th>Negli ultimi 12 mesi ti è mai capitato di cercare informazioni?</th>\n",
              "      <th>Negli ultimi 12 mesi quante volte hai cercato informazioni?</th>\n",
              "      <th>Negli ultimi 12 mesi che strumenti hai utilizzato per cercare informazioni?  [Carta (es. giornali, riviste, ecc.)]</th>\n",
              "      <th>Negli ultimi 12 mesi che strumenti hai utilizzato per cercare informazioni?  [Tv (es. telegiornali, talkshow)]</th>\n",
              "      <th>Negli ultimi 12 mesi che strumenti hai utilizzato per cercare informazioni?  [Radio (es. giornaleradio)]</th>\n",
              "      <th>Negli ultimi 12 mesi che strumenti hai utilizzato per cercare informazioni?  [Persone (amici, scuola, famiglia)]</th>\n",
              "      <th>Negli ultimi 12 mesi che strumenti hai utilizzato per cercare informazioni?  [Internet]</th>\n",
              "      <th>Negli ultimi 12 mesi che strumenti hai utilizzato per cercare informazioni?  [Altro]</th>\n",
              "      <th>Tra gli strumenti che negli ultimi 12 mesi hai utilizzato per cercare informazioni, qual è quello che preferisci usare?</th>\n",
              "      <th>Negli ultimi 12 mesi, quando hai cercato notizie, quanto tempo hai impiegato mediamente al giorno nella ricerca?</th>\n",
              "      <th>Quali notizie ti fanno paura?</th>\n",
              "      <th>Con che frequenza ti informi su argomenti riguardanti la scienza?</th>\n",
              "      <th>Quali argomenti scientifici ti attirano di più</th>\n",
              "      <th>Quando hai saputo della strage in discoteca a Corinaldo al concerto di Sfera Ebbasta, cosa ha catturato la tua attenzione?</th>\n",
              "      <th>Da dove hai appreso della caduta del ponte Morandi a Genova?</th>\n",
              "      <th>Hai mai usato internet?</th>\n",
              "      <th>Sul web, dove prendi le informazioni? [testate giornalistiche online]</th>\n",
              "      <th>Sul web, dove prendi le informazioni? [social]</th>\n",
              "      <th>Sul web, dove prendi le informazioni? [motori di ricerca (es google, safari, ping]</th>\n",
              "      <th>Sul web, dove prendi le informazioni? [siti specifici che conosco]</th>\n",
              "      <th>Sul web, dove prendi le informazioni? [app dedicate]</th>\n",
              "      <th>Sul web, dove prendi le informazioni? [newsletter via email]</th>\n",
              "      <th>Quali social usi di più per informarti?</th>\n",
              "      <th>Tra i social che usi di più anche per informati, quale preferisci?</th>\n",
              "      <th>Cosa cerchi di più su internet?</th>\n",
              "      <th>Qual è la prima cosa che vai a vedere sui social?</th>\n",
              "      <th>Da dove ricevi notizie senza cercarle quando sei on line?</th>\n",
              "      <th>Quali argomenti ti vengono suggeriti mentre sei online</th>\n",
              "      <th>Cosa attrae innanzitutto la tua attenzione su una notizia on line?</th>\n",
              "      <th>Condividi le notizie?</th>\n",
              "      <th>Con chi le condividi?</th>\n",
              "      <th>Come condividi le notizie che leggi?</th>\n",
              "      <th>Quando condividi lo fai ...  [Perché è una notizia che mi ha impressionato]</th>\n",
              "      <th>Quando condividi lo fai ...  [Per farlo sapere a tutti]</th>\n",
              "      <th>Quando condividi lo fai ...  [Per commentare]</th>\n",
              "      <th>Quando condividi lo fai ...  [Perché lo fanno tutti]</th>\n",
              "      <th>Secondo te ci si può fidare di ciò che scrivono i giornalisti?</th>\n",
              "      <th>Secondo te ci si può fidare delle notizie che si trovano su internet?</th>\n",
              "      <th>Ritieni che esistano sistemi sicuri per capire con certezza se una notizia è vera o no?</th>\n",
              "      <th>Cosa ti fa capire se una notizia è attendibile? [La notizia in sé, l'argomento che tratta]</th>\n",
              "      <th>Cosa ti fa capire se una notizia è attendibile? [Se riporta le fonti da cui è tratto l'argomento]</th>\n",
              "      <th>Cosa ti fa capire se una notizia è attendibile? [Il modo in cui è raccontata la notizia]</th>\n",
              "      <th>Cosa ti fa capire se una notizia è attendibile? [La fonte che la pubblica (il sito, il giornale, il social)]</th>\n",
              "      <th>Cosa ti fa capire se una notizia è attendibile? [La forma e lo stile]</th>\n",
              "      <th>Cosa ti fa capire se una notizia è attendibile? [altro]</th>\n",
              "      <th>Secondo te dove si diffondono di più le fake news?</th>\n",
              "      <th>Quali sono gli argormenti fake che attecchiscono di più?</th>\n",
              "      <th>Secondo te a che età si è più inclini a condividere una fake news?</th>\n",
              "      <th>Sai cos'è la reputazione digitale?</th>\n",
              "      <th>Sai quali pericoli potrebbero esserci nel postare le foto sui social?</th>\n",
              "    </tr>\n",
              "  </thead>\n",
              "  <tbody>\n",
              "    <tr>\n",
              "      <th>0</th>\n",
              "      <td>4/1/2019 19:34:25</td>\n",
              "      <td>tra 35 e 44</td>\n",
              "      <td>F</td>\n",
              "      <td>italiana</td>\n",
              "      <td>NaN</td>\n",
              "      <td>Roma</td>\n",
              "      <td>Roma</td>\n",
              "      <td>scuola primaria</td>\n",
              "      <td>italiana</td>\n",
              "      <td>NaN</td>\n",
              "      <td>Belluno</td>\n",
              "      <td>italiana</td>\n",
              "      <td>NaN</td>\n",
              "      <td>Asti</td>\n",
              "      <td>Sì</td>\n",
              "      <td>Meno di una volta al mese</td>\n",
              "      <td>raramente</td>\n",
              "      <td>raramente</td>\n",
              "      <td>raramente</td>\n",
              "      <td>raramente</td>\n",
              "      <td>raramente</td>\n",
              "      <td>raramente</td>\n",
              "      <td>Radio</td>\n",
              "      <td>circa 30 minuti</td>\n",
              "      <td>bullismo</td>\n",
              "      <td>giornalmente</td>\n",
              "      <td>matematica, medicina, ecologia/clima</td>\n",
              "      <td>i titoli delle testate giornalistiche</td>\n",
              "      <td>da un social, da un'app di informazione, dalla tv</td>\n",
              "      <td>Sì</td>\n",
              "      <td>mai</td>\n",
              "      <td>mai</td>\n",
              "      <td>mai</td>\n",
              "      <td>mai</td>\n",
              "      <td>mai</td>\n",
              "      <td>NaN</td>\n",
              "      <td>Instagram, Facebook, Twitter</td>\n",
              "      <td>Instagram</td>\n",
              "      <td>gossip, Notizie/cronaca/attualità, shopping on...</td>\n",
              "      <td>memes</td>\n",
              "      <td>Da un'app di news (es google news, apple news...)</td>\n",
              "      <td>gossip, Notizie/cronaca/attualità, shopping on...</td>\n",
              "      <td>il titolo</td>\n",
              "      <td>mai</td>\n",
              "      <td>famiglia</td>\n",
              "      <td>NaN</td>\n",
              "      <td>NaN</td>\n",
              "      <td>NaN</td>\n",
              "      <td>NaN</td>\n",
              "      <td>NaN</td>\n",
              "      <td>generalmente si</td>\n",
              "      <td>generalmente si</td>\n",
              "      <td>si</td>\n",
              "      <td>poco</td>\n",
              "      <td>poco</td>\n",
              "      <td>poco</td>\n",
              "      <td>poco</td>\n",
              "      <td>poco</td>\n",
              "      <td>poco</td>\n",
              "      <td>Instagram</td>\n",
              "      <td>Notizie/cronaca/attualità</td>\n",
              "      <td>sopra i 50</td>\n",
              "      <td>non mi interessa</td>\n",
              "      <td>lo so, ma non mi interessa</td>\n",
              "    </tr>\n",
              "    <tr>\n",
              "      <th>1</th>\n",
              "      <td>4/1/2019 19:47:19</td>\n",
              "      <td>tra 55 e 64</td>\n",
              "      <td>F</td>\n",
              "      <td>italiana</td>\n",
              "      <td>NaN</td>\n",
              "      <td>Pescara</td>\n",
              "      <td>Roma</td>\n",
              "      <td>laurea magistrale a ciclo unico</td>\n",
              "      <td>italiana</td>\n",
              "      <td>NaN</td>\n",
              "      <td>Venezia</td>\n",
              "      <td>italiana</td>\n",
              "      <td>NaN</td>\n",
              "      <td>Arezzo</td>\n",
              "      <td>Sì</td>\n",
              "      <td>Tutti i giorni</td>\n",
              "      <td>raramente</td>\n",
              "      <td>raramente</td>\n",
              "      <td>spesso</td>\n",
              "      <td>raramente</td>\n",
              "      <td>sempre</td>\n",
              "      <td>mai</td>\n",
              "      <td>Internet</td>\n",
              "      <td>più di un'ora</td>\n",
              "      <td>violenze e/o abusi sulle donne, violenze e/o a...</td>\n",
              "      <td>settimanalmente</td>\n",
              "      <td>ecologia/clima, curiosità scientifiche, tecnol...</td>\n",
              "      <td>commenti e discussioni riguardo la notizia</td>\n",
              "      <td>da un giornale o rivista online, dalla tv</td>\n",
              "      <td>Sì</td>\n",
              "      <td>sempre</td>\n",
              "      <td>sempre</td>\n",
              "      <td>sempre</td>\n",
              "      <td>sempre</td>\n",
              "      <td>raramente</td>\n",
              "      <td>NaN</td>\n",
              "      <td>Facebook, Twitter</td>\n",
              "      <td>Twitter</td>\n",
              "      <td>Notizie/cronaca/attualità, politica, scienza (...</td>\n",
              "      <td>NaN</td>\n",
              "      <td>Da un motore di ricerca online (es google, bin...</td>\n",
              "      <td>Notizie/cronaca/attualità, politica, scienza (...</td>\n",
              "      <td>commenti e discussioni riguardo la notizia</td>\n",
              "      <td>spesso</td>\n",
              "      <td>tutti, attraverso post pubblici</td>\n",
              "      <td>NaN</td>\n",
              "      <td>NaN</td>\n",
              "      <td>NaN</td>\n",
              "      <td>NaN</td>\n",
              "      <td>NaN</td>\n",
              "      <td>dipende dal giornale o dalla fonte</td>\n",
              "      <td>dipende dalla notizia</td>\n",
              "      <td>dipende</td>\n",
              "      <td>abbastanza</td>\n",
              "      <td>molto</td>\n",
              "      <td>molto</td>\n",
              "      <td>molto</td>\n",
              "      <td>molto</td>\n",
              "      <td>abbastanza</td>\n",
              "      <td>blog e siti vari</td>\n",
              "      <td>politica, scienza, cibo, salute</td>\n",
              "      <td>sopra i 50</td>\n",
              "      <td>si</td>\n",
              "      <td>si</td>\n",
              "    </tr>\n",
              "    <tr>\n",
              "      <th>2</th>\n",
              "      <td>4/2/2019 15:32:41</td>\n",
              "      <td>tra 45 e 54</td>\n",
              "      <td>M</td>\n",
              "      <td>europea</td>\n",
              "      <td>NaN</td>\n",
              "      <td>NaN</td>\n",
              "      <td>Fermo</td>\n",
              "      <td>laurea di primo livello</td>\n",
              "      <td>europea</td>\n",
              "      <td>NaN</td>\n",
              "      <td>NaN</td>\n",
              "      <td>europea</td>\n",
              "      <td>NaN</td>\n",
              "      <td>NaN</td>\n",
              "      <td>Sì</td>\n",
              "      <td>Tutti i giorni</td>\n",
              "      <td>raramente</td>\n",
              "      <td>raramente</td>\n",
              "      <td>raramente</td>\n",
              "      <td>raramente</td>\n",
              "      <td>raramente</td>\n",
              "      <td>mai</td>\n",
              "      <td>Radio</td>\n",
              "      <td>circa 30 minuti</td>\n",
              "      <td>violenze e/o abusi sui minori, catastrofi natu...</td>\n",
              "      <td>settimanalmente</td>\n",
              "      <td>ecologia/clima, astronomia, curiosità scientif...</td>\n",
              "      <td>le immagini, i video, il fatto che fosse molto...</td>\n",
              "      <td>da internet, da un giornale o rivista cartacea...</td>\n",
              "      <td>No</td>\n",
              "      <td>NaN</td>\n",
              "      <td>NaN</td>\n",
              "      <td>NaN</td>\n",
              "      <td>NaN</td>\n",
              "      <td>NaN</td>\n",
              "      <td>NaN</td>\n",
              "      <td>NaN</td>\n",
              "      <td>NaN</td>\n",
              "      <td>NaN</td>\n",
              "      <td>NaN</td>\n",
              "      <td>NaN</td>\n",
              "      <td>NaN</td>\n",
              "      <td>NaN</td>\n",
              "      <td>NaN</td>\n",
              "      <td>NaN</td>\n",
              "      <td>NaN</td>\n",
              "      <td>NaN</td>\n",
              "      <td>NaN</td>\n",
              "      <td>NaN</td>\n",
              "      <td>NaN</td>\n",
              "      <td>dipende dal giornale o dalla fonte</td>\n",
              "      <td>generalmente si</td>\n",
              "      <td>dipende</td>\n",
              "      <td>abbastanza</td>\n",
              "      <td>poco</td>\n",
              "      <td>molto</td>\n",
              "      <td>abbastanza</td>\n",
              "      <td>per niente</td>\n",
              "      <td>poco</td>\n",
              "      <td>Facebook, Twitter, Reddit</td>\n",
              "      <td>sport, politica, scienza, moda, cibo</td>\n",
              "      <td>tra 41 e 50</td>\n",
              "      <td>no</td>\n",
              "      <td>no</td>\n",
              "    </tr>\n",
              "    <tr>\n",
              "      <th>3</th>\n",
              "      <td>4/3/2019 20:22:05</td>\n",
              "      <td>tra 18 e 19</td>\n",
              "      <td>F</td>\n",
              "      <td>altra</td>\n",
              "      <td>NaN</td>\n",
              "      <td>NaN</td>\n",
              "      <td>Roma</td>\n",
              "      <td>licenza di scuola secondaria di primo grado</td>\n",
              "      <td>altra</td>\n",
              "      <td>NaN</td>\n",
              "      <td>NaN</td>\n",
              "      <td>altra</td>\n",
              "      <td>NaN</td>\n",
              "      <td>NaN</td>\n",
              "      <td>Sì</td>\n",
              "      <td>Più di due volte a settimana</td>\n",
              "      <td>mai</td>\n",
              "      <td>spesso</td>\n",
              "      <td>raramente</td>\n",
              "      <td>raramente</td>\n",
              "      <td>sempre</td>\n",
              "      <td>mai, raramente</td>\n",
              "      <td>Internet</td>\n",
              "      <td>meno di 10 minuti</td>\n",
              "      <td>terrorismo, violenze e/o abusi sulle donne, vi...</td>\n",
              "      <td>praticamente mai</td>\n",
              "      <td>NaN</td>\n",
              "      <td>commenti e discussioni riguardo la notizia</td>\n",
              "      <td>da internet</td>\n",
              "      <td>Sì</td>\n",
              "      <td>spesso</td>\n",
              "      <td>spesso</td>\n",
              "      <td>spesso</td>\n",
              "      <td>sempre</td>\n",
              "      <td>mai</td>\n",
              "      <td>NaN</td>\n",
              "      <td>Instagram</td>\n",
              "      <td>Instagram</td>\n",
              "      <td>gossip, Notizie/cronaca/attualità, moda, film ...</td>\n",
              "      <td>memes</td>\n",
              "      <td>Da un motore di ricerca online (es google, bin...</td>\n",
              "      <td>gossip, shopping online, moda, cibo, film - se...</td>\n",
              "      <td>il titolo, l'argomento che tratta</td>\n",
              "      <td>raramente</td>\n",
              "      <td>famiglia, gruppi con lo stesso interesse</td>\n",
              "      <td>NaN</td>\n",
              "      <td>NaN</td>\n",
              "      <td>NaN</td>\n",
              "      <td>NaN</td>\n",
              "      <td>NaN</td>\n",
              "      <td>dipende dal giornale o dalla fonte</td>\n",
              "      <td>dipende dalla notizia</td>\n",
              "      <td>no</td>\n",
              "      <td>per niente</td>\n",
              "      <td>abbastanza</td>\n",
              "      <td>per niente</td>\n",
              "      <td>abbastanza</td>\n",
              "      <td>per niente</td>\n",
              "      <td>per niente</td>\n",
              "      <td>Instagram, Facebook, messaggistica istantanea ...</td>\n",
              "      <td>politica, religioni, associazioni religiose, g...</td>\n",
              "      <td>tra 15 e 20</td>\n",
              "      <td>no</td>\n",
              "      <td>si</td>\n",
              "    </tr>\n",
              "    <tr>\n",
              "      <th>4</th>\n",
              "      <td>4/4/2019 16:35:20</td>\n",
              "      <td>tra 55 e 64</td>\n",
              "      <td>M</td>\n",
              "      <td>italiana</td>\n",
              "      <td>Sì</td>\n",
              "      <td>Viterbo</td>\n",
              "      <td>Perugia</td>\n",
              "      <td>laurea vecchio ordinamento</td>\n",
              "      <td>italiana</td>\n",
              "      <td>Sì</td>\n",
              "      <td>Viterbo</td>\n",
              "      <td>italiana</td>\n",
              "      <td>Sì</td>\n",
              "      <td>Viterbo</td>\n",
              "      <td>Sì</td>\n",
              "      <td>Tutti i giorni</td>\n",
              "      <td>raramente</td>\n",
              "      <td>spesso</td>\n",
              "      <td>raramente</td>\n",
              "      <td>raramente</td>\n",
              "      <td>sempre</td>\n",
              "      <td>mai</td>\n",
              "      <td>Internet</td>\n",
              "      <td>circa 30 minuti</td>\n",
              "      <td>bullismo, violenze e/o abusi sulle donne, viol...</td>\n",
              "      <td>giornalmente</td>\n",
              "      <td>chimica, tecnologia, innovazione, biologia</td>\n",
              "      <td>i titoli delle testate giornalistiche, i video</td>\n",
              "      <td>dalla tv, da una persona che ne parlava</td>\n",
              "      <td>Sì</td>\n",
              "      <td>sempre</td>\n",
              "      <td>raramente</td>\n",
              "      <td>sempre</td>\n",
              "      <td>sempre</td>\n",
              "      <td>mai</td>\n",
              "      <td>NaN</td>\n",
              "      <td>Altro</td>\n",
              "      <td>Altro</td>\n",
              "      <td>Notizie/cronaca/attualità, scienza (scoperte s...</td>\n",
              "      <td>news</td>\n",
              "      <td>Non ne ricevo</td>\n",
              "      <td>altro</td>\n",
              "      <td>il titolo, l'argomento che tratta</td>\n",
              "      <td>raramente</td>\n",
              "      <td>famiglia, amici più stretti</td>\n",
              "      <td>NaN</td>\n",
              "      <td>NaN</td>\n",
              "      <td>NaN</td>\n",
              "      <td>NaN</td>\n",
              "      <td>NaN</td>\n",
              "      <td>dipende dal giornale o dalla fonte</td>\n",
              "      <td>dipende dalla notizia</td>\n",
              "      <td>si</td>\n",
              "      <td>poco</td>\n",
              "      <td>abbastanza</td>\n",
              "      <td>abbastanza</td>\n",
              "      <td>abbastanza</td>\n",
              "      <td>poco</td>\n",
              "      <td>per niente</td>\n",
              "      <td>blog e siti vari</td>\n",
              "      <td>Notizie/cronaca/attualità, scienza, salute, te...</td>\n",
              "      <td>tra 15 e 20</td>\n",
              "      <td>si</td>\n",
              "      <td>si</td>\n",
              "    </tr>\n",
              "  </tbody>\n",
              "</table>\n",
              "</div>"
            ],
            "text/plain": [
              "           Timestamp  ... Sai quali pericoli potrebbero esserci nel postare le foto sui social?\n",
              "0  4/1/2019 19:34:25  ...                         lo so, ma non mi interessa                   \n",
              "1  4/1/2019 19:47:19  ...                                                 si                   \n",
              "2  4/2/2019 15:32:41  ...                                                 no                   \n",
              "3  4/3/2019 20:22:05  ...                                                 si                   \n",
              "4  4/4/2019 16:35:20  ...                                                 si                   \n",
              "\n",
              "[5 rows x 64 columns]"
            ]
          },
          "metadata": {
            "tags": []
          },
          "execution_count": 6
        }
      ]
    },
    {
      "cell_type": "markdown",
      "metadata": {
        "id": "5VkN7wXlCkxW",
        "colab_type": "text"
      },
      "source": [
        "# Look into data"
      ]
    },
    {
      "cell_type": "code",
      "metadata": {
        "id": "hfxujQ-SBfCK",
        "colab_type": "code",
        "colab": {
          "base_uri": "https://localhost:8080/",
          "height": 1190
        },
        "outputId": "471700da-f368-4f1a-89ee-a5ce08c845ba"
      },
      "source": [
        "df.info()"
      ],
      "execution_count": 4,
      "outputs": [
        {
          "output_type": "stream",
          "text": [
            "<class 'pandas.core.frame.DataFrame'>\n",
            "RangeIndex: 960 entries, 0 to 959\n",
            "Data columns (total 64 columns):\n",
            "Timestamp                                                                                                                     960 non-null object\n",
            "Età in anni compiuti                                                                                                          960 non-null object\n",
            "Sesso                                                                                                                         960 non-null object\n",
            "Cittadinanza                                                                                                                  960 non-null object\n",
            "Sei nato in Italia?                                                                                                           922 non-null object\n",
            "Provincia di nascita                                                                                                          905 non-null object\n",
            "Provincia di dimora abituale                                                                                                  960 non-null object\n",
            "Titolo di Studio più alto conseguito                                                                                          960 non-null object\n",
            "Cittadinanza del padre                                                                                                        960 non-null object\n",
            "Tuo padre è nato in Italia?                                                                                                   895 non-null object\n",
            "Provincia di nascita del padre                                                                                                870 non-null object\n",
            "Cittadinanza della madre                                                                                                      960 non-null object\n",
            "Tua madre è nata in Italia?                                                                                                   885 non-null object\n",
            "Provincia di nascita della madre                                                                                              852 non-null object\n",
            "Negli ultimi 12 mesi ti è mai capitato di cercare informazioni?                                                               960 non-null object\n",
            "Negli ultimi 12 mesi quante volte hai cercato informazioni?                                                                   932 non-null object\n",
            "Negli ultimi 12 mesi che strumenti hai utilizzato per cercare informazioni?  [Carta (es. giornali, riviste, ecc.)]            932 non-null object\n",
            "Negli ultimi 12 mesi che strumenti hai utilizzato per cercare informazioni?  [Tv (es. telegiornali, talkshow)]                932 non-null object\n",
            "Negli ultimi 12 mesi che strumenti hai utilizzato per cercare informazioni?  [Radio (es. giornaleradio)]                      932 non-null object\n",
            "Negli ultimi 12 mesi che strumenti hai utilizzato per cercare informazioni?  [Persone (amici, scuola, famiglia)]              932 non-null object\n",
            "Negli ultimi 12 mesi che strumenti hai utilizzato per cercare informazioni?  [Internet]                                       932 non-null object\n",
            "Negli ultimi 12 mesi che strumenti hai utilizzato per cercare informazioni?  [Altro]                                          932 non-null object\n",
            "Tra gli strumenti che negli ultimi 12 mesi hai utilizzato per cercare informazioni, qual è quello che preferisci usare?       932 non-null object\n",
            "Negli ultimi 12 mesi, quando hai cercato notizie, quanto tempo hai impiegato mediamente al giorno nella ricerca?              932 non-null object\n",
            "Quali notizie ti fanno paura?                                                                                                 932 non-null object\n",
            "Con che frequenza ti informi su argomenti riguardanti la scienza?                                                             932 non-null object\n",
            "Quali argomenti scientifici ti attirano di più                                                                                776 non-null object\n",
            "Quando hai saputo della strage in discoteca a Corinaldo al concerto di Sfera Ebbasta, cosa ha catturato la tua attenzione?    932 non-null object\n",
            "Da dove hai appreso della caduta del ponte Morandi a Genova?                                                                  932 non-null object\n",
            "Hai mai usato internet?                                                                                                       932 non-null object\n",
            "Sul web, dove prendi le informazioni? [testate giornalistiche online]                                                         931 non-null object\n",
            "Sul web, dove prendi le informazioni? [social]                                                                                931 non-null object\n",
            "Sul web, dove prendi le informazioni? [motori di ricerca (es google, safari, ping]                                            931 non-null object\n",
            "Sul web, dove prendi le informazioni? [siti specifici che conosco]                                                            931 non-null object\n",
            "Sul web, dove prendi le informazioni? [app dedicate]                                                                          931 non-null object\n",
            "Sul web, dove prendi le informazioni? [newsletter via email]                                                                  923 non-null object\n",
            "Quali social usi di più per informarti?                                                                                       931 non-null object\n",
            "Tra i social che usi di più anche per informati, quale preferisci?                                                            931 non-null object\n",
            "Cosa cerchi di più su internet?                                                                                               931 non-null object\n",
            "Qual è la prima cosa che vai a vedere sui social?                                                                             930 non-null object\n",
            "Da dove ricevi notizie senza cercarle quando sei on line?                                                                     931 non-null object\n",
            "Quali argomenti ti vengono suggeriti mentre sei online                                                                        931 non-null object\n",
            "Cosa attrae innanzitutto la tua attenzione su una notizia on line?                                                            931 non-null object\n",
            "Condividi le notizie?                                                                                                         931 non-null object\n",
            "Con chi le condividi?                                                                                                         777 non-null object\n",
            "Come condividi le notizie che leggi?                                                                                          767 non-null object\n",
            "Quando condividi lo fai ...  [Perché è una notizia che mi ha impressionato]                                                   767 non-null object\n",
            "Quando condividi lo fai ...  [Per farlo sapere a tutti]                                                                       767 non-null object\n",
            "Quando condividi lo fai ...  [Per commentare]                                                                                 767 non-null object\n",
            "Quando condividi lo fai ...  [Perché lo fanno tutti]                                                                          767 non-null object\n",
            "Secondo te ci si può fidare di ciò che scrivono i giornalisti?                                                                932 non-null object\n",
            "Secondo te ci si può fidare delle notizie che si trovano su internet?                                                         932 non-null object\n",
            "Ritieni che esistano sistemi sicuri per capire con certezza se una notizia è vera o no?                                       932 non-null object\n",
            "Cosa ti fa capire se una notizia è attendibile? [La notizia in sé, l'argomento che tratta]                                    932 non-null object\n",
            "Cosa ti fa capire se una notizia è attendibile? [Se riporta le fonti da cui è tratto l'argomento]                             932 non-null object\n",
            "Cosa ti fa capire se una notizia è attendibile? [Il modo in cui è raccontata la notizia]                                      932 non-null object\n",
            "Cosa ti fa capire se una notizia è attendibile? [La fonte che la pubblica (il sito, il giornale, il social)]                  932 non-null object\n",
            "Cosa ti fa capire se una notizia è attendibile? [La forma e lo stile]                                                         932 non-null object\n",
            "Cosa ti fa capire se una notizia è attendibile? [altro]                                                                       932 non-null object\n",
            "Secondo te dove si diffondono di più le fake news?                                                                            932 non-null object\n",
            "Quali sono gli argormenti fake che attecchiscono di più?                                                                      932 non-null object\n",
            "Secondo te a che età si è più inclini a condividere una fake news?                                                            932 non-null object\n",
            "Sai cos'è la reputazione digitale?                                                                                            932 non-null object\n",
            "Sai quali pericoli potrebbero esserci nel postare le foto sui social?                                                         932 non-null object\n",
            "dtypes: object(64)\n",
            "memory usage: 480.1+ KB\n"
          ],
          "name": "stdout"
        }
      ]
    },
    {
      "cell_type": "code",
      "metadata": {
        "id": "PMc7GDerHocC",
        "colab_type": "code",
        "colab": {
          "base_uri": "https://localhost:8080/",
          "height": 482
        },
        "outputId": "a5e9c535-ca68-4d62-9e4e-4ea23c6d12f2"
      },
      "source": [
        "df.describe()"
      ],
      "execution_count": 19,
      "outputs": [
        {
          "output_type": "execute_result",
          "data": {
            "text/html": [
              "<div>\n",
              "<style scoped>\n",
              "    .dataframe tbody tr th:only-of-type {\n",
              "        vertical-align: middle;\n",
              "    }\n",
              "\n",
              "    .dataframe tbody tr th {\n",
              "        vertical-align: top;\n",
              "    }\n",
              "\n",
              "    .dataframe thead th {\n",
              "        text-align: right;\n",
              "    }\n",
              "</style>\n",
              "<table border=\"1\" class=\"dataframe\">\n",
              "  <thead>\n",
              "    <tr style=\"text-align: right;\">\n",
              "      <th></th>\n",
              "      <th>Timestamp</th>\n",
              "      <th>Età in anni compiuti</th>\n",
              "      <th>Sesso</th>\n",
              "      <th>Cittadinanza</th>\n",
              "      <th>Sei nato in Italia?</th>\n",
              "      <th>Provincia di nascita</th>\n",
              "      <th>Provincia di dimora abituale</th>\n",
              "      <th>Titolo di Studio più alto conseguito</th>\n",
              "      <th>Cittadinanza del padre</th>\n",
              "      <th>Tuo padre è nato in Italia?</th>\n",
              "      <th>Provincia di nascita del padre</th>\n",
              "      <th>Cittadinanza della madre</th>\n",
              "      <th>Tua madre è nata in Italia?</th>\n",
              "      <th>Provincia di nascita della madre</th>\n",
              "      <th>Negli ultimi 12 mesi ti è mai capitato di cercare informazioni?</th>\n",
              "      <th>Negli ultimi 12 mesi quante volte hai cercato informazioni?</th>\n",
              "      <th>Negli ultimi 12 mesi che strumenti hai utilizzato per cercare informazioni?  [Carta (es. giornali, riviste, ecc.)]</th>\n",
              "      <th>Negli ultimi 12 mesi che strumenti hai utilizzato per cercare informazioni?  [Tv (es. telegiornali, talkshow)]</th>\n",
              "      <th>Negli ultimi 12 mesi che strumenti hai utilizzato per cercare informazioni?  [Radio (es. giornaleradio)]</th>\n",
              "      <th>Negli ultimi 12 mesi che strumenti hai utilizzato per cercare informazioni?  [Persone (amici, scuola, famiglia)]</th>\n",
              "      <th>Negli ultimi 12 mesi che strumenti hai utilizzato per cercare informazioni?  [Internet]</th>\n",
              "      <th>Negli ultimi 12 mesi che strumenti hai utilizzato per cercare informazioni?  [Altro]</th>\n",
              "      <th>Tra gli strumenti che negli ultimi 12 mesi hai utilizzato per cercare informazioni, qual è quello che preferisci usare?</th>\n",
              "      <th>Negli ultimi 12 mesi, quando hai cercato notizie, quanto tempo hai impiegato mediamente al giorno nella ricerca?</th>\n",
              "      <th>Quali notizie ti fanno paura?</th>\n",
              "      <th>Con che frequenza ti informi su argomenti riguardanti la scienza?</th>\n",
              "      <th>Quali argomenti scientifici ti attirano di più</th>\n",
              "      <th>Quando hai saputo della strage in discoteca a Corinaldo al concerto di Sfera Ebbasta, cosa ha catturato la tua attenzione?</th>\n",
              "      <th>Da dove hai appreso della caduta del ponte Morandi a Genova?</th>\n",
              "      <th>Hai mai usato internet?</th>\n",
              "      <th>Sul web, dove prendi le informazioni? [testate giornalistiche online]</th>\n",
              "      <th>Sul web, dove prendi le informazioni? [social]</th>\n",
              "      <th>Sul web, dove prendi le informazioni? [motori di ricerca (es google, safari, ping]</th>\n",
              "      <th>Sul web, dove prendi le informazioni? [siti specifici che conosco]</th>\n",
              "      <th>Sul web, dove prendi le informazioni? [app dedicate]</th>\n",
              "      <th>Sul web, dove prendi le informazioni? [newsletter via email]</th>\n",
              "      <th>Quali social usi di più per informarti?</th>\n",
              "      <th>Tra i social che usi di più anche per informati, quale preferisci?</th>\n",
              "      <th>Cosa cerchi di più su internet?</th>\n",
              "      <th>Qual è la prima cosa che vai a vedere sui social?</th>\n",
              "      <th>Da dove ricevi notizie senza cercarle quando sei on line?</th>\n",
              "      <th>Quali argomenti ti vengono suggeriti mentre sei online</th>\n",
              "      <th>Cosa attrae innanzitutto la tua attenzione su una notizia on line?</th>\n",
              "      <th>Condividi le notizie?</th>\n",
              "      <th>Con chi le condividi?</th>\n",
              "      <th>Come condividi le notizie che leggi?</th>\n",
              "      <th>Quando condividi lo fai ...  [Perché è una notizia che mi ha impressionato]</th>\n",
              "      <th>Quando condividi lo fai ...  [Per farlo sapere a tutti]</th>\n",
              "      <th>Quando condividi lo fai ...  [Per commentare]</th>\n",
              "      <th>Quando condividi lo fai ...  [Perché lo fanno tutti]</th>\n",
              "      <th>Secondo te ci si può fidare di ciò che scrivono i giornalisti?</th>\n",
              "      <th>Secondo te ci si può fidare delle notizie che si trovano su internet?</th>\n",
              "      <th>Ritieni che esistano sistemi sicuri per capire con certezza se una notizia è vera o no?</th>\n",
              "      <th>Cosa ti fa capire se una notizia è attendibile? [La notizia in sé, l'argomento che tratta]</th>\n",
              "      <th>Cosa ti fa capire se una notizia è attendibile? [Se riporta le fonti da cui è tratto l'argomento]</th>\n",
              "      <th>Cosa ti fa capire se una notizia è attendibile? [Il modo in cui è raccontata la notizia]</th>\n",
              "      <th>Cosa ti fa capire se una notizia è attendibile? [La fonte che la pubblica (il sito, il giornale, il social)]</th>\n",
              "      <th>Cosa ti fa capire se una notizia è attendibile? [La forma e lo stile]</th>\n",
              "      <th>Cosa ti fa capire se una notizia è attendibile? [altro]</th>\n",
              "      <th>Secondo te dove si diffondono di più le fake news?</th>\n",
              "      <th>Quali sono gli argormenti fake che attecchiscono di più?</th>\n",
              "      <th>Secondo te a che età si è più inclini a condividere una fake news?</th>\n",
              "      <th>Sai cos'è la reputazione digitale?</th>\n",
              "      <th>Sai quali pericoli potrebbero esserci nel postare le foto sui social?</th>\n",
              "    </tr>\n",
              "  </thead>\n",
              "  <tbody>\n",
              "    <tr>\n",
              "      <th>count</th>\n",
              "      <td>960</td>\n",
              "      <td>960</td>\n",
              "      <td>960</td>\n",
              "      <td>960</td>\n",
              "      <td>922</td>\n",
              "      <td>905</td>\n",
              "      <td>960</td>\n",
              "      <td>960</td>\n",
              "      <td>960</td>\n",
              "      <td>895</td>\n",
              "      <td>870</td>\n",
              "      <td>960</td>\n",
              "      <td>885</td>\n",
              "      <td>852</td>\n",
              "      <td>960</td>\n",
              "      <td>932</td>\n",
              "      <td>932</td>\n",
              "      <td>932</td>\n",
              "      <td>932</td>\n",
              "      <td>932</td>\n",
              "      <td>932</td>\n",
              "      <td>932</td>\n",
              "      <td>932</td>\n",
              "      <td>932</td>\n",
              "      <td>932</td>\n",
              "      <td>932</td>\n",
              "      <td>776</td>\n",
              "      <td>932</td>\n",
              "      <td>932</td>\n",
              "      <td>932</td>\n",
              "      <td>931</td>\n",
              "      <td>931</td>\n",
              "      <td>931</td>\n",
              "      <td>931</td>\n",
              "      <td>931</td>\n",
              "      <td>923</td>\n",
              "      <td>931</td>\n",
              "      <td>931</td>\n",
              "      <td>931</td>\n",
              "      <td>930</td>\n",
              "      <td>931</td>\n",
              "      <td>931</td>\n",
              "      <td>931</td>\n",
              "      <td>931</td>\n",
              "      <td>777</td>\n",
              "      <td>767</td>\n",
              "      <td>767</td>\n",
              "      <td>767</td>\n",
              "      <td>767</td>\n",
              "      <td>767</td>\n",
              "      <td>932</td>\n",
              "      <td>932</td>\n",
              "      <td>932</td>\n",
              "      <td>932</td>\n",
              "      <td>932</td>\n",
              "      <td>932</td>\n",
              "      <td>932</td>\n",
              "      <td>932</td>\n",
              "      <td>932</td>\n",
              "      <td>932</td>\n",
              "      <td>932</td>\n",
              "      <td>932</td>\n",
              "      <td>932</td>\n",
              "      <td>932</td>\n",
              "    </tr>\n",
              "    <tr>\n",
              "      <th>unique</th>\n",
              "      <td>956</td>\n",
              "      <td>10</td>\n",
              "      <td>2</td>\n",
              "      <td>3</td>\n",
              "      <td>2</td>\n",
              "      <td>61</td>\n",
              "      <td>38</td>\n",
              "      <td>12</td>\n",
              "      <td>3</td>\n",
              "      <td>2</td>\n",
              "      <td>85</td>\n",
              "      <td>3</td>\n",
              "      <td>2</td>\n",
              "      <td>82</td>\n",
              "      <td>2</td>\n",
              "      <td>4</td>\n",
              "      <td>9</td>\n",
              "      <td>9</td>\n",
              "      <td>9</td>\n",
              "      <td>10</td>\n",
              "      <td>10</td>\n",
              "      <td>9</td>\n",
              "      <td>6</td>\n",
              "      <td>4</td>\n",
              "      <td>39</td>\n",
              "      <td>4</td>\n",
              "      <td>158</td>\n",
              "      <td>61</td>\n",
              "      <td>28</td>\n",
              "      <td>2</td>\n",
              "      <td>9</td>\n",
              "      <td>9</td>\n",
              "      <td>9</td>\n",
              "      <td>10</td>\n",
              "      <td>10</td>\n",
              "      <td>7</td>\n",
              "      <td>53</td>\n",
              "      <td>7</td>\n",
              "      <td>712</td>\n",
              "      <td>7</td>\n",
              "      <td>65</td>\n",
              "      <td>665</td>\n",
              "      <td>46</td>\n",
              "      <td>4</td>\n",
              "      <td>29</td>\n",
              "      <td>14</td>\n",
              "      <td>4</td>\n",
              "      <td>4</td>\n",
              "      <td>4</td>\n",
              "      <td>4</td>\n",
              "      <td>4</td>\n",
              "      <td>4</td>\n",
              "      <td>4</td>\n",
              "      <td>4</td>\n",
              "      <td>4</td>\n",
              "      <td>4</td>\n",
              "      <td>4</td>\n",
              "      <td>4</td>\n",
              "      <td>4</td>\n",
              "      <td>199</td>\n",
              "      <td>572</td>\n",
              "      <td>7</td>\n",
              "      <td>3</td>\n",
              "      <td>4</td>\n",
              "    </tr>\n",
              "    <tr>\n",
              "      <th>top</th>\n",
              "      <td>5/21/2019 16:32:41</td>\n",
              "      <td>tra 15 e 17</td>\n",
              "      <td>F</td>\n",
              "      <td>italiana</td>\n",
              "      <td>Sì</td>\n",
              "      <td>Roma</td>\n",
              "      <td>Roma</td>\n",
              "      <td>licenza di scuola secondaria di primo grado</td>\n",
              "      <td>italiana</td>\n",
              "      <td>Sì</td>\n",
              "      <td>Roma</td>\n",
              "      <td>italiana</td>\n",
              "      <td>Sì</td>\n",
              "      <td>Roma</td>\n",
              "      <td>Sì</td>\n",
              "      <td>Tutti i giorni</td>\n",
              "      <td>raramente</td>\n",
              "      <td>spesso</td>\n",
              "      <td>raramente</td>\n",
              "      <td>spesso</td>\n",
              "      <td>sempre</td>\n",
              "      <td>mai</td>\n",
              "      <td>Internet</td>\n",
              "      <td>circa 30 minuti</td>\n",
              "      <td>terrorismo, violenze e/o abusi sulle donne, vi...</td>\n",
              "      <td>settimanalmente</td>\n",
              "      <td>astronomia, curiosità scientifiche, tecnologia...</td>\n",
              "      <td>commenti e discussioni riguardo la notizia</td>\n",
              "      <td>dalla tv</td>\n",
              "      <td>Sì</td>\n",
              "      <td>spesso</td>\n",
              "      <td>spesso</td>\n",
              "      <td>sempre</td>\n",
              "      <td>spesso</td>\n",
              "      <td>mai</td>\n",
              "      <td>mai</td>\n",
              "      <td>Instagram, Youtube</td>\n",
              "      <td>Instagram</td>\n",
              "      <td>altro</td>\n",
              "      <td>foto</td>\n",
              "      <td>Non ne ricevo</td>\n",
              "      <td>altro</td>\n",
              "      <td>l'argomento che tratta</td>\n",
              "      <td>raramente</td>\n",
              "      <td>famiglia, amici più stretti</td>\n",
              "      <td>con un'app di messaggistica istantanea (whatsa...</td>\n",
              "      <td>molto</td>\n",
              "      <td>abbastanza</td>\n",
              "      <td>abbastanza</td>\n",
              "      <td>mai per questo</td>\n",
              "      <td>dipende dal giornale o dalla fonte</td>\n",
              "      <td>dipende dalla notizia</td>\n",
              "      <td>si</td>\n",
              "      <td>abbastanza</td>\n",
              "      <td>abbastanza</td>\n",
              "      <td>abbastanza</td>\n",
              "      <td>molto</td>\n",
              "      <td>poco</td>\n",
              "      <td>per niente</td>\n",
              "      <td>Facebook</td>\n",
              "      <td>Notizie/cronaca/attualità</td>\n",
              "      <td>tra 15 e 20</td>\n",
              "      <td>si</td>\n",
              "      <td>si</td>\n",
              "    </tr>\n",
              "    <tr>\n",
              "      <th>freq</th>\n",
              "      <td>2</td>\n",
              "      <td>361</td>\n",
              "      <td>599</td>\n",
              "      <td>924</td>\n",
              "      <td>903</td>\n",
              "      <td>474</td>\n",
              "      <td>580</td>\n",
              "      <td>553</td>\n",
              "      <td>897</td>\n",
              "      <td>868</td>\n",
              "      <td>322</td>\n",
              "      <td>887</td>\n",
              "      <td>850</td>\n",
              "      <td>317</td>\n",
              "      <td>932</td>\n",
              "      <td>516</td>\n",
              "      <td>488</td>\n",
              "      <td>438</td>\n",
              "      <td>377</td>\n",
              "      <td>533</td>\n",
              "      <td>597</td>\n",
              "      <td>391</td>\n",
              "      <td>782</td>\n",
              "      <td>411</td>\n",
              "      <td>144</td>\n",
              "      <td>358</td>\n",
              "      <td>39</td>\n",
              "      <td>170</td>\n",
              "      <td>511</td>\n",
              "      <td>921</td>\n",
              "      <td>402</td>\n",
              "      <td>371</td>\n",
              "      <td>431</td>\n",
              "      <td>362</td>\n",
              "      <td>412</td>\n",
              "      <td>563</td>\n",
              "      <td>200</td>\n",
              "      <td>387</td>\n",
              "      <td>8</td>\n",
              "      <td>255</td>\n",
              "      <td>106</td>\n",
              "      <td>26</td>\n",
              "      <td>305</td>\n",
              "      <td>442</td>\n",
              "      <td>198</td>\n",
              "      <td>265</td>\n",
              "      <td>353</td>\n",
              "      <td>286</td>\n",
              "      <td>269</td>\n",
              "      <td>661</td>\n",
              "      <td>725</td>\n",
              "      <td>658</td>\n",
              "      <td>326</td>\n",
              "      <td>447</td>\n",
              "      <td>442</td>\n",
              "      <td>369</td>\n",
              "      <td>423</td>\n",
              "      <td>395</td>\n",
              "      <td>349</td>\n",
              "      <td>57</td>\n",
              "      <td>49</td>\n",
              "      <td>261</td>\n",
              "      <td>468</td>\n",
              "      <td>823</td>\n",
              "    </tr>\n",
              "  </tbody>\n",
              "</table>\n",
              "</div>"
            ],
            "text/plain": [
              "                 Timestamp  ... Sai quali pericoli potrebbero esserci nel postare le foto sui social?\n",
              "count                  960  ...                                                932                   \n",
              "unique                 956  ...                                                  4                   \n",
              "top     5/21/2019 16:32:41  ...                                                 si                   \n",
              "freq                     2  ...                                                823                   \n",
              "\n",
              "[4 rows x 64 columns]"
            ]
          },
          "metadata": {
            "tags": []
          },
          "execution_count": 19
        }
      ]
    },
    {
      "cell_type": "code",
      "metadata": {
        "id": "-wAN8QsyDixe",
        "colab_type": "code",
        "colab": {
          "base_uri": "https://localhost:8080/",
          "height": 0
        },
        "outputId": "ee1f4a23-4616-420d-b20b-5454b9d74913"
      },
      "source": [
        "print(df['Cittadinanza'].value_counts())\n",
        "print(df['Sei nato in Italia?'].value_counts())"
      ],
      "execution_count": 25,
      "outputs": [
        {
          "output_type": "stream",
          "text": [
            "italiana    924\n",
            "europea      21\n",
            "altra        15\n",
            "Name: Cittadinanza, dtype: int64\n",
            "Sì    903\n",
            "No     19\n",
            "Name: Sei nato in Italia?, dtype: int64\n"
          ],
          "name": "stdout"
        }
      ]
    },
    {
      "cell_type": "markdown",
      "metadata": {
        "id": "GxOJtL7qaO5r",
        "colab_type": "text"
      },
      "source": [
        "# do same dataset visualizzation"
      ]
    },
    {
      "cell_type": "code",
      "metadata": {
        "id": "EFEzaSiy5vSS",
        "colab_type": "code",
        "colab": {
          "base_uri": "https://localhost:8080/",
          "height": 306
        },
        "outputId": "346224be-bb8a-45bd-e910-4ae417b64c63"
      },
      "source": [
        "%matplotlib inline\n",
        "import matplotlib.pyplot as plt\n",
        "df['Sesso'].value_counts().plot(kind='pie')\n",
        "plt.show()  \n",
        "df['Sesso'].value_counts()\n"
      ],
      "execution_count": 21,
      "outputs": [
        {
          "output_type": "display_data",
          "data": {
            "image/png": "[encoded data removed]",
            "text/plain": [
              "<Figure size 432x288 with 1 Axes>"
            ]
          },
          "metadata": {
            "tags": []
          }
        },
        {
          "output_type": "execute_result",
          "data": {
            "text/plain": [
              "F    599\n",
              "M    361\n",
              "Name: Sesso, dtype: int64"
            ]
          },
          "metadata": {
            "tags": []
          },
          "execution_count": 21
        }
      ]
    },
    {
      "cell_type": "markdown",
      "metadata": {
        "id": "hqPWwqOQ5u3X",
        "colab_type": "text"
      },
      "source": [
        ""
      ]
    },
    {
      "cell_type": "code",
      "metadata": {
        "id": "g1Q1cfE-9hma",
        "colab_type": "code",
        "colab": {
          "base_uri": "https://localhost:8080/",
          "height": 501
        },
        "outputId": "ac9df541-a9ef-4bd7-931e-e0cf55c25302"
      },
      "source": [
        "df['Età in anni compiuti'].value_counts().plot(kind='bar')\n",
        "plt.show()  \n",
        "df['Età in anni compiuti'].value_counts()"
      ],
      "execution_count": 22,
      "outputs": [
        {
          "output_type": "display_data",
          "data": {
            "image/png": "[encoded data removed]",
            "text/plain": [
              "<Figure size 432x288 with 1 Axes>"
            ]
          },
          "metadata": {
            "tags": []
          }
        },
        {
          "output_type": "execute_result",
          "data": {
            "text/plain": [
              "tra 15 e 17    361\n",
              "tra 11 e 14    201\n",
              "tra 45 e 54    139\n",
              "tra 18 e 19    115\n",
              "tra 55 e 64     46\n",
              "tra 35 e 44     40\n",
              "tra 25 e 34     33\n",
              "tra 20 e 24     16\n",
              "tra 65 e 74      6\n",
              "75 e oltre       3\n",
              "Name: Età in anni compiuti, dtype: int64"
            ]
          },
          "metadata": {
            "tags": []
          },
          "execution_count": 22
        }
      ]
    },
    {
      "cell_type": "code",
      "metadata": {
        "id": "0AnbWoO49Fuh",
        "colab_type": "code",
        "colab": {}
      },
      "source": [
        "from sklearn.preprocessing import OrdinalEncoder\n",
        "ordinal_encoder = OrdinalEncoder()\n",
        "eta_encoded = ordinal_encoder.fit_transform(df[['Età in anni compiuti']])"
      ],
      "execution_count": 0,
      "outputs": []
    },
    {
      "cell_type": "code",
      "metadata": {
        "id": "NgnnqUEv-pJ6",
        "colab_type": "code",
        "colab": {
          "base_uri": "https://localhost:8080/",
          "height": 371
        },
        "outputId": "7b8d88b2-8bff-494a-ce4e-faed8520d157"
      },
      "source": [
        "\n",
        "print(ordinal_encoder.categories_)\n",
        "\n",
        "plt.hist(eta_encoded)"
      ],
      "execution_count": 24,
      "outputs": [
        {
          "output_type": "stream",
          "text": [
            "[array(['75 e oltre', 'tra 11 e 14', 'tra 15 e 17', 'tra 18 e 19',\n",
            "       'tra 20 e 24', 'tra 25 e 34', 'tra 35 e 44', 'tra 45 e 54',\n",
            "       'tra 55 e 64', 'tra 65 e 74'], dtype=object)]\n"
          ],
          "name": "stdout"
        },
        {
          "output_type": "execute_result",
          "data": {
            "text/plain": [
              "(array([  3., 201., 361., 115.,  16.,  33.,  40., 139.,  46.,   6.]),\n",
              " array([0. , 0.9, 1.8, 2.7, 3.6, 4.5, 5.4, 6.3, 7.2, 8.1, 9. ]),\n",
              " <a list of 10 Patch objects>)"
            ]
          },
          "metadata": {
            "tags": []
          },
          "execution_count": 24
        },
        {
          "output_type": "display_data",
          "data": {
            "image/png": "[encoded data removed]",
            "text/plain": [
              "<Figure size 432x288 with 1 Axes>"
            ]
          },
          "metadata": {
            "tags": []
          }
        }
      ]
    },
    {
      "cell_type": "code",
      "metadata": {
        "id": "su4XtaZuEK7u",
        "colab_type": "code",
        "colab": {
          "base_uri": "https://localhost:8080/",
          "height": 16964
        },
        "outputId": "695a718f-3d3c-4efb-b19c-a810c2532110"
      },
      "source": [
        "import numpy as np\n",
        "df1 = df.replace(np.nan, 'no answer', regex=True)\n",
        "for i in range (1, len(df.columns)):\n",
        "  print (df1.columns[i])\n",
        "\n",
        "#  df[df.columns[i]].value_counts().plot(kind='bar')\n",
        "  ordinal_encoder = OrdinalEncoder()\n",
        "  ordinated_encoded = ordinal_encoder.fit_transform(df1[[df1.columns[i]]])\n",
        "  plt.hist(ordinated_encoded)\n",
        "  plt.show()"
      ],
      "execution_count": 44,
      "outputs": [
        {
          "output_type": "stream",
          "text": [
            "Età in anni compiuti\n"
          ],
          "name": "stdout"
        },
        {
          "output_type": "display_data",
          "data": {
            "image/png": "[encoded data removed]",
            "text/plain": [
              "<Figure size 432x288 with 1 Axes>"
            ]
          },
          "metadata": {
            "tags": []
          }
        },
        {
          "output_type": "stream",
          "text": [
            "Sesso\n"
          ],
          "name": "stdout"
        },
        {
          "output_type": "display_data",
          "data": {
            "image/png": "[encoded data removed]",
            "text/plain": [
              "<Figure size 432x288 with 1 Axes>"
            ]
          },
          "metadata": {
            "tags": []
          }
        },
        {
          "output_type": "stream",
          "text": [
            "Cittadinanza\n"
          ],
          "name": "stdout"
        },
        {
          "output_type": "display_data",
          "data": {
            "image/png": "[encoded data removed]",
            "text/plain": [
              "<Figure size 432x288 with 1 Axes>"
            ]
          },
          "metadata": {
            "tags": []
          }
        },
        {
          "output_type": "stream",
          "text": [
            "Sei nato in Italia?\n"
          ],
          "name": "stdout"
        },
        {
          "output_type": "display_data",
          "data": {
            "image/png": "[encoded data removed]",
            "text/plain": [
              "<Figure size 432x288 with 1 Axes>"
            ]
          },
          "metadata": {
            "tags": []
          }
        },
        {
          "output_type": "stream",
          "text": [
            "Provincia di nascita\n"
          ],
          "name": "stdout"
        },
        {
          "output_type": "display_data",
          "data": {
            "image/png": "[encoded data removed]",
            "text/plain": [
              "<Figure size 432x288 with 1 Axes>"
            ]
          },
          "metadata": {
            "tags": []
          }
        },
        {
          "output_type": "stream",
          "text": [
            "Provincia di dimora abituale\n"
          ],
          "name": "stdout"
        },
        {
          "output_type": "display_data",
          "data": {
            "image/png": "[encoded data removed]",
            "text/plain": [
              "<Figure size 432x288 with 1 Axes>"
            ]
          },
          "metadata": {
            "tags": []
          }
        },
        {
          "output_type": "stream",
          "text": [
            "Titolo di Studio più alto conseguito\n"
          ],
          "name": "stdout"
        },
        {
          "output_type": "display_data",
          "data": {
            "image/png": "[encoded data removed]",
            "text/plain": [
              "<Figure size 432x288 with 1 Axes>"
            ]
          },
          "metadata": {
            "tags": []
          }
        },
        {
          "output_type": "stream",
          "text": [
            "Cittadinanza del padre\n"
          ],
          "name": "stdout"
        },
        {
          "output_type": "display_data",
          "data": {
            "image/png": "[encoded data removed]",
            "text/plain": [
              "<Figure size 432x288 with 1 Axes>"
            ]
          },
          "metadata": {
            "tags": []
          }
        },
        {
          "output_type": "stream",
          "text": [
            "Tuo padre è nato in Italia?\n"
          ],
          "name": "stdout"
        },
        {
          "output_type": "display_data",
          "data": {
            "image/png": "[encoded data removed]",
            "text/plain": [
              "<Figure size 432x288 with 1 Axes>"
            ]
          },
          "metadata": {
            "tags": []
          }
        },
        {
          "output_type": "stream",
          "text": [
            "Provincia di nascita del padre\n"
          ],
          "name": "stdout"
        },
        {
          "output_type": "display_data",
          "data": {
            "image/png": "[encoded data removed]",
            "text/plain": [
              "<Figure size 432x288 with 1 Axes>"
            ]
          },
          "metadata": {
            "tags": []
          }
        },
        {
          "output_type": "stream",
          "text": [
            "Cittadinanza della madre\n"
          ],
          "name": "stdout"
        },
        {
          "output_type": "display_data",
          "data": {
            "image/png": "[encoded data removed]",
            "text/plain": [
              "<Figure size 432x288 with 1 Axes>"
            ]
          },
          "metadata": {
            "tags": []
          }
        },
        {
          "output_type": "stream",
          "text": [
            "Tua madre è nata in Italia?\n"
          ],
          "name": "stdout"
        },
        {
          "output_type": "display_data",
          "data": {
            "image/png": "[encoded data removed]",
            "text/plain": [
              "<Figure size 432x288 with 1 Axes>"
            ]
          },
          "metadata": {
            "tags": []
          }
        },
        {
          "output_type": "stream",
          "text": [
            "Provincia di nascita della madre\n"
          ],
          "name": "stdout"
        },
        {
          "output_type": "display_data",
          "data": {
            "image/png": "[encoded data removed]",
            "text/plain": [
              "<Figure size 432x288 with 1 Axes>"
            ]
          },
          "metadata": {
            "tags": []
          }
        },
        {
          "output_type": "stream",
          "text": [
            "Negli ultimi 12 mesi ti è mai capitato di cercare informazioni?\n"
          ],
          "name": "stdout"
        },
        {
          "output_type": "display_data",
          "data": {
            "image/png": "[encoded data removed]",
            "text/plain": [
              "<Figure size 432x288 with 1 Axes>"
            ]
          },
          "metadata": {
            "tags": []
          }
        },
        {
          "output_type": "stream",
          "text": [
            "Negli ultimi 12 mesi quante volte hai cercato informazioni?\n"
          ],
          "name": "stdout"
        },
        {
          "output_type": "display_data",
          "data": {
            "image/png": "[encoded data removed]",
            "text/plain": [
              "<Figure size 432x288 with 1 Axes>"
            ]
          },
          "metadata": {
            "tags": []
          }
        },
        {
          "output_type": "stream",
          "text": [
            "Negli ultimi 12 mesi che strumenti hai utilizzato per cercare informazioni?  [Carta (es. giornali, riviste, ecc.)]\n"
          ],
          "name": "stdout"
        },
        {
          "output_type": "display_data",
          "data": {
            "image/png": "[encoded data removed]",
            "text/plain": [
              "<Figure size 432x288 with 1 Axes>"
            ]
          },
          "metadata": {
            "tags": []
          }
        },
        {
          "output_type": "stream",
          "text": [
            "Negli ultimi 12 mesi che strumenti hai utilizzato per cercare informazioni?  [Tv (es. telegiornali, talkshow)]\n"
          ],
          "name": "stdout"
        },
        {
          "output_type": "display_data",
          "data": {
            "image/png": "[encoded data removed]",
            "text/plain": [
              "<Figure size 432x288 with 1 Axes>"
            ]
          },
          "metadata": {
            "tags": []
          }
        },
        {
          "output_type": "stream",
          "text": [
            "Negli ultimi 12 mesi che strumenti hai utilizzato per cercare informazioni?  [Radio (es. giornaleradio)]\n"
          ],
          "name": "stdout"
        },
        {
          "output_type": "display_data",
          "data": {
            "image/png": "[encoded data removed]",
            "text/plain": [
              "<Figure size 432x288 with 1 Axes>"
            ]
          },
          "metadata": {
            "tags": []
          }
        },
        {
          "output_type": "stream",
          "text": [
            "Negli ultimi 12 mesi che strumenti hai utilizzato per cercare informazioni?  [Persone (amici, scuola, famiglia)]\n"
          ],
          "name": "stdout"
        },
        {
          "output_type": "display_data",
          "data": {
            "image/png": "[encoded data removed]",
            "text/plain": [
              "<Figure size 432x288 with 1 Axes>"
            ]
          },
          "metadata": {
            "tags": []
          }
        },
        {
          "output_type": "stream",
          "text": [
            "Negli ultimi 12 mesi che strumenti hai utilizzato per cercare informazioni?  [Internet]\n"
          ],
          "name": "stdout"
        },
        {
          "output_type": "display_data",
          "data": {
            "image/png": "[encoded data removed]",
            "text/plain": [
              "<Figure size 432x288 with 1 Axes>"
            ]
          },
          "metadata": {
            "tags": []
          }
        },
        {
          "output_type": "stream",
          "text": [
            "Negli ultimi 12 mesi che strumenti hai utilizzato per cercare informazioni?  [Altro]\n"
          ],
          "name": "stdout"
        },
        {
          "output_type": "display_data",
          "data": {
            "image/png": "[encoded data removed]",
            "text/plain": [
              "<Figure size 432x288 with 1 Axes>"
            ]
          },
          "metadata": {
            "tags": []
          }
        },
        {
          "output_type": "stream",
          "text": [
            "Tra gli strumenti che negli ultimi 12 mesi hai utilizzato per cercare informazioni, qual è quello che preferisci usare? \n"
          ],
          "name": "stdout"
        },
        {
          "output_type": "display_data",
          "data": {
            "image/png": "[encoded data removed]",
            "text/plain": [
              "<Figure size 432x288 with 1 Axes>"
            ]
          },
          "metadata": {
            "tags": []
          }
        },
        {
          "output_type": "stream",
          "text": [
            "Negli ultimi 12 mesi, quando hai cercato notizie, quanto tempo hai impiegato mediamente al giorno nella ricerca?\n"
          ],
          "name": "stdout"
        },
        {
          "output_type": "display_data",
          "data": {
            "image/png": "[encoded data removed]",
            "text/plain": [
              "<Figure size 432x288 with 1 Axes>"
            ]
          },
          "metadata": {
            "tags": []
          }
        },
        {
          "output_type": "stream",
          "text": [
            "Quali notizie ti fanno paura?\n"
          ],
          "name": "stdout"
        },
        {
          "output_type": "display_data",
          "data": {
            "image/png": "[encoded data removed]",
            "text/plain": [
              "<Figure size 432x288 with 1 Axes>"
            ]
          },
          "metadata": {
            "tags": []
          }
        },
        {
          "output_type": "stream",
          "text": [
            "Con che frequenza ti informi su argomenti riguardanti la scienza?\n"
          ],
          "name": "stdout"
        },
        {
          "output_type": "display_data",
          "data": {
            "image/png": "[encoded data removed]",
            "text/plain": [
              "<Figure size 432x288 with 1 Axes>"
            ]
          },
          "metadata": {
            "tags": []
          }
        },
        {
          "output_type": "stream",
          "text": [
            "Quali argomenti scientifici ti attirano di più\n"
          ],
          "name": "stdout"
        },
        {
          "output_type": "display_data",
          "data": {
            "image/png": "[encoded data removed]",
            "text/plain": [
              "<Figure size 432x288 with 1 Axes>"
            ]
          },
          "metadata": {
            "tags": []
          }
        },
        {
          "output_type": "stream",
          "text": [
            "Quando hai saputo della strage in discoteca a Corinaldo al concerto di Sfera Ebbasta, cosa ha catturato la tua attenzione?\n"
          ],
          "name": "stdout"
        },
        {
          "output_type": "display_data",
          "data": {
            "image/png": "[encoded data removed]",
            "text/plain": [
              "<Figure size 432x288 with 1 Axes>"
            ]
          },
          "metadata": {
            "tags": []
          }
        },
        {
          "output_type": "stream",
          "text": [
            "Da dove hai appreso della caduta del ponte Morandi a Genova?\n"
          ],
          "name": "stdout"
        },
        {
          "output_type": "display_data",
          "data": {
            "image/png": "[encoded data removed]",
            "text/plain": [
              "<Figure size 432x288 with 1 Axes>"
            ]
          },
          "metadata": {
            "tags": []
          }
        },
        {
          "output_type": "stream",
          "text": [
            "Hai mai usato internet?\n"
          ],
          "name": "stdout"
        },
        {
          "output_type": "display_data",
          "data": {
            "image/png": "[encoded data removed]",
            "text/plain": [
              "<Figure size 432x288 with 1 Axes>"
            ]
          },
          "metadata": {
            "tags": []
          }
        },
        {
          "output_type": "stream",
          "text": [
            "Sul web, dove prendi le informazioni? [testate giornalistiche online]\n"
          ],
          "name": "stdout"
        },
        {
          "output_type": "display_data",
          "data": {
            "image/png": "[encoded data removed]",
            "text/plain": [
              "<Figure size 432x288 with 1 Axes>"
            ]
          },
          "metadata": {
            "tags": []
          }
        },
        {
          "output_type": "stream",
          "text": [
            "Sul web, dove prendi le informazioni? [social]\n"
          ],
          "name": "stdout"
        },
        {
          "output_type": "display_data",
          "data": {
            "image/png": "[encoded data removed]",
            "text/plain": [
              "<Figure size 432x288 with 1 Axes>"
            ]
          },
          "metadata": {
            "tags": []
          }
        },
        {
          "output_type": "stream",
          "text": [
            "Sul web, dove prendi le informazioni? [motori di ricerca (es google, safari, ping]\n"
          ],
          "name": "stdout"
        },
        {
          "output_type": "display_data",
          "data": {
            "image/png": "[encoded data removed]",
            "text/plain": [
              "<Figure size 432x288 with 1 Axes>"
            ]
          },
          "metadata": {
            "tags": []
          }
        },
        {
          "output_type": "stream",
          "text": [
            "Sul web, dove prendi le informazioni? [siti specifici che conosco]\n"
          ],
          "name": "stdout"
        },
        {
          "output_type": "display_data",
          "data": {
            "image/png": "[encoded data removed]",
            "text/plain": [
              "<Figure size 432x288 with 1 Axes>"
            ]
          },
          "metadata": {
            "tags": []
          }
        },
        {
          "output_type": "stream",
          "text": [
            "Sul web, dove prendi le informazioni? [app dedicate]\n"
          ],
          "name": "stdout"
        },
        {
          "output_type": "display_data",
          "data": {
            "image/png": "[encoded data removed]",
            "text/plain": [
              "<Figure size 432x288 with 1 Axes>"
            ]
          },
          "metadata": {
            "tags": []
          }
        },
        {
          "output_type": "stream",
          "text": [
            "Sul web, dove prendi le informazioni? [newsletter via email]\n"
          ],
          "name": "stdout"
        },
        {
          "output_type": "display_data",
          "data": {
            "image/png": "[encoded data removed]",
            "text/plain": [
              "<Figure size 432x288 with 1 Axes>"
            ]
          },
          "metadata": {
            "tags": []
          }
        },
        {
          "output_type": "stream",
          "text": [
            "Quali social usi di più per informarti?\n"
          ],
          "name": "stdout"
        },
        {
          "output_type": "display_data",
          "data": {
            "image/png": "[encoded data removed]",
            "text/plain": [
              "<Figure size 432x288 with 1 Axes>"
            ]
          },
          "metadata": {
            "tags": []
          }
        },
        {
          "output_type": "stream",
          "text": [
            "Tra i social che usi di più anche per informati, quale preferisci?\n"
          ],
          "name": "stdout"
        },
        {
          "output_type": "display_data",
          "data": {
            "image/png": "[encoded data removed]",
            "text/plain": [
              "<Figure size 432x288 with 1 Axes>"
            ]
          },
          "metadata": {
            "tags": []
          }
        },
        {
          "output_type": "stream",
          "text": [
            "Cosa cerchi di più su internet?\n"
          ],
          "name": "stdout"
        },
        {
          "output_type": "display_data",
          "data": {
            "image/png": "[encoded data removed]",
            "text/plain": [
              "<Figure size 432x288 with 1 Axes>"
            ]
          },
          "metadata": {
            "tags": []
          }
        },
        {
          "output_type": "stream",
          "text": [
            "Qual è la prima cosa che vai a vedere sui social?\n"
          ],
          "name": "stdout"
        },
        {
          "output_type": "display_data",
          "data": {
            "image/png": "[encoded data removed]",
            "text/plain": [
              "<Figure size 432x288 with 1 Axes>"
            ]
          },
          "metadata": {
            "tags": []
          }
        },
        {
          "output_type": "stream",
          "text": [
            "Da dove ricevi notizie senza cercarle quando sei on line? \n"
          ],
          "name": "stdout"
        },
        {
          "output_type": "display_data",
          "data": {
            "image/png": "[encoded data removed]",
            "text/plain": [
              "<Figure size 432x288 with 1 Axes>"
            ]
          },
          "metadata": {
            "tags": []
          }
        },
        {
          "output_type": "stream",
          "text": [
            "Quali argomenti ti vengono suggeriti mentre sei online\n"
          ],
          "name": "stdout"
        },
        {
          "output_type": "display_data",
          "data": {
            "image/png": "[encoded data removed]",
            "text/plain": [
              "<Figure size 432x288 with 1 Axes>"
            ]
          },
          "metadata": {
            "tags": []
          }
        },
        {
          "output_type": "stream",
          "text": [
            "Cosa attrae innanzitutto la tua attenzione su una notizia on line?\n"
          ],
          "name": "stdout"
        },
        {
          "output_type": "display_data",
          "data": {
            "image/png": "[encoded data removed]",
            "text/plain": [
              "<Figure size 432x288 with 1 Axes>"
            ]
          },
          "metadata": {
            "tags": []
          }
        },
        {
          "output_type": "stream",
          "text": [
            "Condividi le notizie?\n"
          ],
          "name": "stdout"
        },
        {
          "output_type": "display_data",
          "data": {
            "image/png": "[encoded data removed]",
            "text/plain": [
              "<Figure size 432x288 with 1 Axes>"
            ]
          },
          "metadata": {
            "tags": []
          }
        },
        {
          "output_type": "stream",
          "text": [
            "Con chi le condividi?\n"
          ],
          "name": "stdout"
        },
        {
          "output_type": "display_data",
          "data": {
            "image/png": "[encoded data removed]",
            "text/plain": [
              "<Figure size 432x288 with 1 Axes>"
            ]
          },
          "metadata": {
            "tags": []
          }
        },
        {
          "output_type": "stream",
          "text": [
            "Come condividi le notizie che leggi? \n"
          ],
          "name": "stdout"
        },
        {
          "output_type": "display_data",
          "data": {
            "image/png": "[encoded data removed]",
            "text/plain": [
              "<Figure size 432x288 with 1 Axes>"
            ]
          },
          "metadata": {
            "tags": []
          }
        },
        {
          "output_type": "stream",
          "text": [
            "Quando condividi lo fai ...  [Perché è una notizia che mi ha impressionato]\n"
          ],
          "name": "stdout"
        },
        {
          "output_type": "display_data",
          "data": {
            "image/png": "[encoded data removed]",
            "text/plain": [
              "<Figure size 432x288 with 1 Axes>"
            ]
          },
          "metadata": {
            "tags": []
          }
        },
        {
          "output_type": "stream",
          "text": [
            "Quando condividi lo fai ...  [Per farlo sapere a tutti]\n"
          ],
          "name": "stdout"
        },
        {
          "output_type": "display_data",
          "data": {
            "image/png": "[encoded data removed]",
            "text/plain": [
              "<Figure size 432x288 with 1 Axes>"
            ]
          },
          "metadata": {
            "tags": []
          }
        },
        {
          "output_type": "stream",
          "text": [
            "Quando condividi lo fai ...  [Per commentare]\n"
          ],
          "name": "stdout"
        },
        {
          "output_type": "display_data",
          "data": {
            "image/png": "[encoded data removed]",
            "text/plain": [
              "<Figure size 432x288 with 1 Axes>"
            ]
          },
          "metadata": {
            "tags": []
          }
        },
        {
          "output_type": "stream",
          "text": [
            "Quando condividi lo fai ...  [Perché lo fanno tutti]\n"
          ],
          "name": "stdout"
        },
        {
          "output_type": "display_data",
          "data": {
            "image/png": "[encoded data removed]",
            "text/plain": [
              "<Figure size 432x288 with 1 Axes>"
            ]
          },
          "metadata": {
            "tags": []
          }
        },
        {
          "output_type": "stream",
          "text": [
            "Secondo te ci si può fidare di ciò che scrivono i giornalisti?\n"
          ],
          "name": "stdout"
        },
        {
          "output_type": "display_data",
          "data": {
            "image/png": "[encoded data removed]",
            "text/plain": [
              "<Figure size 432x288 with 1 Axes>"
            ]
          },
          "metadata": {
            "tags": []
          }
        },
        {
          "output_type": "stream",
          "text": [
            "Secondo te ci si può fidare delle notizie che si trovano su internet?\n"
          ],
          "name": "stdout"
        },
        {
          "output_type": "display_data",
          "data": {
            "image/png": "[encoded data removed]",
            "text/plain": [
              "<Figure size 432x288 with 1 Axes>"
            ]
          },
          "metadata": {
            "tags": []
          }
        },
        {
          "output_type": "stream",
          "text": [
            "Ritieni che esistano sistemi sicuri per capire con certezza se una notizia è vera o no?\n"
          ],
          "name": "stdout"
        },
        {
          "output_type": "display_data",
          "data": {
            "image/png": "[encoded data removed]",
            "text/plain": [
              "<Figure size 432x288 with 1 Axes>"
            ]
          },
          "metadata": {
            "tags": []
          }
        },
        {
          "output_type": "stream",
          "text": [
            "Cosa ti fa capire se una notizia è attendibile? [La notizia in sé, l'argomento che tratta]\n"
          ],
          "name": "stdout"
        },
        {
          "output_type": "display_data",
          "data": {
            "image/png": "[encoded data removed]",
            "text/plain": [
              "<Figure size 432x288 with 1 Axes>"
            ]
          },
          "metadata": {
            "tags": []
          }
        },
        {
          "output_type": "stream",
          "text": [
            "Cosa ti fa capire se una notizia è attendibile? [Se riporta le fonti da cui è tratto l'argomento]\n"
          ],
          "name": "stdout"
        },
        {
          "output_type": "display_data",
          "data": {
            "image/png": "[encoded data removed]",
            "text/plain": [
              "<Figure size 432x288 with 1 Axes>"
            ]
          },
          "metadata": {
            "tags": []
          }
        },
        {
          "output_type": "stream",
          "text": [
            "Cosa ti fa capire se una notizia è attendibile? [Il modo in cui è raccontata la notizia]\n"
          ],
          "name": "stdout"
        },
        {
          "output_type": "display_data",
          "data": {
            "image/png": "[encoded data removed]",
            "text/plain": [
              "<Figure size 432x288 with 1 Axes>"
            ]
          },
          "metadata": {
            "tags": []
          }
        },
        {
          "output_type": "stream",
          "text": [
            "Cosa ti fa capire se una notizia è attendibile? [La fonte che la pubblica (il sito, il giornale, il social)]\n"
          ],
          "name": "stdout"
        },
        {
          "output_type": "display_data",
          "data": {
            "image/png": "[encoded data removed]",
            "text/plain": [
              "<Figure size 432x288 with 1 Axes>"
            ]
          },
          "metadata": {
            "tags": []
          }
        },
        {
          "output_type": "stream",
          "text": [
            "Cosa ti fa capire se una notizia è attendibile? [La forma e lo stile]\n"
          ],
          "name": "stdout"
        },
        {
          "output_type": "display_data",
          "data": {
            "image/png": "[encoded data removed]",
            "text/plain": [
              "<Figure size 432x288 with 1 Axes>"
            ]
          },
          "metadata": {
            "tags": []
          }
        },
        {
          "output_type": "stream",
          "text": [
            "Cosa ti fa capire se una notizia è attendibile? [altro]\n"
          ],
          "name": "stdout"
        },
        {
          "output_type": "display_data",
          "data": {
            "image/png": "[encoded data removed]",
            "text/plain": [
              "<Figure size 432x288 with 1 Axes>"
            ]
          },
          "metadata": {
            "tags": []
          }
        },
        {
          "output_type": "stream",
          "text": [
            "Secondo te dove si diffondono di più le fake news?\n"
          ],
          "name": "stdout"
        },
        {
          "output_type": "display_data",
          "data": {
            "image/png": "[encoded data removed]",
            "text/plain": [
              "<Figure size 432x288 with 1 Axes>"
            ]
          },
          "metadata": {
            "tags": []
          }
        },
        {
          "output_type": "stream",
          "text": [
            "Quali sono gli argormenti fake che attecchiscono di più? \n"
          ],
          "name": "stdout"
        },
        {
          "output_type": "display_data",
          "data": {
            "image/png": "[encoded data removed]",
            "text/plain": [
              "<Figure size 432x288 with 1 Axes>"
            ]
          },
          "metadata": {
            "tags": []
          }
        },
        {
          "output_type": "stream",
          "text": [
            "Secondo te a che età si è più inclini a condividere una fake news?\n"
          ],
          "name": "stdout"
        },
        {
          "output_type": "display_data",
          "data": {
            "image/png": "[encoded data removed]",
            "text/plain": [
              "<Figure size 432x288 with 1 Axes>"
            ]
          },
          "metadata": {
            "tags": []
          }
        },
        {
          "output_type": "stream",
          "text": [
            "Sai cos'è la reputazione digitale?\n"
          ],
          "name": "stdout"
        },
        {
          "output_type": "display_data",
          "data": {
            "image/png": "[encoded data removed]",
            "text/plain": [
              "<Figure size 432x288 with 1 Axes>"
            ]
          },
          "metadata": {
            "tags": []
          }
        },
        {
          "output_type": "stream",
          "text": [
            "Sai quali pericoli potrebbero esserci nel postare le foto sui social?\n"
          ],
          "name": "stdout"
        },
        {
          "output_type": "display_data",
          "data": {
            "image/png": "[encoded data removed]",
            "text/plain": [
              "<Figure size 432x288 with 1 Axes>"
            ]
          },
          "metadata": {
            "tags": []
          }
        }
      ]
    }
  ]
}