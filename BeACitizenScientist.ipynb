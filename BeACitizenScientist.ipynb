{
  "nbformat": 4,
  "nbformat_minor": 0,
  "metadata": {
    "colab": {
      "name": "BeACitizenScientist.ipynb",
      "version": "0.3.2",
      "provenance": [],
      "collapsed_sections": [
        "PknoAoax3WXl",
        "5VkN7wXlCkxW",
        "fYziw4PrTj9h",
        "smCCO2f0bvnU"
      ],
      "include_colab_link": true
    },
    "kernelspec": {
      "name": "python3",
      "display_name": "Python 3"
    }
  },
  "cells": [
    {
      "cell_type": "markdown",
      "metadata": {
        "id": "view-in-github",
        "colab_type": "text"
      },
      "source": [
        "<a href=\"https://colab.research.google.com/github/gmazzitelli/be-a-citizen-scientist/blob/master/BeACitizenScientist.ipynb\" target=\"_parent\"><img src=\"https://colab.research.google.com/assets/colab-badge.svg\" alt=\"Open In Colab\"/></a>"
      ]
    },
    {
      "cell_type": "markdown",
      "metadata": {
        "id": "bJOYMMk93sXE",
        "colab_type": "text"
      },
      "source": [
        "# GET data from URL\n",
        "Carica il file del questionario dalla URL (shared readeable file)\n",
        "buona refence [link text](https://michaelsaruggia.com/python-per-data-science-pandas/)"
      ]
    },
    {
      "cell_type": "code",
      "metadata": {
        "id": "VqV02vrl1k52",
        "colab_type": "code",
        "colab": {}
      },
      "source": [
        "import numpy as np\n",
        "import pandas as pd\n",
        "url_csv_file = \"https://docs.google.com/spreadsheet/ccc?key=19zCRezCS3yIy6_Igzex2sotnNja2Ks57RonGX8W2R8I&output=csv\"\n",
        "df = pd.read_csv(url_csv_file).replace(np.nan, 'Nessuna risposta', regex=True)\n"
      ],
      "execution_count": 0,
      "outputs": []
    },
    {
      "cell_type": "markdown",
      "metadata": {
        "id": "zCWzYnFt24Tf",
        "colab_type": "text"
      },
      "source": [
        "qualche aggiustamento dei dati per distinguere grandi da piccoli e togliere sotituire un domanda con la virgala che la fa comparire come multiple choiche"
      ]
    },
    {
      "cell_type": "code",
      "metadata": {
        "id": "sULGj3vWafls",
        "colab_type": "code",
        "colab": {}
      },
      "source": [
        "df = df.replace({'Età in anni compiuti', '75 e oltre'}, {'Età in anni compiuti', 'tra 75 e oltre'} )\n",
        "from sklearn.preprocessing import OrdinalEncoder\n",
        "df['young'] = np.where(df['Età in anni compiuti']<'tra 25 e 34', 1, 0)\n",
        "df['Sai quali pericoli potrebbero esserci nel postare le foto sui social?']=df['Sai quali pericoli potrebbero esserci nel postare le foto sui social?'].apply(\n",
        "    lambda x: 'lo so - ma non mi interessa' if x == 'lo so, ma non mi interessa' else x)\n",
        "young=df[df.young==1].copy()\n",
        "old =df[df.young==0].copy()\n",
        "df.head()"
      ],
      "execution_count": 0,
      "outputs": []
    },
    {
      "cell_type": "markdown",
      "metadata": {
        "id": "M2Qs4iq9ra6j",
        "colab_type": "text"
      },
      "source": [
        "# dataset visualization"
      ]
    },
    {
      "cell_type": "markdown",
      "metadata": {
        "id": "UsX7XqOe3_ho",
        "colab_type": "text"
      },
      "source": [
        "visualizza tutti dati in modo basico differenziando fra grandi e piccoli"
      ]
    },
    {
      "cell_type": "code",
      "metadata": {
        "id": "osWKWZhcUzNG",
        "colab_type": "code",
        "colab": {}
      },
      "source": [
        "#@title Default title text\n",
        "def multiple_choice(question, db):\n",
        "  multiple_answar = db[question].str.split(',\\s*').apply(lambda x: pd.Series(1,index=x)).fillna(0)\n",
        "  labels=[]\n",
        "  values=[]\n",
        "  for i in range (0, len(multiple_answar.columns)):\n",
        "    labels.append(multiple_answar.columns[i])\n",
        "    values.append(100*multiple_answar[multiple_answar.columns[i]].sum())\n",
        "  return values, labels\n",
        "\n",
        "show_as_pie = 6\n",
        "show_as_hist = 40\n",
        "\n",
        "from sklearn.preprocessing import OrdinalEncoder\n",
        "for i in range (1, len(df.columns)):\n",
        "  print (df[df.columns[i]].value_counts())\n",
        "  if np.max(df[df.columns[i]].astype(str).str.find(','))>-1:\n",
        "    plt.figure(figsize=(15,5))\n",
        "    values,labels = multiple_choice(question=df.columns[i], db=df)\n",
        "    values_y,labels_y = multiple_choice(question=df.columns[i], db=young)\n",
        "\n",
        "    all_lables = labels + labels_y\n",
        "    all_lables = list(set(all_lables))\n",
        "    all_values=np.zeros(len(all_lables))\n",
        "    all_values_y=np.zeros(len(all_lables))\n",
        "    for i in range(0, len(all_lables)):\n",
        "      if all_lables[i] in labels:\n",
        "        all_values[i] = values[labels.index(all_lables[i])]\n",
        "      if all_lables[i] in labels_y:\n",
        "        all_values_y[i] = values_y[labels_y.index(all_lables[i])]\n",
        "    \n",
        "    x = np.linspace(0,len(all_lables),len(all_lables))\n",
        "    plt.bar(x, np.array(all_values), label='all')\n",
        "    plt.bar(x, np.array(all_values_y), color='red', label='young')\n",
        "    plt.xticks(x, all_lables, rotation='vertical')\n",
        "    #plt.ylabel('percentage [%]')\n",
        "    plt.legend()\n",
        "  else:\n",
        "    ordinal_encoder = OrdinalEncoder()\n",
        "    ordinated_encoded = ordinal_encoder.fit_transform(df[[df.columns[i]]])\n",
        "    ordinated_encoded_young = ordinated_encoded[df.young==1]\n",
        "    ordinated_encoded_old = ordinated_encoded[df.young==0]\n",
        "    labels = np.array(ordinal_encoder.categories_[0])\n",
        "    if len(ordinal_encoder.categories_[0])<show_as_pie :\n",
        "      fig, ax = plt.subplots(1,3, figsize=(15, 5))\n",
        "      val, _ = np.histogram(ordinated_encoded, bins=len(labels))\n",
        "      ax[0].pie(val, labels=labels, autopct='%1.1f%%')\n",
        "      ax[0].set_title('all')\n",
        "      val, _ = np.histogram(ordinated_encoded_young, bins=len(labels))\n",
        "      ax[1].pie(val, labels=labels, autopct='%1.1f%%')\n",
        "      ax[1].set_title('young')\n",
        "      val, _ = np.histogram(ordinated_encoded_old, bins=len(labels))\n",
        "      ax[2].pie(val, labels=labels, autopct='%1.1f%%')\n",
        "      ax[2].set_title('old')\n",
        "    else:\n",
        "      cat_num = np.linspace(1,len(ordinal_encoder.categories_[0]),len(ordinal_encoder.categories_[0]))\n",
        "      if len(cat_num) > show_as_hist:\n",
        "        cat_num = cat_num[::len(cat_num)//show_as_hist]\n",
        "        labels = labels[::len(cat_num)//show_as_hist]\n",
        "      plt.figure(figsize=(15,5))\n",
        "      plt.hist(ordinated_encoded, range=(0,len(ordinal_encoder.categories_[0])), \n",
        "               bins=len(ordinal_encoder.categories_[0]), label='all')\n",
        "      plt.hist(ordinated_encoded_young, range=(0,len(ordinal_encoder.categories_[0])), \n",
        "               bins=len(ordinal_encoder.categories_[0]), color='red', label='young')\n",
        "      plt.xticks(cat_num-0.5,labels, rotation='vertical')\n",
        "      plt.legend()\n",
        "  plt.show()"
      ],
      "execution_count": 0,
      "outputs": []
    },
    {
      "cell_type": "markdown",
      "metadata": {
        "id": "PknoAoax3WXl",
        "colab_type": "text"
      },
      "source": [
        "# test area\n"
      ]
    },
    {
      "cell_type": "code",
      "metadata": {
        "id": "cw1PjlkF8kxo",
        "colab_type": "code",
        "colab": {
          "base_uri": "https://localhost:8080/",
          "height": 170
        },
        "outputId": "5643082e-ea35-4644-a74f-e8fadb3e071d"
      },
      "source": [
        "def multiple_choice(question, db):\n",
        "  multiple_answar = db[question].str.split(',\\s*').apply(lambda x: pd.Series(1,index=x)).fillna(0)\n",
        "  labels=[]\n",
        "  values=[]\n",
        "  print (len(multiple_answar.columns))\n",
        "  for i in range (0, len(multiple_answar.columns)):\n",
        "    labels.append(multiple_answar.columns[i])\n",
        "    values.append(100*multiple_answar[multiple_answar.columns[i]].sum())\n",
        "  return values, labels\n",
        "\n",
        "q = 'Sai quali pericoli potrebbero esserci nel postare le foto sui social?'\n",
        "#q = 'Sul web, dove prendi le informazioni? [motori di ricerca (es google, safari, ping]'\n",
        "q ='Negli ultimi 12 mesi che strumenti hai utilizzato per cercare informazioni?  [Carta (es. giornali, riviste, ecc.)]'\n",
        "values,labels = multiple_choice(question=q, db=df)\n",
        "values_y,labels_y = multiple_choice(question=q, db=young)\n",
        "print (labels)\n",
        "print (\"all\",values, sum(values))\n",
        "print (labels_y)\n",
        "print (\"young:\",values_y, sum(values_y))\n",
        "all_lables = labels + labels_y\n",
        "all_lables = list(set(all_lables))\n",
        "all_values=np.zeros(len(all_lables))\n",
        "all_values_y=np.zeros(len(all_lables))\n",
        "for i in range(0, len(all_lables)):\n",
        "  if all_lables[i] in labels:\n",
        "    all_values[i] = values[labels.index(all_lables[i])]\n",
        "  if all_lables[i] in labels_y:\n",
        "    all_values_y[i] = values_y[labels_y.index(all_lables[i])]\n",
        "\n",
        "print (all_lables)\n",
        "print (all_values)\n",
        "print (all_values_y)\n",
        "\n",
        "    "
      ],
      "execution_count": 184,
      "outputs": [
        {
          "output_type": "stream",
          "text": [
            "5\n",
            "5\n",
            "['raramente', 'mai', 'spesso', 'sempre', 'Nessuna risposta']\n",
            "all [52500.0, 26300.0, 19300.0, 2100.0, 3000.0] 103200.0\n",
            "['mai', 'spesso', 'raramente', 'Nessuna risposta', 'sempre']\n",
            "young: [23200.0, 9200.0, 38800.0, 2100.0, 500.0] 73800.0\n",
            "['spesso', 'raramente', 'sempre', 'mai', 'Nessuna risposta']\n",
            "[19300. 52500.  2100. 26300.  3000.]\n",
            "[ 9200. 38800.   500. 23200.  2100.]\n"
          ],
          "name": "stdout"
        }
      ]
    },
    {
      "cell_type": "code",
      "metadata": {
        "id": "HeaddNr-ZVx9",
        "colab_type": "code",
        "colab": {}
      },
      "source": [
        "df['Sai quali pericoli potrebbero esserci nel postare le foto sui social?'].apply(\n",
        "    lambda x: 'lo so - ma non mi interessa' if x == 'lo so, ma non mi interessa' else x)\n"
      ],
      "execution_count": 0,
      "outputs": []
    },
    {
      "cell_type": "code",
      "metadata": {
        "id": "su4XtaZuEK7u",
        "colab_type": "code",
        "colab": {}
      },
      "source": [
        "%matplotlib inline\n",
        "import matplotlib.pyplot as plt\n",
        "import os\n",
        "def plot_multiple_choice(question, db, figsize):\n",
        "  %matplotlib inline\n",
        "  import matplotlib.pyplot as plt\n",
        "  fig, ax = plt.subplots(figsize=figsize)\n",
        "  multiple_answar = db[question].str.split(',\\s*').apply(lambda x: pd.Series(1,index=x)).fillna(0)\n",
        "  labels=[]\n",
        "  values=[]\n",
        "  for i in range (0, len(multiple_answar.columns)):\n",
        "    labels.append(multiple_answar.columns[i])\n",
        "    values.append(100*multiple_answar[multiple_answar.columns[i]].sum()/len(db))\n",
        "  x = np.linspace(0,len(labels),len(labels))\n",
        "  bp = ax.bar(x, np.array(values))\n",
        "  plt.xticks(x, labels, rotation='vertical')\n",
        "  plt.ylabel('percentage [%]')\n",
        "  return bp\n",
        "\n",
        "def save_fig(fig_id, tight_layout=True, fig_extension=\"png\", resolution=300):\n",
        "  import matplotlib.pyplot as plt\n",
        "  import os\n",
        "  path = os.path.join(IMAGES_PATH, fig_id + \".\" + fig_extension)\n",
        "  print(\"Saving figure\", fig_id)\n",
        "  if tight_layout:\n",
        "    plt.tight_layout()\n",
        "  plt.savefig(path, format=fig_extension, dpi=resolution)\n",
        "show_as_pie = 6\n",
        "show_as_hist = 40\n",
        "\n",
        "from sklearn.preprocessing import OrdinalEncoder\n",
        "for i in range (1, len(df.columns)):\n",
        "  print (df[df.columns[i]].value_counts())\n",
        "  df[\"multiple\"]=df[df.columns[i]].astype(str).str.find(',')\n",
        "  if np.max(df[\"multiple\"])>-1:\n",
        "    plot_multiple_choice(question=df.columns[i], db=df, figsize=(15,5))\n",
        "  else:\n",
        "    ordinal_encoder = OrdinalEncoder()\n",
        "    ordinated_encoded = ordinal_encoder.fit_transform(df[[df.columns[i]]])\n",
        "    labels = np.array(ordinal_encoder.categories_[0])\n",
        "    if len(ordinal_encoder.categories_[0])<show_as_pie :\n",
        "      val, _ = np.histogram(ordinated_encoded, bins=len(labels))\n",
        "      plt.figure(figsize=(5,5))\n",
        "      plt.pie(val, labels=labels)\n",
        "    else:\n",
        "      cat_num = np.linspace(1,len(ordinal_encoder.categories_[0]),len(ordinal_encoder.categories_[0]))\n",
        "      if len(cat_num) > show_as_hist:\n",
        "        cat_num = cat_num[::len(cat_num)//show_as_hist]\n",
        "        labels = labels[::len(cat_num)//show_as_hist]\n",
        "      plt.figure(figsize=(15,5))\n",
        "      plt.hist(ordinated_encoded, range=(0,len(ordinal_encoder.categories_[0])), bins=len(ordinal_encoder.categories_[0]))\n",
        "      plt.xticks(cat_num-0.5,labels, rotation='vertical')\n",
        "  plt.show()"
      ],
      "execution_count": 0,
      "outputs": []
    },
    {
      "cell_type": "markdown",
      "metadata": {
        "id": "5VkN7wXlCkxW",
        "colab_type": "text"
      },
      "source": [
        "# Look into data"
      ]
    },
    {
      "cell_type": "code",
      "metadata": {
        "id": "hfxujQ-SBfCK",
        "colab_type": "code",
        "colab": {}
      },
      "source": [
        "df.info()"
      ],
      "execution_count": 0,
      "outputs": []
    },
    {
      "cell_type": "code",
      "metadata": {
        "id": "PMc7GDerHocC",
        "colab_type": "code",
        "colab": {}
      },
      "source": [
        "df.describe()"
      ],
      "execution_count": 0,
      "outputs": []
    },
    {
      "cell_type": "code",
      "metadata": {
        "id": "-wAN8QsyDixe",
        "colab_type": "code",
        "colab": {}
      },
      "source": [
        "print(df['Cittadinanza'].value_counts())"
      ],
      "execution_count": 0,
      "outputs": []
    },
    {
      "cell_type": "markdown",
      "metadata": {
        "id": "3OYxuMVr3y-U",
        "colab_type": "text"
      },
      "source": [
        "# info\n",
        "jupyter notebook: https://www.dataquest.io/blog/jupyter-notebook-tips-tricks-shortcuts/\n",
        "\n",
        "selezionare elemeni in array o liste: https://teamtreehouse.com/community/how-do-i-get-the-first-4-and-last-4-items-of-a-list\n",
        "\n",
        "machine leaenring https://medium.com/botsupply/il-machine-learning-%C3%A8-divertente-parte-1-97d4bce99a06\n",
        "\n"
      ]
    },
    {
      "cell_type": "markdown",
      "metadata": {
        "id": "fYziw4PrTj9h",
        "colab_type": "text"
      },
      "source": [
        "# GET data from local file with autentication\n",
        "\n",
        "\n"
      ]
    },
    {
      "cell_type": "code",
      "metadata": {
        "id": "qQlkP8D2JrYA",
        "colab_type": "code",
        "colab": {}
      },
      "source": [
        "from google.colab import drive\n",
        "drive.mount('/content/drive')\n",
        "!ls /content/drive/\n",
        "!ls \"/content/drive/My Drive/Colab Notebooks\"\n",
        "import pandas as pd\n",
        "csv_file = \"/content/drive/My Drive/Colab Notebooks/_Be a Data Scientist a #IJF19 (Responses) - Form Responses 1.csv\"\n",
        "PROJECT_ROOT_DIR = \"/content/drive/My Drive/Colab Notebooks/\"\n",
        "CHAPTER_ID = \"end_to_end_project\"\n",
        "IMAGES_PATH = os.path.join(PROJECT_ROOT_DIR, \"images\", CHAPTER_ID)\n",
        "os.makedirs(IMAGES_PATH, exist_ok=True)\n",
        "df = pd.read_csv(csv_file)\n",
        "df.head()"
      ],
      "execution_count": 0,
      "outputs": []
    },
    {
      "cell_type": "markdown",
      "metadata": {
        "colab_type": "text",
        "id": "smCCO2f0bvnU"
      },
      "source": [
        "# example of dataset visualizzation"
      ]
    },
    {
      "cell_type": "code",
      "metadata": {
        "colab_type": "code",
        "id": "nnANCO-7bvnX",
        "colab": {}
      },
      "source": [
        "%matplotlib inline\n",
        "import matplotlib.pyplot as plt\n",
        "df['Sesso'].value_counts().plot(kind='pie')\n",
        "plt.show()  \n",
        "df['Sesso'].value_counts()\n"
      ],
      "execution_count": 0,
      "outputs": []
    },
    {
      "cell_type": "markdown",
      "metadata": {
        "colab_type": "text",
        "id": "-7oMYbtxbvnb"
      },
      "source": [
        "istogramma... \n",
        "l'ordine prescelto per una visulizzazione semplice e' in base a gli entries (che falsa la visulizzazione)"
      ]
    },
    {
      "cell_type": "code",
      "metadata": {
        "colab_type": "code",
        "id": "eKIS_grabvnb",
        "colab": {}
      },
      "source": [
        "df['Età in anni compiuti'].value_counts().plot(kind='bar')\n",
        "plt.show()  \n",
        " "
      ],
      "execution_count": 0,
      "outputs": []
    },
    {
      "cell_type": "markdown",
      "metadata": {
        "colab_type": "text",
        "id": "kzSyFWp1bvnc"
      },
      "source": [
        "data are index in ASCI oder and must be reindex "
      ]
    },
    {
      "cell_type": "code",
      "metadata": {
        "colab_type": "code",
        "id": "hfyxVNhJbvnd",
        "colab": {}
      },
      "source": [
        "ordine_eta = ['tra 11 e 14', 'tra 15 e 17', 'tra 18 e 19',\n",
        "       'tra 20 e 24', 'tra 25 e 34', 'tra 35 e 44', 'tra 45 e 54',\n",
        "       'tra 55 e 64', 'tra 65 e 74', '75 e oltre']\n",
        "df['Età in anni compiuti'].value_counts().reindex(ordine_eta).plot(kind='bar')\n",
        "plt.show() "
      ],
      "execution_count": 0,
      "outputs": []
    },
    {
      "cell_type": "code",
      "metadata": {
        "colab_type": "code",
        "id": "jz0S4d0Ybvnh",
        "colab": {}
      },
      "source": [
        "cat_eta = pd.Categorical(df['Età in anni compiuti'], \n",
        "                     categories=ordine_eta, \n",
        "                     ordered=True)\n",
        "cat_eta.value_counts().plot(kind='bar')\n",
        "plt.show()"
      ],
      "execution_count": 0,
      "outputs": []
    },
    {
      "cell_type": "markdown",
      "metadata": {
        "colab_type": "text",
        "id": "dQNCQG8Tbvni"
      },
      "source": [
        "per passarlo ad algorirmi di machine lenrning e' necessario indicizzarlo corretamente"
      ]
    },
    {
      "cell_type": "code",
      "metadata": {
        "colab_type": "code",
        "id": "mZ_WgmzMbvnj",
        "colab": {}
      },
      "source": [
        "from sklearn.preprocessing import OrdinalEncoder\n",
        "ordinal_encoder = OrdinalEncoder(categories=[ordine_eta])\n",
        "eta_encoded = ordinal_encoder.fit_transform(df[['Età in anni compiuti']])"
      ],
      "execution_count": 0,
      "outputs": []
    },
    {
      "cell_type": "markdown",
      "metadata": {
        "colab_type": "text",
        "id": "e-gS4DEQbvnk"
      },
      "source": [
        "segue esempio di unsepevised machine lerning che separa in 2 cluster\n",
        "dati raw"
      ]
    },
    {
      "cell_type": "code",
      "metadata": {
        "colab_type": "code",
        "id": "xAE3dzo_bvnl",
        "colab": {}
      },
      "source": [
        "print(ordinal_encoder.categories_)\n",
        "plt.hist(eta_encoded)\n",
        "plt.show()"
      ],
      "execution_count": 0,
      "outputs": []
    },
    {
      "cell_type": "markdown",
      "metadata": {
        "colab_type": "text",
        "id": "Ws19XiqVbvnm"
      },
      "source": [
        "applichaimo una classificazione per capire le famiglie di dati separati in 2 cluster usando KMeans"
      ]
    },
    {
      "cell_type": "code",
      "metadata": {
        "colab_type": "code",
        "id": "K4cy12anbvnn",
        "colab": {}
      },
      "source": [
        "from sklearn import cluster\n",
        "import numpy as np\n",
        "X = eta_encoded\n",
        "k_means = cluster.KMeans(n_clusters=2)\n",
        "k_means.fit(X)\n",
        "#labels = dff.columns\n",
        "labels = k_means.labels_\n",
        "#plt.scatter(X[:,1], X[:,0], c=labels.astype(np.float))\n",
        "plt.hist(X, range=(0,len(ordinal_encoder.categories_[0])), bins=len(ordinal_encoder.categories_[0]))\n",
        "plt.hist(X[labels==0], range=(0,len(ordinal_encoder.categories_[0])), bins=len(ordinal_encoder.categories_[0]),color = 'r')\n",
        "plt.xticks([0,1,2,3,4,5,6,7,8,9], ordine_eta, rotation='vertical')\n",
        "plt.show()\n",
        "print(ordinal_encoder.categories_[0])\n"
      ],
      "execution_count": 0,
      "outputs": []
    },
    {
      "cell_type": "markdown",
      "metadata": {
        "id": "h7OE3Xmwjl62",
        "colab_type": "text"
      },
      "source": [
        "campi con rispote multiple: esempio con il campo \"Quali argomenti ti vengono suggeriti mentre sei online\""
      ]
    },
    {
      "cell_type": "code",
      "metadata": {
        "id": "BPUtkmXRc0B5",
        "colab_type": "code",
        "outputId": "660171d1-34e0-430e-ac24-6b36758c0281",
        "colab": {
          "base_uri": "https://localhost:8080/",
          "height": 34
        }
      },
      "source": [
        "question='Quali argomenti ti vengono suggeriti mentre sei online'\n",
        "question='Negli ultimi 12 mesi, quando hai cercato notizie, quanto tempo hai impiegato mediamente al giorno nella ricerca?'\n",
        "df[\"multiple\"]=df[question].str.find(',')\n",
        "if np.max(df[\"multiple\"])>-1:\n",
        "  print (len(df[question].str.split(',\\s*')))\n",
        "np.max(df[\"multiple\"])\n"
      ],
      "execution_count": 0,
      "outputs": [
        {
          "output_type": "execute_result",
          "data": {
            "text/plain": [
              "-1"
            ]
          },
          "metadata": {
            "tags": []
          },
          "execution_count": 71
        }
      ]
    },
    {
      "cell_type": "code",
      "metadata": {
        "id": "kWtSle9BcT1o",
        "colab_type": "code",
        "colab": {}
      },
      "source": [
        "multiple_answar = df['Quali argomenti ti vengono suggeriti mentre sei online'].str.split(',\\s*').apply(lambda x: pd.Series(1,index=x)).fillna(0)\n",
        "multiple_answar.hist(figsize=(20,15))\n",
        "\n",
        "plt.show()"
      ],
      "execution_count": 0,
      "outputs": []
    },
    {
      "cell_type": "code",
      "metadata": {
        "id": "em905aivkLEJ",
        "colab_type": "code",
        "colab": {}
      },
      "source": [
        "labels=[]\n",
        "values=[]\n",
        "plt.figure(figsize=(10,5))\n",
        "for i in range (1, len(multiple_answar.columns)):\n",
        "  #print(multiple_answar.columns[i], multiple_answar[multiple_answar.columns[i]].sum())\n",
        "  labels.append(multiple_answar.columns[i])\n",
        "  values.append(multiple_answar[multiple_answar.columns[i]].sum()/len(df))\n",
        "x = np.linspace(0,len(labels),len(labels))\n",
        "plt.bar(x, np.array(values))\n",
        "plt.xticks(x, labels, rotation='vertical')\n",
        "plt.ylabel('percentage')\n",
        "plt.show()"
      ],
      "execution_count": 0,
      "outputs": []
    },
    {
      "cell_type": "code",
      "metadata": {
        "id": "hy2cLJZjphLL",
        "colab_type": "code",
        "colab": {}
      },
      "source": [
        "def plot_multiple_choice(question, db, fsize):\n",
        "  %matplotlib inline\n",
        "  import matplotlib.pyplot as plt\n",
        "  multiple_answar = db[question].str.split(',\\s*').apply(lambda x: pd.Series(1,index=x)).fillna(0)\n",
        "  labels=[]\n",
        "  values=[]\n",
        "  plt.figure(figsize=fsize)\n",
        "  for i in range (1, len(multiple_answar.columns)):\n",
        "    labels.append(multiple_answar.columns[i])\n",
        "    values.append(multiple_answar[multiple_answar.columns[i]].sum()/len(db))\n",
        "  x = np.linspace(0,len(labels),len(labels))\n",
        "  plt.bar(x, np.array(values))\n",
        "  plt.xticks(x, labels, rotation='vertical')\n",
        "  plt.ylabel('percentage [%]')\n",
        "  plt.show()\n",
        "\n",
        "plot_multiple_choice(question='Quali social usi di più per informarti?', db=df, fsize=(10,5))\n"
      ],
      "execution_count": 0,
      "outputs": []
    }
  ]
}