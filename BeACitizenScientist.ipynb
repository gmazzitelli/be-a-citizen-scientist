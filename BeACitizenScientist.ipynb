{
  "nbformat": 4,
  "nbformat_minor": 0,
  "metadata": {
    "colab": {
      "name": "BeACitizenScientist.ipynb",
      "version": "0.3.2",
      "provenance": [],
      "collapsed_sections": [],
      "include_colab_link": true
    },
    "kernelspec": {
      "name": "python3",
      "display_name": "Python 3"
    }
  },
  "cells": [
    {
      "cell_type": "markdown",
      "metadata": {
        "id": "view-in-github",
        "colab_type": "text"
      },
      "source": [
        "<a href=\"https://colab.research.google.com/github/gmazzitelli/be-a-citizen-scientist/blob/master/BeACitizenScientist.ipynb\" target=\"_parent\"><img src=\"https://colab.research.google.com/assets/colab-badge.svg\" alt=\"Open In Colab\"/></a>"
      ]
    },
    {
      "cell_type": "markdown",
      "metadata": {
        "id": "fYziw4PrTj9h",
        "colab_type": "text"
      },
      "source": [
        "# GET data from local file with autentication\n",
        "\n",
        "\n"
      ]
    },
    {
      "cell_type": "code",
      "metadata": {
        "id": "qQlkP8D2JrYA",
        "colab_type": "code",
        "colab": {}
      },
      "source": [
        "from google.colab import drive\n",
        "drive.mount('/content/drive')\n",
        "!ls /content/drive/\n",
        "!ls \"/content/drive/My Drive/Colab Notebooks\"\n",
        "import pandas as pd\n",
        "csv_file = \"/content/drive/My Drive/Colab Notebooks/_Be a Data Scientist a #IJF19 (Responses) - Form Responses 1.csv\"\n",
        "df = pd.read_csv(csv_file)\n",
        "df.head()"
      ],
      "execution_count": 0,
      "outputs": []
    },
    {
      "cell_type": "markdown",
      "metadata": {
        "id": "bJOYMMk93sXE",
        "colab_type": "text"
      },
      "source": [
        "# GET data from URL\n",
        "Carica il file del questionario dalla URL (shared readeable file)\n",
        "buona refence [link text](https://michaelsaruggia.com/python-per-data-science-pandas/)"
      ]
    },
    {
      "cell_type": "code",
      "metadata": {
        "id": "VqV02vrl1k52",
        "colab_type": "code",
        "colab": {
          "base_uri": "https://localhost:8080/",
          "height": 836
        },
        "outputId": "2ffb3ac6-de78-42de-ac52-347706ec8666"
      },
      "source": [
        "import numpy as np\n",
        "import pandas as pd\n",
        "url_csv_file = \"https://docs.google.com/spreadsheet/ccc?key=19zCRezCS3yIy6_Igzex2sotnNja2Ks57RonGX8W2R8I&output=csv\"\n",
        "df = pd.read_csv(url_csv_file).replace(np.nan, 'no answer', regex=True)\n",
        "df.head()"
      ],
      "execution_count": 44,
      "outputs": [
        {
          "output_type": "execute_result",
          "data": {
            "text/html": [
              "<div>\n",
              "<style scoped>\n",
              "    .dataframe tbody tr th:only-of-type {\n",
              "        vertical-align: middle;\n",
              "    }\n",
              "\n",
              "    .dataframe tbody tr th {\n",
              "        vertical-align: top;\n",
              "    }\n",
              "\n",
              "    .dataframe thead th {\n",
              "        text-align: right;\n",
              "    }\n",
              "</style>\n",
              "<table border=\"1\" class=\"dataframe\">\n",
              "  <thead>\n",
              "    <tr style=\"text-align: right;\">\n",
              "      <th></th>\n",
              "      <th>Timestamp</th>\n",
              "      <th>Età in anni compiuti</th>\n",
              "      <th>Sesso</th>\n",
              "      <th>Cittadinanza</th>\n",
              "      <th>Sei nato in Italia?</th>\n",
              "      <th>Provincia di nascita</th>\n",
              "      <th>Provincia di dimora abituale</th>\n",
              "      <th>Titolo di Studio più alto conseguito</th>\n",
              "      <th>Cittadinanza del padre</th>\n",
              "      <th>Tuo padre è nato in Italia?</th>\n",
              "      <th>Provincia di nascita del padre</th>\n",
              "      <th>Cittadinanza della madre</th>\n",
              "      <th>Tua madre è nata in Italia?</th>\n",
              "      <th>Provincia di nascita della madre</th>\n",
              "      <th>Negli ultimi 12 mesi ti è mai capitato di cercare informazioni?</th>\n",
              "      <th>Negli ultimi 12 mesi quante volte hai cercato informazioni?</th>\n",
              "      <th>Negli ultimi 12 mesi che strumenti hai utilizzato per cercare informazioni?  [Carta (es. giornali, riviste, ecc.)]</th>\n",
              "      <th>Negli ultimi 12 mesi che strumenti hai utilizzato per cercare informazioni?  [Tv (es. telegiornali, talkshow)]</th>\n",
              "      <th>Negli ultimi 12 mesi che strumenti hai utilizzato per cercare informazioni?  [Radio (es. giornaleradio)]</th>\n",
              "      <th>Negli ultimi 12 mesi che strumenti hai utilizzato per cercare informazioni?  [Persone (amici, scuola, famiglia)]</th>\n",
              "      <th>Negli ultimi 12 mesi che strumenti hai utilizzato per cercare informazioni?  [Internet]</th>\n",
              "      <th>Negli ultimi 12 mesi che strumenti hai utilizzato per cercare informazioni?  [Altro]</th>\n",
              "      <th>Tra gli strumenti che negli ultimi 12 mesi hai utilizzato per cercare informazioni, qual è quello che preferisci usare?</th>\n",
              "      <th>Negli ultimi 12 mesi, quando hai cercato notizie, quanto tempo hai impiegato mediamente al giorno nella ricerca?</th>\n",
              "      <th>Quali notizie ti fanno paura?</th>\n",
              "      <th>Con che frequenza ti informi su argomenti riguardanti la scienza?</th>\n",
              "      <th>Quali argomenti scientifici ti attirano di più</th>\n",
              "      <th>Quando hai saputo della strage in discoteca a Corinaldo al concerto di Sfera Ebbasta, cosa ha catturato la tua attenzione?</th>\n",
              "      <th>Da dove hai appreso della caduta del ponte Morandi a Genova?</th>\n",
              "      <th>Hai mai usato internet?</th>\n",
              "      <th>Sul web, dove prendi le informazioni? [testate giornalistiche online]</th>\n",
              "      <th>Sul web, dove prendi le informazioni? [social]</th>\n",
              "      <th>Sul web, dove prendi le informazioni? [motori di ricerca (es google, safari, ping]</th>\n",
              "      <th>Sul web, dove prendi le informazioni? [siti specifici che conosco]</th>\n",
              "      <th>Sul web, dove prendi le informazioni? [app dedicate]</th>\n",
              "      <th>Sul web, dove prendi le informazioni? [newsletter via email]</th>\n",
              "      <th>Quali social usi di più per informarti?</th>\n",
              "      <th>Tra i social che usi di più anche per informati, quale preferisci?</th>\n",
              "      <th>Cosa cerchi di più su internet?</th>\n",
              "      <th>Qual è la prima cosa che vai a vedere sui social?</th>\n",
              "      <th>Da dove ricevi notizie senza cercarle quando sei on line?</th>\n",
              "      <th>Quali argomenti ti vengono suggeriti mentre sei online</th>\n",
              "      <th>Cosa attrae innanzitutto la tua attenzione su una notizia on line?</th>\n",
              "      <th>Condividi le notizie?</th>\n",
              "      <th>Con chi le condividi?</th>\n",
              "      <th>Come condividi le notizie che leggi?</th>\n",
              "      <th>Quando condividi lo fai ...  [Perché è una notizia che mi ha impressionato]</th>\n",
              "      <th>Quando condividi lo fai ...  [Per farlo sapere a tutti]</th>\n",
              "      <th>Quando condividi lo fai ...  [Per commentare]</th>\n",
              "      <th>Quando condividi lo fai ...  [Perché lo fanno tutti]</th>\n",
              "      <th>Secondo te ci si può fidare di ciò che scrivono i giornalisti?</th>\n",
              "      <th>Secondo te ci si può fidare delle notizie che si trovano su internet?</th>\n",
              "      <th>Ritieni che esistano sistemi sicuri per capire con certezza se una notizia è vera o no?</th>\n",
              "      <th>Cosa ti fa capire se una notizia è attendibile? [La notizia in sé, l'argomento che tratta]</th>\n",
              "      <th>Cosa ti fa capire se una notizia è attendibile? [Se riporta le fonti da cui è tratto l'argomento]</th>\n",
              "      <th>Cosa ti fa capire se una notizia è attendibile? [Il modo in cui è raccontata la notizia]</th>\n",
              "      <th>Cosa ti fa capire se una notizia è attendibile? [La fonte che la pubblica (il sito, il giornale, il social)]</th>\n",
              "      <th>Cosa ti fa capire se una notizia è attendibile? [La forma e lo stile]</th>\n",
              "      <th>Cosa ti fa capire se una notizia è attendibile? [altro]</th>\n",
              "      <th>Secondo te dove si diffondono di più le fake news?</th>\n",
              "      <th>Quali sono gli argormenti fake che attecchiscono di più?</th>\n",
              "      <th>Secondo te a che età si è più inclini a condividere una fake news?</th>\n",
              "      <th>Sai cos'è la reputazione digitale?</th>\n",
              "      <th>Sai quali pericoli potrebbero esserci nel postare le foto sui social?</th>\n",
              "    </tr>\n",
              "  </thead>\n",
              "  <tbody>\n",
              "    <tr>\n",
              "      <th>0</th>\n",
              "      <td>4/1/2019 19:34:25</td>\n",
              "      <td>tra 35 e 44</td>\n",
              "      <td>F</td>\n",
              "      <td>italiana</td>\n",
              "      <td>no answer</td>\n",
              "      <td>Roma</td>\n",
              "      <td>Roma</td>\n",
              "      <td>scuola primaria</td>\n",
              "      <td>italiana</td>\n",
              "      <td>no answer</td>\n",
              "      <td>Belluno</td>\n",
              "      <td>italiana</td>\n",
              "      <td>no answer</td>\n",
              "      <td>Asti</td>\n",
              "      <td>Sì</td>\n",
              "      <td>Meno di una volta al mese</td>\n",
              "      <td>raramente</td>\n",
              "      <td>raramente</td>\n",
              "      <td>raramente</td>\n",
              "      <td>raramente</td>\n",
              "      <td>raramente</td>\n",
              "      <td>raramente</td>\n",
              "      <td>Radio</td>\n",
              "      <td>circa 30 minuti</td>\n",
              "      <td>bullismo</td>\n",
              "      <td>giornalmente</td>\n",
              "      <td>matematica, medicina, ecologia/clima</td>\n",
              "      <td>i titoli delle testate giornalistiche</td>\n",
              "      <td>da un social, da un'app di informazione, dalla tv</td>\n",
              "      <td>Sì</td>\n",
              "      <td>mai</td>\n",
              "      <td>mai</td>\n",
              "      <td>mai</td>\n",
              "      <td>mai</td>\n",
              "      <td>mai</td>\n",
              "      <td>no answer</td>\n",
              "      <td>Instagram, Facebook, Twitter</td>\n",
              "      <td>Instagram</td>\n",
              "      <td>gossip, Notizie/cronaca/attualità, shopping on...</td>\n",
              "      <td>memes</td>\n",
              "      <td>Da un'app di news (es google news, apple news...)</td>\n",
              "      <td>gossip, Notizie/cronaca/attualità, shopping on...</td>\n",
              "      <td>il titolo</td>\n",
              "      <td>mai</td>\n",
              "      <td>famiglia</td>\n",
              "      <td>no answer</td>\n",
              "      <td>no answer</td>\n",
              "      <td>no answer</td>\n",
              "      <td>no answer</td>\n",
              "      <td>no answer</td>\n",
              "      <td>generalmente si</td>\n",
              "      <td>generalmente si</td>\n",
              "      <td>si</td>\n",
              "      <td>poco</td>\n",
              "      <td>poco</td>\n",
              "      <td>poco</td>\n",
              "      <td>poco</td>\n",
              "      <td>poco</td>\n",
              "      <td>poco</td>\n",
              "      <td>Instagram</td>\n",
              "      <td>Notizie/cronaca/attualità</td>\n",
              "      <td>sopra i 50</td>\n",
              "      <td>non mi interessa</td>\n",
              "      <td>lo so, ma non mi interessa</td>\n",
              "    </tr>\n",
              "    <tr>\n",
              "      <th>1</th>\n",
              "      <td>4/1/2019 19:47:19</td>\n",
              "      <td>tra 55 e 64</td>\n",
              "      <td>F</td>\n",
              "      <td>italiana</td>\n",
              "      <td>no answer</td>\n",
              "      <td>Pescara</td>\n",
              "      <td>Roma</td>\n",
              "      <td>laurea magistrale a ciclo unico</td>\n",
              "      <td>italiana</td>\n",
              "      <td>no answer</td>\n",
              "      <td>Venezia</td>\n",
              "      <td>italiana</td>\n",
              "      <td>no answer</td>\n",
              "      <td>Arezzo</td>\n",
              "      <td>Sì</td>\n",
              "      <td>Tutti i giorni</td>\n",
              "      <td>raramente</td>\n",
              "      <td>raramente</td>\n",
              "      <td>spesso</td>\n",
              "      <td>raramente</td>\n",
              "      <td>sempre</td>\n",
              "      <td>mai</td>\n",
              "      <td>Internet</td>\n",
              "      <td>più di un'ora</td>\n",
              "      <td>violenze e/o abusi sulle donne, violenze e/o a...</td>\n",
              "      <td>settimanalmente</td>\n",
              "      <td>ecologia/clima, curiosità scientifiche, tecnol...</td>\n",
              "      <td>commenti e discussioni riguardo la notizia</td>\n",
              "      <td>da un giornale o rivista online, dalla tv</td>\n",
              "      <td>Sì</td>\n",
              "      <td>sempre</td>\n",
              "      <td>sempre</td>\n",
              "      <td>sempre</td>\n",
              "      <td>sempre</td>\n",
              "      <td>raramente</td>\n",
              "      <td>no answer</td>\n",
              "      <td>Facebook, Twitter</td>\n",
              "      <td>Twitter</td>\n",
              "      <td>Notizie/cronaca/attualità, politica, scienza (...</td>\n",
              "      <td>no answer</td>\n",
              "      <td>Da un motore di ricerca online (es google, bin...</td>\n",
              "      <td>Notizie/cronaca/attualità, politica, scienza (...</td>\n",
              "      <td>commenti e discussioni riguardo la notizia</td>\n",
              "      <td>spesso</td>\n",
              "      <td>tutti, attraverso post pubblici</td>\n",
              "      <td>no answer</td>\n",
              "      <td>no answer</td>\n",
              "      <td>no answer</td>\n",
              "      <td>no answer</td>\n",
              "      <td>no answer</td>\n",
              "      <td>dipende dal giornale o dalla fonte</td>\n",
              "      <td>dipende dalla notizia</td>\n",
              "      <td>dipende</td>\n",
              "      <td>abbastanza</td>\n",
              "      <td>molto</td>\n",
              "      <td>molto</td>\n",
              "      <td>molto</td>\n",
              "      <td>molto</td>\n",
              "      <td>abbastanza</td>\n",
              "      <td>blog e siti vari</td>\n",
              "      <td>politica, scienza, cibo, salute</td>\n",
              "      <td>sopra i 50</td>\n",
              "      <td>si</td>\n",
              "      <td>si</td>\n",
              "    </tr>\n",
              "    <tr>\n",
              "      <th>2</th>\n",
              "      <td>4/2/2019 15:32:41</td>\n",
              "      <td>tra 45 e 54</td>\n",
              "      <td>M</td>\n",
              "      <td>europea</td>\n",
              "      <td>no answer</td>\n",
              "      <td>no answer</td>\n",
              "      <td>Fermo</td>\n",
              "      <td>laurea di primo livello</td>\n",
              "      <td>europea</td>\n",
              "      <td>no answer</td>\n",
              "      <td>no answer</td>\n",
              "      <td>europea</td>\n",
              "      <td>no answer</td>\n",
              "      <td>no answer</td>\n",
              "      <td>Sì</td>\n",
              "      <td>Tutti i giorni</td>\n",
              "      <td>raramente</td>\n",
              "      <td>raramente</td>\n",
              "      <td>raramente</td>\n",
              "      <td>raramente</td>\n",
              "      <td>raramente</td>\n",
              "      <td>mai</td>\n",
              "      <td>Radio</td>\n",
              "      <td>circa 30 minuti</td>\n",
              "      <td>violenze e/o abusi sui minori, catastrofi natu...</td>\n",
              "      <td>settimanalmente</td>\n",
              "      <td>ecologia/clima, astronomia, curiosità scientif...</td>\n",
              "      <td>le immagini, i video, il fatto che fosse molto...</td>\n",
              "      <td>da internet, da un giornale o rivista cartacea...</td>\n",
              "      <td>No</td>\n",
              "      <td>no answer</td>\n",
              "      <td>no answer</td>\n",
              "      <td>no answer</td>\n",
              "      <td>no answer</td>\n",
              "      <td>no answer</td>\n",
              "      <td>no answer</td>\n",
              "      <td>no answer</td>\n",
              "      <td>no answer</td>\n",
              "      <td>no answer</td>\n",
              "      <td>no answer</td>\n",
              "      <td>no answer</td>\n",
              "      <td>no answer</td>\n",
              "      <td>no answer</td>\n",
              "      <td>no answer</td>\n",
              "      <td>no answer</td>\n",
              "      <td>no answer</td>\n",
              "      <td>no answer</td>\n",
              "      <td>no answer</td>\n",
              "      <td>no answer</td>\n",
              "      <td>no answer</td>\n",
              "      <td>dipende dal giornale o dalla fonte</td>\n",
              "      <td>generalmente si</td>\n",
              "      <td>dipende</td>\n",
              "      <td>abbastanza</td>\n",
              "      <td>poco</td>\n",
              "      <td>molto</td>\n",
              "      <td>abbastanza</td>\n",
              "      <td>per niente</td>\n",
              "      <td>poco</td>\n",
              "      <td>Facebook, Twitter, Reddit</td>\n",
              "      <td>sport, politica, scienza, moda, cibo</td>\n",
              "      <td>tra 41 e 50</td>\n",
              "      <td>no</td>\n",
              "      <td>no</td>\n",
              "    </tr>\n",
              "    <tr>\n",
              "      <th>3</th>\n",
              "      <td>4/3/2019 20:22:05</td>\n",
              "      <td>tra 18 e 19</td>\n",
              "      <td>F</td>\n",
              "      <td>altra</td>\n",
              "      <td>no answer</td>\n",
              "      <td>no answer</td>\n",
              "      <td>Roma</td>\n",
              "      <td>licenza di scuola secondaria di primo grado</td>\n",
              "      <td>altra</td>\n",
              "      <td>no answer</td>\n",
              "      <td>no answer</td>\n",
              "      <td>altra</td>\n",
              "      <td>no answer</td>\n",
              "      <td>no answer</td>\n",
              "      <td>Sì</td>\n",
              "      <td>Più di due volte a settimana</td>\n",
              "      <td>mai</td>\n",
              "      <td>spesso</td>\n",
              "      <td>raramente</td>\n",
              "      <td>raramente</td>\n",
              "      <td>sempre</td>\n",
              "      <td>mai, raramente</td>\n",
              "      <td>Internet</td>\n",
              "      <td>meno di 10 minuti</td>\n",
              "      <td>terrorismo, violenze e/o abusi sulle donne, vi...</td>\n",
              "      <td>praticamente mai</td>\n",
              "      <td>no answer</td>\n",
              "      <td>commenti e discussioni riguardo la notizia</td>\n",
              "      <td>da internet</td>\n",
              "      <td>Sì</td>\n",
              "      <td>spesso</td>\n",
              "      <td>spesso</td>\n",
              "      <td>spesso</td>\n",
              "      <td>sempre</td>\n",
              "      <td>mai</td>\n",
              "      <td>no answer</td>\n",
              "      <td>Instagram</td>\n",
              "      <td>Instagram</td>\n",
              "      <td>gossip, Notizie/cronaca/attualità, moda, film ...</td>\n",
              "      <td>memes</td>\n",
              "      <td>Da un motore di ricerca online (es google, bin...</td>\n",
              "      <td>gossip, shopping online, moda, cibo, film - se...</td>\n",
              "      <td>il titolo, l'argomento che tratta</td>\n",
              "      <td>raramente</td>\n",
              "      <td>famiglia, gruppi con lo stesso interesse</td>\n",
              "      <td>no answer</td>\n",
              "      <td>no answer</td>\n",
              "      <td>no answer</td>\n",
              "      <td>no answer</td>\n",
              "      <td>no answer</td>\n",
              "      <td>dipende dal giornale o dalla fonte</td>\n",
              "      <td>dipende dalla notizia</td>\n",
              "      <td>no</td>\n",
              "      <td>per niente</td>\n",
              "      <td>abbastanza</td>\n",
              "      <td>per niente</td>\n",
              "      <td>abbastanza</td>\n",
              "      <td>per niente</td>\n",
              "      <td>per niente</td>\n",
              "      <td>Instagram, Facebook, messaggistica istantanea ...</td>\n",
              "      <td>politica, religioni, associazioni religiose, g...</td>\n",
              "      <td>tra 15 e 20</td>\n",
              "      <td>no</td>\n",
              "      <td>si</td>\n",
              "    </tr>\n",
              "    <tr>\n",
              "      <th>4</th>\n",
              "      <td>4/4/2019 16:35:20</td>\n",
              "      <td>tra 55 e 64</td>\n",
              "      <td>M</td>\n",
              "      <td>italiana</td>\n",
              "      <td>Sì</td>\n",
              "      <td>Viterbo</td>\n",
              "      <td>Perugia</td>\n",
              "      <td>laurea vecchio ordinamento</td>\n",
              "      <td>italiana</td>\n",
              "      <td>Sì</td>\n",
              "      <td>Viterbo</td>\n",
              "      <td>italiana</td>\n",
              "      <td>Sì</td>\n",
              "      <td>Viterbo</td>\n",
              "      <td>Sì</td>\n",
              "      <td>Tutti i giorni</td>\n",
              "      <td>raramente</td>\n",
              "      <td>spesso</td>\n",
              "      <td>raramente</td>\n",
              "      <td>raramente</td>\n",
              "      <td>sempre</td>\n",
              "      <td>mai</td>\n",
              "      <td>Internet</td>\n",
              "      <td>circa 30 minuti</td>\n",
              "      <td>bullismo, violenze e/o abusi sulle donne, viol...</td>\n",
              "      <td>giornalmente</td>\n",
              "      <td>chimica, tecnologia, innovazione, biologia</td>\n",
              "      <td>i titoli delle testate giornalistiche, i video</td>\n",
              "      <td>dalla tv, da una persona che ne parlava</td>\n",
              "      <td>Sì</td>\n",
              "      <td>sempre</td>\n",
              "      <td>raramente</td>\n",
              "      <td>sempre</td>\n",
              "      <td>sempre</td>\n",
              "      <td>mai</td>\n",
              "      <td>no answer</td>\n",
              "      <td>Altro</td>\n",
              "      <td>Altro</td>\n",
              "      <td>Notizie/cronaca/attualità, scienza (scoperte s...</td>\n",
              "      <td>news</td>\n",
              "      <td>Non ne ricevo</td>\n",
              "      <td>altro</td>\n",
              "      <td>il titolo, l'argomento che tratta</td>\n",
              "      <td>raramente</td>\n",
              "      <td>famiglia, amici più stretti</td>\n",
              "      <td>no answer</td>\n",
              "      <td>no answer</td>\n",
              "      <td>no answer</td>\n",
              "      <td>no answer</td>\n",
              "      <td>no answer</td>\n",
              "      <td>dipende dal giornale o dalla fonte</td>\n",
              "      <td>dipende dalla notizia</td>\n",
              "      <td>si</td>\n",
              "      <td>poco</td>\n",
              "      <td>abbastanza</td>\n",
              "      <td>abbastanza</td>\n",
              "      <td>abbastanza</td>\n",
              "      <td>poco</td>\n",
              "      <td>per niente</td>\n",
              "      <td>blog e siti vari</td>\n",
              "      <td>Notizie/cronaca/attualità, scienza, salute, te...</td>\n",
              "      <td>tra 15 e 20</td>\n",
              "      <td>si</td>\n",
              "      <td>si</td>\n",
              "    </tr>\n",
              "  </tbody>\n",
              "</table>\n",
              "</div>"
            ],
            "text/plain": [
              "           Timestamp  ... Sai quali pericoli potrebbero esserci nel postare le foto sui social?\n",
              "0  4/1/2019 19:34:25  ...                         lo so, ma non mi interessa                   \n",
              "1  4/1/2019 19:47:19  ...                                                 si                   \n",
              "2  4/2/2019 15:32:41  ...                                                 no                   \n",
              "3  4/3/2019 20:22:05  ...                                                 si                   \n",
              "4  4/4/2019 16:35:20  ...                                                 si                   \n",
              "\n",
              "[5 rows x 64 columns]"
            ]
          },
          "metadata": {
            "tags": []
          },
          "execution_count": 44
        }
      ]
    },
    {
      "cell_type": "markdown",
      "metadata": {
        "id": "5VkN7wXlCkxW",
        "colab_type": "text"
      },
      "source": [
        "# Look into data"
      ]
    },
    {
      "cell_type": "code",
      "metadata": {
        "id": "hfxujQ-SBfCK",
        "colab_type": "code",
        "colab": {
          "base_uri": "https://localhost:8080/",
          "height": 1210
        },
        "outputId": "4ed39bc7-1234-40bf-e8d3-628e08084a27"
      },
      "source": [
        "df.info()"
      ],
      "execution_count": 45,
      "outputs": [
        {
          "output_type": "stream",
          "text": [
            "<class 'pandas.core.frame.DataFrame'>\n",
            "RangeIndex: 1014 entries, 0 to 1013\n",
            "Data columns (total 64 columns):\n",
            "Timestamp                                                                                                                     1014 non-null object\n",
            "Età in anni compiuti                                                                                                          1014 non-null object\n",
            "Sesso                                                                                                                         1014 non-null object\n",
            "Cittadinanza                                                                                                                  1014 non-null object\n",
            "Sei nato in Italia?                                                                                                           1014 non-null object\n",
            "Provincia di nascita                                                                                                          1014 non-null object\n",
            "Provincia di dimora abituale                                                                                                  1014 non-null object\n",
            "Titolo di Studio più alto conseguito                                                                                          1014 non-null object\n",
            "Cittadinanza del padre                                                                                                        1014 non-null object\n",
            "Tuo padre è nato in Italia?                                                                                                   1014 non-null object\n",
            "Provincia di nascita del padre                                                                                                1014 non-null object\n",
            "Cittadinanza della madre                                                                                                      1014 non-null object\n",
            "Tua madre è nata in Italia?                                                                                                   1014 non-null object\n",
            "Provincia di nascita della madre                                                                                              1014 non-null object\n",
            "Negli ultimi 12 mesi ti è mai capitato di cercare informazioni?                                                               1014 non-null object\n",
            "Negli ultimi 12 mesi quante volte hai cercato informazioni?                                                                   1014 non-null object\n",
            "Negli ultimi 12 mesi che strumenti hai utilizzato per cercare informazioni?  [Carta (es. giornali, riviste, ecc.)]            1014 non-null object\n",
            "Negli ultimi 12 mesi che strumenti hai utilizzato per cercare informazioni?  [Tv (es. telegiornali, talkshow)]                1014 non-null object\n",
            "Negli ultimi 12 mesi che strumenti hai utilizzato per cercare informazioni?  [Radio (es. giornaleradio)]                      1014 non-null object\n",
            "Negli ultimi 12 mesi che strumenti hai utilizzato per cercare informazioni?  [Persone (amici, scuola, famiglia)]              1014 non-null object\n",
            "Negli ultimi 12 mesi che strumenti hai utilizzato per cercare informazioni?  [Internet]                                       1014 non-null object\n",
            "Negli ultimi 12 mesi che strumenti hai utilizzato per cercare informazioni?  [Altro]                                          1014 non-null object\n",
            "Tra gli strumenti che negli ultimi 12 mesi hai utilizzato per cercare informazioni, qual è quello che preferisci usare?       1014 non-null object\n",
            "Negli ultimi 12 mesi, quando hai cercato notizie, quanto tempo hai impiegato mediamente al giorno nella ricerca?              1014 non-null object\n",
            "Quali notizie ti fanno paura?                                                                                                 1014 non-null object\n",
            "Con che frequenza ti informi su argomenti riguardanti la scienza?                                                             1014 non-null object\n",
            "Quali argomenti scientifici ti attirano di più                                                                                1014 non-null object\n",
            "Quando hai saputo della strage in discoteca a Corinaldo al concerto di Sfera Ebbasta, cosa ha catturato la tua attenzione?    1014 non-null object\n",
            "Da dove hai appreso della caduta del ponte Morandi a Genova?                                                                  1014 non-null object\n",
            "Hai mai usato internet?                                                                                                       1014 non-null object\n",
            "Sul web, dove prendi le informazioni? [testate giornalistiche online]                                                         1014 non-null object\n",
            "Sul web, dove prendi le informazioni? [social]                                                                                1014 non-null object\n",
            "Sul web, dove prendi le informazioni? [motori di ricerca (es google, safari, ping]                                            1014 non-null object\n",
            "Sul web, dove prendi le informazioni? [siti specifici che conosco]                                                            1014 non-null object\n",
            "Sul web, dove prendi le informazioni? [app dedicate]                                                                          1014 non-null object\n",
            "Sul web, dove prendi le informazioni? [newsletter via email]                                                                  1014 non-null object\n",
            "Quali social usi di più per informarti?                                                                                       1014 non-null object\n",
            "Tra i social che usi di più anche per informati, quale preferisci?                                                            1014 non-null object\n",
            "Cosa cerchi di più su internet?                                                                                               1014 non-null object\n",
            "Qual è la prima cosa che vai a vedere sui social?                                                                             1014 non-null object\n",
            "Da dove ricevi notizie senza cercarle quando sei on line?                                                                     1014 non-null object\n",
            "Quali argomenti ti vengono suggeriti mentre sei online                                                                        1014 non-null object\n",
            "Cosa attrae innanzitutto la tua attenzione su una notizia on line?                                                            1014 non-null object\n",
            "Condividi le notizie?                                                                                                         1014 non-null object\n",
            "Con chi le condividi?                                                                                                         1014 non-null object\n",
            "Come condividi le notizie che leggi?                                                                                          1014 non-null object\n",
            "Quando condividi lo fai ...  [Perché è una notizia che mi ha impressionato]                                                   1014 non-null object\n",
            "Quando condividi lo fai ...  [Per farlo sapere a tutti]                                                                       1014 non-null object\n",
            "Quando condividi lo fai ...  [Per commentare]                                                                                 1014 non-null object\n",
            "Quando condividi lo fai ...  [Perché lo fanno tutti]                                                                          1014 non-null object\n",
            "Secondo te ci si può fidare di ciò che scrivono i giornalisti?                                                                1014 non-null object\n",
            "Secondo te ci si può fidare delle notizie che si trovano su internet?                                                         1014 non-null object\n",
            "Ritieni che esistano sistemi sicuri per capire con certezza se una notizia è vera o no?                                       1014 non-null object\n",
            "Cosa ti fa capire se una notizia è attendibile? [La notizia in sé, l'argomento che tratta]                                    1014 non-null object\n",
            "Cosa ti fa capire se una notizia è attendibile? [Se riporta le fonti da cui è tratto l'argomento]                             1014 non-null object\n",
            "Cosa ti fa capire se una notizia è attendibile? [Il modo in cui è raccontata la notizia]                                      1014 non-null object\n",
            "Cosa ti fa capire se una notizia è attendibile? [La fonte che la pubblica (il sito, il giornale, il social)]                  1014 non-null object\n",
            "Cosa ti fa capire se una notizia è attendibile? [La forma e lo stile]                                                         1014 non-null object\n",
            "Cosa ti fa capire se una notizia è attendibile? [altro]                                                                       1014 non-null object\n",
            "Secondo te dove si diffondono di più le fake news?                                                                            1014 non-null object\n",
            "Quali sono gli argormenti fake che attecchiscono di più?                                                                      1014 non-null object\n",
            "Secondo te a che età si è più inclini a condividere una fake news?                                                            1014 non-null object\n",
            "Sai cos'è la reputazione digitale?                                                                                            1014 non-null object\n",
            "Sai quali pericoli potrebbero esserci nel postare le foto sui social?                                                         1014 non-null object\n",
            "dtypes: object(64)\n",
            "memory usage: 507.1+ KB\n"
          ],
          "name": "stdout"
        }
      ]
    },
    {
      "cell_type": "code",
      "metadata": {
        "id": "PMc7GDerHocC",
        "colab_type": "code",
        "colab": {
          "base_uri": "https://localhost:8080/",
          "height": 482
        },
        "outputId": "af7e1c72-18a1-4caa-ed42-6c371bedab5b"
      },
      "source": [
        "df.describe()"
      ],
      "execution_count": 46,
      "outputs": [
        {
          "output_type": "execute_result",
          "data": {
            "text/html": [
              "<div>\n",
              "<style scoped>\n",
              "    .dataframe tbody tr th:only-of-type {\n",
              "        vertical-align: middle;\n",
              "    }\n",
              "\n",
              "    .dataframe tbody tr th {\n",
              "        vertical-align: top;\n",
              "    }\n",
              "\n",
              "    .dataframe thead th {\n",
              "        text-align: right;\n",
              "    }\n",
              "</style>\n",
              "<table border=\"1\" class=\"dataframe\">\n",
              "  <thead>\n",
              "    <tr style=\"text-align: right;\">\n",
              "      <th></th>\n",
              "      <th>Timestamp</th>\n",
              "      <th>Età in anni compiuti</th>\n",
              "      <th>Sesso</th>\n",
              "      <th>Cittadinanza</th>\n",
              "      <th>Sei nato in Italia?</th>\n",
              "      <th>Provincia di nascita</th>\n",
              "      <th>Provincia di dimora abituale</th>\n",
              "      <th>Titolo di Studio più alto conseguito</th>\n",
              "      <th>Cittadinanza del padre</th>\n",
              "      <th>Tuo padre è nato in Italia?</th>\n",
              "      <th>Provincia di nascita del padre</th>\n",
              "      <th>Cittadinanza della madre</th>\n",
              "      <th>Tua madre è nata in Italia?</th>\n",
              "      <th>Provincia di nascita della madre</th>\n",
              "      <th>Negli ultimi 12 mesi ti è mai capitato di cercare informazioni?</th>\n",
              "      <th>Negli ultimi 12 mesi quante volte hai cercato informazioni?</th>\n",
              "      <th>Negli ultimi 12 mesi che strumenti hai utilizzato per cercare informazioni?  [Carta (es. giornali, riviste, ecc.)]</th>\n",
              "      <th>Negli ultimi 12 mesi che strumenti hai utilizzato per cercare informazioni?  [Tv (es. telegiornali, talkshow)]</th>\n",
              "      <th>Negli ultimi 12 mesi che strumenti hai utilizzato per cercare informazioni?  [Radio (es. giornaleradio)]</th>\n",
              "      <th>Negli ultimi 12 mesi che strumenti hai utilizzato per cercare informazioni?  [Persone (amici, scuola, famiglia)]</th>\n",
              "      <th>Negli ultimi 12 mesi che strumenti hai utilizzato per cercare informazioni?  [Internet]</th>\n",
              "      <th>Negli ultimi 12 mesi che strumenti hai utilizzato per cercare informazioni?  [Altro]</th>\n",
              "      <th>Tra gli strumenti che negli ultimi 12 mesi hai utilizzato per cercare informazioni, qual è quello che preferisci usare?</th>\n",
              "      <th>Negli ultimi 12 mesi, quando hai cercato notizie, quanto tempo hai impiegato mediamente al giorno nella ricerca?</th>\n",
              "      <th>Quali notizie ti fanno paura?</th>\n",
              "      <th>Con che frequenza ti informi su argomenti riguardanti la scienza?</th>\n",
              "      <th>Quali argomenti scientifici ti attirano di più</th>\n",
              "      <th>Quando hai saputo della strage in discoteca a Corinaldo al concerto di Sfera Ebbasta, cosa ha catturato la tua attenzione?</th>\n",
              "      <th>Da dove hai appreso della caduta del ponte Morandi a Genova?</th>\n",
              "      <th>Hai mai usato internet?</th>\n",
              "      <th>Sul web, dove prendi le informazioni? [testate giornalistiche online]</th>\n",
              "      <th>Sul web, dove prendi le informazioni? [social]</th>\n",
              "      <th>Sul web, dove prendi le informazioni? [motori di ricerca (es google, safari, ping]</th>\n",
              "      <th>Sul web, dove prendi le informazioni? [siti specifici che conosco]</th>\n",
              "      <th>Sul web, dove prendi le informazioni? [app dedicate]</th>\n",
              "      <th>Sul web, dove prendi le informazioni? [newsletter via email]</th>\n",
              "      <th>Quali social usi di più per informarti?</th>\n",
              "      <th>Tra i social che usi di più anche per informati, quale preferisci?</th>\n",
              "      <th>Cosa cerchi di più su internet?</th>\n",
              "      <th>Qual è la prima cosa che vai a vedere sui social?</th>\n",
              "      <th>Da dove ricevi notizie senza cercarle quando sei on line?</th>\n",
              "      <th>Quali argomenti ti vengono suggeriti mentre sei online</th>\n",
              "      <th>Cosa attrae innanzitutto la tua attenzione su una notizia on line?</th>\n",
              "      <th>Condividi le notizie?</th>\n",
              "      <th>Con chi le condividi?</th>\n",
              "      <th>Come condividi le notizie che leggi?</th>\n",
              "      <th>Quando condividi lo fai ...  [Perché è una notizia che mi ha impressionato]</th>\n",
              "      <th>Quando condividi lo fai ...  [Per farlo sapere a tutti]</th>\n",
              "      <th>Quando condividi lo fai ...  [Per commentare]</th>\n",
              "      <th>Quando condividi lo fai ...  [Perché lo fanno tutti]</th>\n",
              "      <th>Secondo te ci si può fidare di ciò che scrivono i giornalisti?</th>\n",
              "      <th>Secondo te ci si può fidare delle notizie che si trovano su internet?</th>\n",
              "      <th>Ritieni che esistano sistemi sicuri per capire con certezza se una notizia è vera o no?</th>\n",
              "      <th>Cosa ti fa capire se una notizia è attendibile? [La notizia in sé, l'argomento che tratta]</th>\n",
              "      <th>Cosa ti fa capire se una notizia è attendibile? [Se riporta le fonti da cui è tratto l'argomento]</th>\n",
              "      <th>Cosa ti fa capire se una notizia è attendibile? [Il modo in cui è raccontata la notizia]</th>\n",
              "      <th>Cosa ti fa capire se una notizia è attendibile? [La fonte che la pubblica (il sito, il giornale, il social)]</th>\n",
              "      <th>Cosa ti fa capire se una notizia è attendibile? [La forma e lo stile]</th>\n",
              "      <th>Cosa ti fa capire se una notizia è attendibile? [altro]</th>\n",
              "      <th>Secondo te dove si diffondono di più le fake news?</th>\n",
              "      <th>Quali sono gli argormenti fake che attecchiscono di più?</th>\n",
              "      <th>Secondo te a che età si è più inclini a condividere una fake news?</th>\n",
              "      <th>Sai cos'è la reputazione digitale?</th>\n",
              "      <th>Sai quali pericoli potrebbero esserci nel postare le foto sui social?</th>\n",
              "    </tr>\n",
              "  </thead>\n",
              "  <tbody>\n",
              "    <tr>\n",
              "      <th>count</th>\n",
              "      <td>1014</td>\n",
              "      <td>1014</td>\n",
              "      <td>1014</td>\n",
              "      <td>1014</td>\n",
              "      <td>1014</td>\n",
              "      <td>1014</td>\n",
              "      <td>1014</td>\n",
              "      <td>1014</td>\n",
              "      <td>1014</td>\n",
              "      <td>1014</td>\n",
              "      <td>1014</td>\n",
              "      <td>1014</td>\n",
              "      <td>1014</td>\n",
              "      <td>1014</td>\n",
              "      <td>1014</td>\n",
              "      <td>1014</td>\n",
              "      <td>1014</td>\n",
              "      <td>1014</td>\n",
              "      <td>1014</td>\n",
              "      <td>1014</td>\n",
              "      <td>1014</td>\n",
              "      <td>1014</td>\n",
              "      <td>1014</td>\n",
              "      <td>1014</td>\n",
              "      <td>1014</td>\n",
              "      <td>1014</td>\n",
              "      <td>1014</td>\n",
              "      <td>1014</td>\n",
              "      <td>1014</td>\n",
              "      <td>1014</td>\n",
              "      <td>1014</td>\n",
              "      <td>1014</td>\n",
              "      <td>1014</td>\n",
              "      <td>1014</td>\n",
              "      <td>1014</td>\n",
              "      <td>1014</td>\n",
              "      <td>1014</td>\n",
              "      <td>1014</td>\n",
              "      <td>1014</td>\n",
              "      <td>1014</td>\n",
              "      <td>1014</td>\n",
              "      <td>1014</td>\n",
              "      <td>1014</td>\n",
              "      <td>1014</td>\n",
              "      <td>1014</td>\n",
              "      <td>1014</td>\n",
              "      <td>1014</td>\n",
              "      <td>1014</td>\n",
              "      <td>1014</td>\n",
              "      <td>1014</td>\n",
              "      <td>1014</td>\n",
              "      <td>1014</td>\n",
              "      <td>1014</td>\n",
              "      <td>1014</td>\n",
              "      <td>1014</td>\n",
              "      <td>1014</td>\n",
              "      <td>1014</td>\n",
              "      <td>1014</td>\n",
              "      <td>1014</td>\n",
              "      <td>1014</td>\n",
              "      <td>1014</td>\n",
              "      <td>1014</td>\n",
              "      <td>1014</td>\n",
              "      <td>1014</td>\n",
              "    </tr>\n",
              "    <tr>\n",
              "      <th>unique</th>\n",
              "      <td>1010</td>\n",
              "      <td>10</td>\n",
              "      <td>2</td>\n",
              "      <td>3</td>\n",
              "      <td>3</td>\n",
              "      <td>63</td>\n",
              "      <td>40</td>\n",
              "      <td>12</td>\n",
              "      <td>3</td>\n",
              "      <td>3</td>\n",
              "      <td>88</td>\n",
              "      <td>3</td>\n",
              "      <td>3</td>\n",
              "      <td>87</td>\n",
              "      <td>2</td>\n",
              "      <td>5</td>\n",
              "      <td>10</td>\n",
              "      <td>10</td>\n",
              "      <td>10</td>\n",
              "      <td>11</td>\n",
              "      <td>11</td>\n",
              "      <td>10</td>\n",
              "      <td>7</td>\n",
              "      <td>5</td>\n",
              "      <td>40</td>\n",
              "      <td>5</td>\n",
              "      <td>163</td>\n",
              "      <td>62</td>\n",
              "      <td>29</td>\n",
              "      <td>3</td>\n",
              "      <td>10</td>\n",
              "      <td>10</td>\n",
              "      <td>10</td>\n",
              "      <td>11</td>\n",
              "      <td>11</td>\n",
              "      <td>8</td>\n",
              "      <td>55</td>\n",
              "      <td>8</td>\n",
              "      <td>741</td>\n",
              "      <td>8</td>\n",
              "      <td>66</td>\n",
              "      <td>687</td>\n",
              "      <td>47</td>\n",
              "      <td>5</td>\n",
              "      <td>30</td>\n",
              "      <td>16</td>\n",
              "      <td>5</td>\n",
              "      <td>5</td>\n",
              "      <td>5</td>\n",
              "      <td>5</td>\n",
              "      <td>5</td>\n",
              "      <td>5</td>\n",
              "      <td>5</td>\n",
              "      <td>5</td>\n",
              "      <td>5</td>\n",
              "      <td>5</td>\n",
              "      <td>5</td>\n",
              "      <td>5</td>\n",
              "      <td>5</td>\n",
              "      <td>206</td>\n",
              "      <td>595</td>\n",
              "      <td>8</td>\n",
              "      <td>4</td>\n",
              "      <td>5</td>\n",
              "    </tr>\n",
              "    <tr>\n",
              "      <th>top</th>\n",
              "      <td>5/9/2019 10:12:29</td>\n",
              "      <td>tra 15 e 17</td>\n",
              "      <td>F</td>\n",
              "      <td>italiana</td>\n",
              "      <td>Sì</td>\n",
              "      <td>Roma</td>\n",
              "      <td>Roma</td>\n",
              "      <td>licenza di scuola secondaria di primo grado</td>\n",
              "      <td>italiana</td>\n",
              "      <td>Sì</td>\n",
              "      <td>Roma</td>\n",
              "      <td>italiana</td>\n",
              "      <td>Sì</td>\n",
              "      <td>Roma</td>\n",
              "      <td>Sì</td>\n",
              "      <td>Tutti i giorni</td>\n",
              "      <td>raramente</td>\n",
              "      <td>spesso</td>\n",
              "      <td>raramente</td>\n",
              "      <td>spesso</td>\n",
              "      <td>sempre</td>\n",
              "      <td>mai</td>\n",
              "      <td>Internet</td>\n",
              "      <td>circa 30 minuti</td>\n",
              "      <td>terrorismo, violenze e/o abusi sulle donne, vi...</td>\n",
              "      <td>settimanalmente</td>\n",
              "      <td>no answer</td>\n",
              "      <td>commenti e discussioni riguardo la notizia</td>\n",
              "      <td>dalla tv</td>\n",
              "      <td>Sì</td>\n",
              "      <td>spesso</td>\n",
              "      <td>spesso</td>\n",
              "      <td>spesso</td>\n",
              "      <td>spesso</td>\n",
              "      <td>mai</td>\n",
              "      <td>mai</td>\n",
              "      <td>Instagram, Youtube</td>\n",
              "      <td>Instagram</td>\n",
              "      <td>no answer</td>\n",
              "      <td>foto</td>\n",
              "      <td>Non ne ricevo</td>\n",
              "      <td>no answer</td>\n",
              "      <td>l'argomento che tratta</td>\n",
              "      <td>raramente</td>\n",
              "      <td>famiglia, amici più stretti</td>\n",
              "      <td>con un'app di messaggistica istantanea (whatsa...</td>\n",
              "      <td>molto</td>\n",
              "      <td>abbastanza</td>\n",
              "      <td>poco</td>\n",
              "      <td>mai per questo</td>\n",
              "      <td>dipende dal giornale o dalla fonte</td>\n",
              "      <td>dipende dalla notizia</td>\n",
              "      <td>dipende</td>\n",
              "      <td>abbastanza</td>\n",
              "      <td>abbastanza</td>\n",
              "      <td>abbastanza</td>\n",
              "      <td>molto</td>\n",
              "      <td>poco</td>\n",
              "      <td>per niente</td>\n",
              "      <td>Facebook</td>\n",
              "      <td>Notizie/cronaca/attualità</td>\n",
              "      <td>tra 15 e 20</td>\n",
              "      <td>si</td>\n",
              "      <td>si</td>\n",
              "    </tr>\n",
              "    <tr>\n",
              "      <th>freq</th>\n",
              "      <td>2</td>\n",
              "      <td>381</td>\n",
              "      <td>641</td>\n",
              "      <td>977</td>\n",
              "      <td>952</td>\n",
              "      <td>505</td>\n",
              "      <td>618</td>\n",
              "      <td>577</td>\n",
              "      <td>948</td>\n",
              "      <td>917</td>\n",
              "      <td>342</td>\n",
              "      <td>938</td>\n",
              "      <td>900</td>\n",
              "      <td>342</td>\n",
              "      <td>984</td>\n",
              "      <td>544</td>\n",
              "      <td>514</td>\n",
              "      <td>461</td>\n",
              "      <td>391</td>\n",
              "      <td>561</td>\n",
              "      <td>621</td>\n",
              "      <td>423</td>\n",
              "      <td>825</td>\n",
              "      <td>431</td>\n",
              "      <td>153</td>\n",
              "      <td>378</td>\n",
              "      <td>192</td>\n",
              "      <td>178</td>\n",
              "      <td>541</td>\n",
              "      <td>973</td>\n",
              "      <td>428</td>\n",
              "      <td>392</td>\n",
              "      <td>455</td>\n",
              "      <td>385</td>\n",
              "      <td>437</td>\n",
              "      <td>595</td>\n",
              "      <td>206</td>\n",
              "      <td>400</td>\n",
              "      <td>31</td>\n",
              "      <td>268</td>\n",
              "      <td>115</td>\n",
              "      <td>31</td>\n",
              "      <td>324</td>\n",
              "      <td>466</td>\n",
              "      <td>207</td>\n",
              "      <td>277</td>\n",
              "      <td>370</td>\n",
              "      <td>299</td>\n",
              "      <td>282</td>\n",
              "      <td>694</td>\n",
              "      <td>767</td>\n",
              "      <td>694</td>\n",
              "      <td>342</td>\n",
              "      <td>470</td>\n",
              "      <td>460</td>\n",
              "      <td>383</td>\n",
              "      <td>445</td>\n",
              "      <td>417</td>\n",
              "      <td>374</td>\n",
              "      <td>63</td>\n",
              "      <td>53</td>\n",
              "      <td>284</td>\n",
              "      <td>492</td>\n",
              "      <td>871</td>\n",
              "    </tr>\n",
              "  </tbody>\n",
              "</table>\n",
              "</div>"
            ],
            "text/plain": [
              "                Timestamp  ... Sai quali pericoli potrebbero esserci nel postare le foto sui social?\n",
              "count                1014  ...                                               1014                   \n",
              "unique               1010  ...                                                  5                   \n",
              "top     5/9/2019 10:12:29  ...                                                 si                   \n",
              "freq                    2  ...                                                871                   \n",
              "\n",
              "[4 rows x 64 columns]"
            ]
          },
          "metadata": {
            "tags": []
          },
          "execution_count": 46
        }
      ]
    },
    {
      "cell_type": "code",
      "metadata": {
        "id": "-wAN8QsyDixe",
        "colab_type": "code",
        "colab": {
          "base_uri": "https://localhost:8080/",
          "height": 153
        },
        "outputId": "739278aa-f87d-4b05-a6d7-68886e9643b1"
      },
      "source": [
        "print(df['Cittadinanza'].value_counts())\n",
        "print(df['Sei nato in Italia?'].value_counts())"
      ],
      "execution_count": 47,
      "outputs": [
        {
          "output_type": "stream",
          "text": [
            "italiana    977\n",
            "europea      21\n",
            "altra        16\n",
            "Name: Cittadinanza, dtype: int64\n",
            "Sì           952\n",
            "no answer     39\n",
            "No            23\n",
            "Name: Sei nato in Italia?, dtype: int64\n"
          ],
          "name": "stdout"
        }
      ]
    },
    {
      "cell_type": "markdown",
      "metadata": {
        "id": "GxOJtL7qaO5r",
        "colab_type": "text"
      },
      "source": [
        "# do same dataset visualizzation"
      ]
    },
    {
      "cell_type": "code",
      "metadata": {
        "id": "EFEzaSiy5vSS",
        "colab_type": "code",
        "colab": {
          "base_uri": "https://localhost:8080/",
          "height": 306
        },
        "outputId": "818ab30c-3f99-435e-b9e6-f56b6a294bc9"
      },
      "source": [
        "%matplotlib inline\n",
        "import matplotlib.pyplot as plt\n",
        "df['Sesso'].value_counts().plot(kind='pie')\n",
        "plt.show()  \n",
        "df['Sesso'].value_counts()\n"
      ],
      "execution_count": 48,
      "outputs": [
        {
          "output_type": "display_data",
          "data": {
            "image/png": "[encoded data removed]",
            "text/plain": [
              "<Figure size 432x288 with 1 Axes>"
            ]
          },
          "metadata": {
            "tags": []
          }
        },
        {
          "output_type": "execute_result",
          "data": {
            "text/plain": [
              "F    641\n",
              "M    373\n",
              "Name: Sesso, dtype: int64"
            ]
          },
          "metadata": {
            "tags": []
          },
          "execution_count": 48
        }
      ]
    },
    {
      "cell_type": "markdown",
      "metadata": {
        "id": "hqPWwqOQ5u3X",
        "colab_type": "text"
      },
      "source": [
        "istogramma... \n",
        "l'ordine prescelto per una visulizzazione semplice e' in base a gli entries (che falsa la visulizzazione)"
      ]
    },
    {
      "cell_type": "code",
      "metadata": {
        "id": "g1Q1cfE-9hma",
        "colab_type": "code",
        "colab": {
          "base_uri": "https://localhost:8080/",
          "height": 501
        },
        "outputId": "a64a1af9-1ef3-4ef2-fdc0-c3dc02ec1d32"
      },
      "source": [
        "df['Età in anni compiuti'].value_counts().plot(kind='bar')\n",
        "plt.show()  \n",
        " \n",
        "df['Età in anni compiuti'].value_counts()"
      ],
      "execution_count": 49,
      "outputs": [
        {
          "output_type": "display_data",
          "data": {
            "image/png": "[encoded data removed]",
            "text/plain": [
              "<Figure size 432x288 with 1 Axes>"
            ]
          },
          "metadata": {
            "tags": []
          }
        },
        {
          "output_type": "execute_result",
          "data": {
            "text/plain": [
              "tra 15 e 17    381\n",
              "tra 11 e 14    208\n",
              "tra 45 e 54    150\n",
              "tra 18 e 19    119\n",
              "tra 55 e 64     49\n",
              "tra 35 e 44     44\n",
              "tra 25 e 34     36\n",
              "tra 20 e 24     17\n",
              "tra 65 e 74      6\n",
              "75 e oltre       4\n",
              "Name: Età in anni compiuti, dtype: int64"
            ]
          },
          "metadata": {
            "tags": []
          },
          "execution_count": 49
        }
      ]
    },
    {
      "cell_type": "markdown",
      "metadata": {
        "id": "TMutPUswBDAT",
        "colab_type": "text"
      },
      "source": [
        "data are index in ASCI oder and must be reindex "
      ]
    },
    {
      "cell_type": "code",
      "metadata": {
        "id": "gl9fLW9MBB1e",
        "colab_type": "code",
        "colab": {
          "base_uri": "https://localhost:8080/",
          "height": 314
        },
        "outputId": "1bad916e-32a3-447c-83c8-ae8994a37e7c"
      },
      "source": [
        "ordine = ['tra 11 e 14', 'tra 15 e 17', 'tra 18 e 19',\n",
        "       'tra 20 e 24', 'tra 25 e 34', 'tra 35 e 44', 'tra 45 e 54',\n",
        "       'tra 55 e 64', 'tra 65 e 74', '75 e oltre']\n",
        "df['Età in anni compiuti'].value_counts().reindex(ordine).plot(kind='bar')\n",
        "plt.show() "
      ],
      "execution_count": 50,
      "outputs": [
        {
          "output_type": "display_data",
          "data": {
            "image/png": "[encoded data removed]",
            "text/plain": [
              "<Figure size 432x288 with 1 Axes>"
            ]
          },
          "metadata": {
            "tags": []
          }
        }
      ]
    },
    {
      "cell_type": "code",
      "metadata": {
        "id": "46Vd9ZP2q7p1",
        "colab_type": "code",
        "colab": {
          "base_uri": "https://localhost:8080/",
          "height": 314
        },
        "outputId": "6d80d4b8-fd71-4e81-a49a-6973f4698282"
      },
      "source": [
        "cat_eta = pd.Categorical(df['Età in anni compiuti'], \n",
        "                     categories=ordine, \n",
        "                     ordered=True)\n",
        "cat_eta.value_counts().plot(kind='bar')\n",
        "plt.show()"
      ],
      "execution_count": 51,
      "outputs": [
        {
          "output_type": "display_data",
          "data": {
            "image/png": "[encoded data removed]",
            "text/plain": [
              "<Figure size 432x288 with 1 Axes>"
            ]
          },
          "metadata": {
            "tags": []
          }
        }
      ]
    },
    {
      "cell_type": "code",
      "metadata": {
        "id": "0AnbWoO49Fuh",
        "colab_type": "code",
        "colab": {}
      },
      "source": [
        "\n",
        "from sklearn.preprocessing import OrdinalEncoder\n",
        "ordinal_encoder = OrdinalEncoder(categories=[ordine])\n",
        "#ordinal_encoder = OrdinalEncoder()\n",
        "eta_encoded = ordinal_encoder.fit_transform(df[['Età in anni compiuti']])\n",
        "#print (ordinal_encoder.get_params)"
      ],
      "execution_count": 0,
      "outputs": []
    },
    {
      "cell_type": "markdown",
      "metadata": {
        "id": "ZkH9npCcrHII",
        "colab_type": "text"
      },
      "source": [
        "segue esempio di unsepevised machine lerning che separa in 2 cluster\n",
        "dati raw"
      ]
    },
    {
      "cell_type": "code",
      "metadata": {
        "id": "NgnnqUEv-pJ6",
        "colab_type": "code",
        "colab": {
          "base_uri": "https://localhost:8080/",
          "height": 320
        },
        "outputId": "8f5f02ca-d505-4065-b89e-004e77356612"
      },
      "source": [
        "print(ordinal_encoder.categories_)\n",
        "plt.hist(eta_encoded)\n",
        "plt.show()"
      ],
      "execution_count": 73,
      "outputs": [
        {
          "output_type": "stream",
          "text": [
            "[array(['tra 11 e 14', 'tra 15 e 17', 'tra 18 e 19', 'tra 20 e 24',\n",
            "       'tra 25 e 34', 'tra 35 e 44', 'tra 45 e 54', 'tra 55 e 64',\n",
            "       'tra 65 e 74', '75 e oltre'], dtype=object)]\n"
          ],
          "name": "stdout"
        },
        {
          "output_type": "display_data",
          "data": {
            "image/png": "[encoded data removed]",
            "text/plain": [
              "<Figure size 432x288 with 1 Axes>"
            ]
          },
          "metadata": {
            "tags": []
          }
        }
      ]
    },
    {
      "cell_type": "markdown",
      "metadata": {
        "id": "wxjTfl56rURH",
        "colab_type": "text"
      },
      "source": [
        "applichaimo una classificazione per capire le famiglie di dati separati in 2 cluster usando KMeans"
      ]
    },
    {
      "cell_type": "code",
      "metadata": {
        "id": "eqx7KRmNP2KJ",
        "colab_type": "code",
        "colab": {
          "base_uri": "https://localhost:8080/",
          "height": 314
        },
        "outputId": "4097a473-c6c9-44e4-b847-03fb8266d6ea"
      },
      "source": [
        "from sklearn import cluster\n",
        "import numpy as np\n",
        "X = eta_encoded\n",
        "k_means = cluster.KMeans(n_clusters=2)\n",
        "k_means.fit(X)\n",
        "#labels = dff.columns\n",
        "labels = k_means.labels_\n",
        "#plt.scatter(X[:,1], X[:,0], c=labels.astype(np.float))\n",
        "plt.hist(X, range=(0,10), bins=len(ordinal_encoder.categories_[0]))\n",
        "plt.hist(X[labels==0], range=(0,10), bins=len(ordinal_encoder.categories_[0]),color = 'r')\n",
        "plt.xticks([0,1,2,3,4,5,6,7,8,9], ordine, rotation='vertical')\n",
        "plt.show()\n",
        "#print(ordinal_encoder.categories_[0])\n"
      ],
      "execution_count": 78,
      "outputs": [
        {
          "output_type": "display_data",
          "data": {
            "image/png": "[encoded data removed]",
            "text/plain": [
              "<Figure size 432x288 with 1 Axes>"
            ]
          },
          "metadata": {
            "tags": []
          }
        }
      ]
    },
    {
      "cell_type": "markdown",
      "metadata": {
        "id": "M2Qs4iq9ra6j",
        "colab_type": "text"
      },
      "source": [
        "istogrammi di tutti il dataset"
      ]
    },
    {
      "cell_type": "code",
      "metadata": {
        "id": "su4XtaZuEK7u",
        "colab_type": "code",
        "colab": {
          "base_uri": "https://localhost:8080/",
          "height": 16965
        },
        "outputId": "ff4fa2ba-13d1-4fa3-d19f-5127b635db50"
      },
      "source": [
        "for i in range (1, len(df.columns)):\n",
        "  print (df1.columns[i])\n",
        "\n",
        "#  df[df.columns[i]].value_counts().plot(kind='bar')\n",
        "  ordinal_encoder = OrdinalEncoder()\n",
        "  ordinated_encoded = ordinal_encoder.fit_transform(df1[[df1.columns[i]]])\n",
        "  plt.hist(ordinated_encoded)\n",
        "  plt.show()"
      ],
      "execution_count": 7,
      "outputs": [
        {
          "output_type": "stream",
          "text": [
            "Età in anni compiuti\n"
          ],
          "name": "stdout"
        },
        {
          "output_type": "display_data",
          "data": {
            "image/png": "[encoded data removed]",
            "text/plain": [
              "<Figure size 432x288 with 1 Axes>"
            ]
          },
          "metadata": {
            "tags": []
          }
        },
        {
          "output_type": "stream",
          "text": [
            "Sesso\n"
          ],
          "name": "stdout"
        },
        {
          "output_type": "display_data",
          "data": {
            "image/png": "[encoded data removed]",
            "text/plain": [
              "<Figure size 432x288 with 1 Axes>"
            ]
          },
          "metadata": {
            "tags": []
          }
        },
        {
          "output_type": "stream",
          "text": [
            "Cittadinanza\n"
          ],
          "name": "stdout"
        },
        {
          "output_type": "display_data",
          "data": {
            "image/png": "[encoded data removed]",
            "text/plain": [
              "<Figure size 432x288 with 1 Axes>"
            ]
          },
          "metadata": {
            "tags": []
          }
        },
        {
          "output_type": "stream",
          "text": [
            "Sei nato in Italia?\n"
          ],
          "name": "stdout"
        },
        {
          "output_type": "display_data",
          "data": {
            "image/png": "[encoded data removed]",
            "text/plain": [
              "<Figure size 432x288 with 1 Axes>"
            ]
          },
          "metadata": {
            "tags": []
          }
        },
        {
          "output_type": "stream",
          "text": [
            "Provincia di nascita\n"
          ],
          "name": "stdout"
        },
        {
          "output_type": "display_data",
          "data": {
            "image/png": "[encoded data removed]",
            "text/plain": [
              "<Figure size 432x288 with 1 Axes>"
            ]
          },
          "metadata": {
            "tags": []
          }
        },
        {
          "output_type": "stream",
          "text": [
            "Provincia di dimora abituale\n"
          ],
          "name": "stdout"
        },
        {
          "output_type": "display_data",
          "data": {
            "image/png": "[encoded data removed]",
            "text/plain": [
              "<Figure size 432x288 with 1 Axes>"
            ]
          },
          "metadata": {
            "tags": []
          }
        },
        {
          "output_type": "stream",
          "text": [
            "Titolo di Studio più alto conseguito\n"
          ],
          "name": "stdout"
        },
        {
          "output_type": "display_data",
          "data": {
            "image/png": "[encoded data removed]",
            "text/plain": [
              "<Figure size 432x288 with 1 Axes>"
            ]
          },
          "metadata": {
            "tags": []
          }
        },
        {
          "output_type": "stream",
          "text": [
            "Cittadinanza del padre\n"
          ],
          "name": "stdout"
        },
        {
          "output_type": "display_data",
          "data": {
            "image/png": "[encoded data removed]",
            "text/plain": [
              "<Figure size 432x288 with 1 Axes>"
            ]
          },
          "metadata": {
            "tags": []
          }
        },
        {
          "output_type": "stream",
          "text": [
            "Tuo padre è nato in Italia?\n"
          ],
          "name": "stdout"
        },
        {
          "output_type": "display_data",
          "data": {
            "image/png": "[encoded data removed]",
            "text/plain": [
              "<Figure size 432x288 with 1 Axes>"
            ]
          },
          "metadata": {
            "tags": []
          }
        },
        {
          "output_type": "stream",
          "text": [
            "Provincia di nascita del padre\n"
          ],
          "name": "stdout"
        },
        {
          "output_type": "display_data",
          "data": {
            "image/png": "[encoded data removed]",
            "text/plain": [
              "<Figure size 432x288 with 1 Axes>"
            ]
          },
          "metadata": {
            "tags": []
          }
        },
        {
          "output_type": "stream",
          "text": [
            "Cittadinanza della madre\n"
          ],
          "name": "stdout"
        },
        {
          "output_type": "display_data",
          "data": {
            "image/png": "[encoded data removed]",
            "text/plain": [
              "<Figure size 432x288 with 1 Axes>"
            ]
          },
          "metadata": {
            "tags": []
          }
        },
        {
          "output_type": "stream",
          "text": [
            "Tua madre è nata in Italia?\n"
          ],
          "name": "stdout"
        },
        {
          "output_type": "display_data",
          "data": {
            "image/png": "[encoded data removed]",
            "text/plain": [
              "<Figure size 432x288 with 1 Axes>"
            ]
          },
          "metadata": {
            "tags": []
          }
        },
        {
          "output_type": "stream",
          "text": [
            "Provincia di nascita della madre\n"
          ],
          "name": "stdout"
        },
        {
          "output_type": "display_data",
          "data": {
            "image/png": "[encoded data removed]",
            "text/plain": [
              "<Figure size 432x288 with 1 Axes>"
            ]
          },
          "metadata": {
            "tags": []
          }
        },
        {
          "output_type": "stream",
          "text": [
            "Negli ultimi 12 mesi ti è mai capitato di cercare informazioni?\n"
          ],
          "name": "stdout"
        },
        {
          "output_type": "display_data",
          "data": {
            "image/png": "[encoded data removed]",
            "text/plain": [
              "<Figure size 432x288 with 1 Axes>"
            ]
          },
          "metadata": {
            "tags": []
          }
        },
        {
          "output_type": "stream",
          "text": [
            "Negli ultimi 12 mesi quante volte hai cercato informazioni?\n"
          ],
          "name": "stdout"
        },
        {
          "output_type": "display_data",
          "data": {
            "image/png": "[encoded data removed]",
            "text/plain": [
              "<Figure size 432x288 with 1 Axes>"
            ]
          },
          "metadata": {
            "tags": []
          }
        },
        {
          "output_type": "stream",
          "text": [
            "Negli ultimi 12 mesi che strumenti hai utilizzato per cercare informazioni?  [Carta (es. giornali, riviste, ecc.)]\n"
          ],
          "name": "stdout"
        },
        {
          "output_type": "display_data",
          "data": {
            "image/png": "[encoded data removed]",
            "text/plain": [
              "<Figure size 432x288 with 1 Axes>"
            ]
          },
          "metadata": {
            "tags": []
          }
        },
        {
          "output_type": "stream",
          "text": [
            "Negli ultimi 12 mesi che strumenti hai utilizzato per cercare informazioni?  [Tv (es. telegiornali, talkshow)]\n"
          ],
          "name": "stdout"
        },
        {
          "output_type": "display_data",
          "data": {
            "image/png": "[encoded data removed]",
            "text/plain": [
              "<Figure size 432x288 with 1 Axes>"
            ]
          },
          "metadata": {
            "tags": []
          }
        },
        {
          "output_type": "stream",
          "text": [
            "Negli ultimi 12 mesi che strumenti hai utilizzato per cercare informazioni?  [Radio (es. giornaleradio)]\n"
          ],
          "name": "stdout"
        },
        {
          "output_type": "display_data",
          "data": {
            "image/png": "[encoded data removed]",
            "text/plain": [
              "<Figure size 432x288 with 1 Axes>"
            ]
          },
          "metadata": {
            "tags": []
          }
        },
        {
          "output_type": "stream",
          "text": [
            "Negli ultimi 12 mesi che strumenti hai utilizzato per cercare informazioni?  [Persone (amici, scuola, famiglia)]\n"
          ],
          "name": "stdout"
        },
        {
          "output_type": "display_data",
          "data": {
            "image/png": "[encoded data removed]",
            "text/plain": [
              "<Figure size 432x288 with 1 Axes>"
            ]
          },
          "metadata": {
            "tags": []
          }
        },
        {
          "output_type": "stream",
          "text": [
            "Negli ultimi 12 mesi che strumenti hai utilizzato per cercare informazioni?  [Internet]\n"
          ],
          "name": "stdout"
        },
        {
          "output_type": "display_data",
          "data": {
            "image/png": "[encoded data removed]",
            "text/plain": [
              "<Figure size 432x288 with 1 Axes>"
            ]
          },
          "metadata": {
            "tags": []
          }
        },
        {
          "output_type": "stream",
          "text": [
            "Negli ultimi 12 mesi che strumenti hai utilizzato per cercare informazioni?  [Altro]\n"
          ],
          "name": "stdout"
        },
        {
          "output_type": "display_data",
          "data": {
            "image/png": "[encoded data removed]",
            "text/plain": [
              "<Figure size 432x288 with 1 Axes>"
            ]
          },
          "metadata": {
            "tags": []
          }
        },
        {
          "output_type": "stream",
          "text": [
            "Tra gli strumenti che negli ultimi 12 mesi hai utilizzato per cercare informazioni, qual è quello che preferisci usare? \n"
          ],
          "name": "stdout"
        },
        {
          "output_type": "display_data",
          "data": {
            "image/png": "[encoded data removed]",
            "text/plain": [
              "<Figure size 432x288 with 1 Axes>"
            ]
          },
          "metadata": {
            "tags": []
          }
        },
        {
          "output_type": "stream",
          "text": [
            "Negli ultimi 12 mesi, quando hai cercato notizie, quanto tempo hai impiegato mediamente al giorno nella ricerca?\n"
          ],
          "name": "stdout"
        },
        {
          "output_type": "display_data",
          "data": {
            "image/png": "[encoded data removed]",
            "text/plain": [
              "<Figure size 432x288 with 1 Axes>"
            ]
          },
          "metadata": {
            "tags": []
          }
        },
        {
          "output_type": "stream",
          "text": [
            "Quali notizie ti fanno paura?\n"
          ],
          "name": "stdout"
        },
        {
          "output_type": "display_data",
          "data": {
            "image/png": "[encoded data removed]",
            "text/plain": [
              "<Figure size 432x288 with 1 Axes>"
            ]
          },
          "metadata": {
            "tags": []
          }
        },
        {
          "output_type": "stream",
          "text": [
            "Con che frequenza ti informi su argomenti riguardanti la scienza?\n"
          ],
          "name": "stdout"
        },
        {
          "output_type": "display_data",
          "data": {
            "image/png": "[encoded data removed]",
            "text/plain": [
              "<Figure size 432x288 with 1 Axes>"
            ]
          },
          "metadata": {
            "tags": []
          }
        },
        {
          "output_type": "stream",
          "text": [
            "Quali argomenti scientifici ti attirano di più\n"
          ],
          "name": "stdout"
        },
        {
          "output_type": "display_data",
          "data": {
            "image/png": "[encoded data removed]",
            "text/plain": [
              "<Figure size 432x288 with 1 Axes>"
            ]
          },
          "metadata": {
            "tags": []
          }
        },
        {
          "output_type": "stream",
          "text": [
            "Quando hai saputo della strage in discoteca a Corinaldo al concerto di Sfera Ebbasta, cosa ha catturato la tua attenzione?\n"
          ],
          "name": "stdout"
        },
        {
          "output_type": "display_data",
          "data": {
            "image/png": "[encoded data removed]",
            "text/plain": [
              "<Figure size 432x288 with 1 Axes>"
            ]
          },
          "metadata": {
            "tags": []
          }
        },
        {
          "output_type": "stream",
          "text": [
            "Da dove hai appreso della caduta del ponte Morandi a Genova?\n"
          ],
          "name": "stdout"
        },
        {
          "output_type": "display_data",
          "data": {
            "image/png": "[encoded data removed]",
            "text/plain": [
              "<Figure size 432x288 with 1 Axes>"
            ]
          },
          "metadata": {
            "tags": []
          }
        },
        {
          "output_type": "stream",
          "text": [
            "Hai mai usato internet?\n"
          ],
          "name": "stdout"
        },
        {
          "output_type": "display_data",
          "data": {
            "image/png": "[encoded data removed]",
            "text/plain": [
              "<Figure size 432x288 with 1 Axes>"
            ]
          },
          "metadata": {
            "tags": []
          }
        },
        {
          "output_type": "stream",
          "text": [
            "Sul web, dove prendi le informazioni? [testate giornalistiche online]\n"
          ],
          "name": "stdout"
        },
        {
          "output_type": "display_data",
          "data": {
            "image/png": "[encoded data removed]",
            "text/plain": [
              "<Figure size 432x288 with 1 Axes>"
            ]
          },
          "metadata": {
            "tags": []
          }
        },
        {
          "output_type": "stream",
          "text": [
            "Sul web, dove prendi le informazioni? [social]\n"
          ],
          "name": "stdout"
        },
        {
          "output_type": "display_data",
          "data": {
            "image/png": "[encoded data removed]",
            "text/plain": [
              "<Figure size 432x288 with 1 Axes>"
            ]
          },
          "metadata": {
            "tags": []
          }
        },
        {
          "output_type": "stream",
          "text": [
            "Sul web, dove prendi le informazioni? [motori di ricerca (es google, safari, ping]\n"
          ],
          "name": "stdout"
        },
        {
          "output_type": "display_data",
          "data": {
            "image/png": "[encoded data removed]",
            "text/plain": [
              "<Figure size 432x288 with 1 Axes>"
            ]
          },
          "metadata": {
            "tags": []
          }
        },
        {
          "output_type": "stream",
          "text": [
            "Sul web, dove prendi le informazioni? [siti specifici che conosco]\n"
          ],
          "name": "stdout"
        },
        {
          "output_type": "display_data",
          "data": {
            "image/png": "[encoded data removed]",
            "text/plain": [
              "<Figure size 432x288 with 1 Axes>"
            ]
          },
          "metadata": {
            "tags": []
          }
        },
        {
          "output_type": "stream",
          "text": [
            "Sul web, dove prendi le informazioni? [app dedicate]\n"
          ],
          "name": "stdout"
        },
        {
          "output_type": "display_data",
          "data": {
            "image/png": "[encoded data removed]",
            "text/plain": [
              "<Figure size 432x288 with 1 Axes>"
            ]
          },
          "metadata": {
            "tags": []
          }
        },
        {
          "output_type": "stream",
          "text": [
            "Sul web, dove prendi le informazioni? [newsletter via email]\n"
          ],
          "name": "stdout"
        },
        {
          "output_type": "display_data",
          "data": {
            "image/png": "[encoded data removed]",
            "text/plain": [
              "<Figure size 432x288 with 1 Axes>"
            ]
          },
          "metadata": {
            "tags": []
          }
        },
        {
          "output_type": "stream",
          "text": [
            "Quali social usi di più per informarti?\n"
          ],
          "name": "stdout"
        },
        {
          "output_type": "display_data",
          "data": {
            "image/png": "[encoded data removed]",
            "text/plain": [
              "<Figure size 432x288 with 1 Axes>"
            ]
          },
          "metadata": {
            "tags": []
          }
        },
        {
          "output_type": "stream",
          "text": [
            "Tra i social che usi di più anche per informati, quale preferisci?\n"
          ],
          "name": "stdout"
        },
        {
          "output_type": "display_data",
          "data": {
            "image/png": "[encoded data removed]",
            "text/plain": [
              "<Figure size 432x288 with 1 Axes>"
            ]
          },
          "metadata": {
            "tags": []
          }
        },
        {
          "output_type": "stream",
          "text": [
            "Cosa cerchi di più su internet?\n"
          ],
          "name": "stdout"
        },
        {
          "output_type": "display_data",
          "data": {
            "image/png": "[encoded data removed]",
            "text/plain": [
              "<Figure size 432x288 with 1 Axes>"
            ]
          },
          "metadata": {
            "tags": []
          }
        },
        {
          "output_type": "stream",
          "text": [
            "Qual è la prima cosa che vai a vedere sui social?\n"
          ],
          "name": "stdout"
        },
        {
          "output_type": "display_data",
          "data": {
            "image/png": "[encoded data removed]",
            "text/plain": [
              "<Figure size 432x288 with 1 Axes>"
            ]
          },
          "metadata": {
            "tags": []
          }
        },
        {
          "output_type": "stream",
          "text": [
            "Da dove ricevi notizie senza cercarle quando sei on line? \n"
          ],
          "name": "stdout"
        },
        {
          "output_type": "display_data",
          "data": {
            "image/png": "[encoded data removed]",
            "text/plain": [
              "<Figure size 432x288 with 1 Axes>"
            ]
          },
          "metadata": {
            "tags": []
          }
        },
        {
          "output_type": "stream",
          "text": [
            "Quali argomenti ti vengono suggeriti mentre sei online\n"
          ],
          "name": "stdout"
        },
        {
          "output_type": "display_data",
          "data": {
            "image/png": "[encoded data removed]",
            "text/plain": [
              "<Figure size 432x288 with 1 Axes>"
            ]
          },
          "metadata": {
            "tags": []
          }
        },
        {
          "output_type": "stream",
          "text": [
            "Cosa attrae innanzitutto la tua attenzione su una notizia on line?\n"
          ],
          "name": "stdout"
        },
        {
          "output_type": "display_data",
          "data": {
            "image/png": "[encoded data removed]",
            "text/plain": [
              "<Figure size 432x288 with 1 Axes>"
            ]
          },
          "metadata": {
            "tags": []
          }
        },
        {
          "output_type": "stream",
          "text": [
            "Condividi le notizie?\n"
          ],
          "name": "stdout"
        },
        {
          "output_type": "display_data",
          "data": {
            "image/png": "[encoded data removed]",
            "text/plain": [
              "<Figure size 432x288 with 1 Axes>"
            ]
          },
          "metadata": {
            "tags": []
          }
        },
        {
          "output_type": "stream",
          "text": [
            "Con chi le condividi?\n"
          ],
          "name": "stdout"
        },
        {
          "output_type": "display_data",
          "data": {
            "image/png": "[encoded data removed]",
            "text/plain": [
              "<Figure size 432x288 with 1 Axes>"
            ]
          },
          "metadata": {
            "tags": []
          }
        },
        {
          "output_type": "stream",
          "text": [
            "Come condividi le notizie che leggi? \n"
          ],
          "name": "stdout"
        },
        {
          "output_type": "display_data",
          "data": {
            "image/png": "[encoded data removed]",
            "text/plain": [
              "<Figure size 432x288 with 1 Axes>"
            ]
          },
          "metadata": {
            "tags": []
          }
        },
        {
          "output_type": "stream",
          "text": [
            "Quando condividi lo fai ...  [Perché è una notizia che mi ha impressionato]\n"
          ],
          "name": "stdout"
        },
        {
          "output_type": "display_data",
          "data": {
            "image/png": "[encoded data removed]",
            "text/plain": [
              "<Figure size 432x288 with 1 Axes>"
            ]
          },
          "metadata": {
            "tags": []
          }
        },
        {
          "output_type": "stream",
          "text": [
            "Quando condividi lo fai ...  [Per farlo sapere a tutti]\n"
          ],
          "name": "stdout"
        },
        {
          "output_type": "display_data",
          "data": {
            "image/png": "[encoded data removed]",
            "text/plain": [
              "<Figure size 432x288 with 1 Axes>"
            ]
          },
          "metadata": {
            "tags": []
          }
        },
        {
          "output_type": "stream",
          "text": [
            "Quando condividi lo fai ...  [Per commentare]\n"
          ],
          "name": "stdout"
        },
        {
          "output_type": "display_data",
          "data": {
            "image/png": "[encoded data removed]",
            "text/plain": [
              "<Figure size 432x288 with 1 Axes>"
            ]
          },
          "metadata": {
            "tags": []
          }
        },
        {
          "output_type": "stream",
          "text": [
            "Quando condividi lo fai ...  [Perché lo fanno tutti]\n"
          ],
          "name": "stdout"
        },
        {
          "output_type": "display_data",
          "data": {
            "image/png": "[encoded data removed]",
            "text/plain": [
              "<Figure size 432x288 with 1 Axes>"
            ]
          },
          "metadata": {
            "tags": []
          }
        },
        {
          "output_type": "stream",
          "text": [
            "Secondo te ci si può fidare di ciò che scrivono i giornalisti?\n"
          ],
          "name": "stdout"
        },
        {
          "output_type": "display_data",
          "data": {
            "image/png": "[encoded data removed]",
            "text/plain": [
              "<Figure size 432x288 with 1 Axes>"
            ]
          },
          "metadata": {
            "tags": []
          }
        },
        {
          "output_type": "stream",
          "text": [
            "Secondo te ci si può fidare delle notizie che si trovano su internet?\n"
          ],
          "name": "stdout"
        },
        {
          "output_type": "display_data",
          "data": {
            "image/png": "[encoded data removed]",
            "text/plain": [
              "<Figure size 432x288 with 1 Axes>"
            ]
          },
          "metadata": {
            "tags": []
          }
        },
        {
          "output_type": "stream",
          "text": [
            "Ritieni che esistano sistemi sicuri per capire con certezza se una notizia è vera o no?\n"
          ],
          "name": "stdout"
        },
        {
          "output_type": "display_data",
          "data": {
            "image/png": "[encoded data removed]",
            "text/plain": [
              "<Figure size 432x288 with 1 Axes>"
            ]
          },
          "metadata": {
            "tags": []
          }
        },
        {
          "output_type": "stream",
          "text": [
            "Cosa ti fa capire se una notizia è attendibile? [La notizia in sé, l'argomento che tratta]\n"
          ],
          "name": "stdout"
        },
        {
          "output_type": "display_data",
          "data": {
            "image/png": "[encoded data removed]",
            "text/plain": [
              "<Figure size 432x288 with 1 Axes>"
            ]
          },
          "metadata": {
            "tags": []
          }
        },
        {
          "output_type": "stream",
          "text": [
            "Cosa ti fa capire se una notizia è attendibile? [Se riporta le fonti da cui è tratto l'argomento]\n"
          ],
          "name": "stdout"
        },
        {
          "output_type": "display_data",
          "data": {
            "image/png": "[encoded data removed]",
            "text/plain": [
              "<Figure size 432x288 with 1 Axes>"
            ]
          },
          "metadata": {
            "tags": []
          }
        },
        {
          "output_type": "stream",
          "text": [
            "Cosa ti fa capire se una notizia è attendibile? [Il modo in cui è raccontata la notizia]\n"
          ],
          "name": "stdout"
        },
        {
          "output_type": "display_data",
          "data": {
            "image/png": "[encoded data removed]",
            "text/plain": [
              "<Figure size 432x288 with 1 Axes>"
            ]
          },
          "metadata": {
            "tags": []
          }
        },
        {
          "output_type": "stream",
          "text": [
            "Cosa ti fa capire se una notizia è attendibile? [La fonte che la pubblica (il sito, il giornale, il social)]\n"
          ],
          "name": "stdout"
        },
        {
          "output_type": "display_data",
          "data": {
            "image/png": "[encoded data removed]",
            "text/plain": [
              "<Figure size 432x288 with 1 Axes>"
            ]
          },
          "metadata": {
            "tags": []
          }
        },
        {
          "output_type": "stream",
          "text": [
            "Cosa ti fa capire se una notizia è attendibile? [La forma e lo stile]\n"
          ],
          "name": "stdout"
        },
        {
          "output_type": "display_data",
          "data": {
            "image/png": "[encoded data removed]",
            "text/plain": [
              "<Figure size 432x288 with 1 Axes>"
            ]
          },
          "metadata": {
            "tags": []
          }
        },
        {
          "output_type": "stream",
          "text": [
            "Cosa ti fa capire se una notizia è attendibile? [altro]\n"
          ],
          "name": "stdout"
        },
        {
          "output_type": "display_data",
          "data": {
            "image/png": "[encoded data removed]",
            "text/plain": [
              "<Figure size 432x288 with 1 Axes>"
            ]
          },
          "metadata": {
            "tags": []
          }
        },
        {
          "output_type": "stream",
          "text": [
            "Secondo te dove si diffondono di più le fake news?\n"
          ],
          "name": "stdout"
        },
        {
          "output_type": "display_data",
          "data": {
            "image/png": "[encoded data removed]",
            "text/plain": [
              "<Figure size 432x288 with 1 Axes>"
            ]
          },
          "metadata": {
            "tags": []
          }
        },
        {
          "output_type": "stream",
          "text": [
            "Quali sono gli argormenti fake che attecchiscono di più? \n"
          ],
          "name": "stdout"
        },
        {
          "output_type": "display_data",
          "data": {
            "image/png": "[encoded data removed]",
            "text/plain": [
              "<Figure size 432x288 with 1 Axes>"
            ]
          },
          "metadata": {
            "tags": []
          }
        },
        {
          "output_type": "stream",
          "text": [
            "Secondo te a che età si è più inclini a condividere una fake news?\n"
          ],
          "name": "stdout"
        },
        {
          "output_type": "display_data",
          "data": {
            "image/png": "[encoded data removed]",
            "text/plain": [
              "<Figure size 432x288 with 1 Axes>"
            ]
          },
          "metadata": {
            "tags": []
          }
        },
        {
          "output_type": "stream",
          "text": [
            "Sai cos'è la reputazione digitale?\n"
          ],
          "name": "stdout"
        },
        {
          "output_type": "display_data",
          "data": {
            "image/png": "[encoded data removed]",
            "text/plain": [
              "<Figure size 432x288 with 1 Axes>"
            ]
          },
          "metadata": {
            "tags": []
          }
        },
        {
          "output_type": "stream",
          "text": [
            "Sai quali pericoli potrebbero esserci nel postare le foto sui social?\n"
          ],
          "name": "stdout"
        },
        {
          "output_type": "display_data",
          "data": {
            "image/png": "[encoded data removed]",
            "text/plain": [
              "<Figure size 432x288 with 1 Axes>"
            ]
          },
          "metadata": {
            "tags": []
          }
        }
      ]
    },
    {
      "cell_type": "code",
      "metadata": {
        "id": "GLC4Q-XTrJ2d",
        "colab_type": "code",
        "colab": {
          "base_uri": "https://localhost:8080/",
          "height": 238
        },
        "outputId": "ec7cc49d-9582-433d-9c5b-ab82022a567e"
      },
      "source": [
        "df.values"
      ],
      "execution_count": 15,
      "outputs": [
        {
          "output_type": "execute_result",
          "data": {
            "text/plain": [
              "array([['4/1/2019 19:34:25', 'tra 35 e 44', 'F', ..., 'sopra i 50',\n",
              "        'non mi interessa', 'lo so, ma non mi interessa'],\n",
              "       ['4/1/2019 19:47:19', 'tra 55 e 64', 'F', ..., 'sopra i 50', 'si',\n",
              "        'si'],\n",
              "       ['4/2/2019 15:32:41', 'tra 45 e 54', 'M', ..., 'tra 41 e 50',\n",
              "        'no', 'no'],\n",
              "       ...,\n",
              "       ['5/23/2019 11:09:28', 'tra 15 e 17', 'F', ..., 'tra 10 e 14',\n",
              "        'no', 'si'],\n",
              "       ['5/23/2019 11:57:16', 'tra 15 e 17', 'M', ..., 'sopra i 50',\n",
              "        'si', 'si'],\n",
              "       ['5/23/2019 12:04:50', 'tra 15 e 17', 'F', ..., 'tra 21 e 30',\n",
              "        'no', 'lo so, ma non mi interessa']], dtype=object)"
            ]
          },
          "metadata": {
            "tags": []
          },
          "execution_count": 15
        }
      ]
    },
    {
      "cell_type": "code",
      "metadata": {
        "id": "z5Hwcx6DP6RV",
        "colab_type": "code",
        "colab": {
          "base_uri": "https://localhost:8080/",
          "height": 181
        },
        "outputId": "302091db-e594-48fc-c66c-27bf7608d34a"
      },
      "source": [
        "np.array(df.get_values()).hist(bins=50, figsize=(20,15))\n",
        "plt.show()"
      ],
      "execution_count": 14,
      "outputs": [
        {
          "output_type": "error",
          "ename": "AttributeError",
          "evalue": "ignored",
          "traceback": [
            "\u001b[0;31m---------------------------------------------------------------------------\u001b[0m",
            "\u001b[0;31mAttributeError\u001b[0m                            Traceback (most recent call last)",
            "\u001b[0;32m<ipython-input-14-24860c55e233>\u001b[0m in \u001b[0;36m<module>\u001b[0;34m()\u001b[0m\n\u001b[0;32m----> 1\u001b[0;31m \u001b[0mnp\u001b[0m\u001b[0;34m.\u001b[0m\u001b[0marray\u001b[0m\u001b[0;34m(\u001b[0m\u001b[0mdf\u001b[0m\u001b[0;34m.\u001b[0m\u001b[0mget_values\u001b[0m\u001b[0;34m(\u001b[0m\u001b[0;34m)\u001b[0m\u001b[0;34m)\u001b[0m\u001b[0;34m.\u001b[0m\u001b[0mhist\u001b[0m\u001b[0;34m(\u001b[0m\u001b[0mbins\u001b[0m\u001b[0;34m=\u001b[0m\u001b[0;36m50\u001b[0m\u001b[0;34m,\u001b[0m \u001b[0mfigsize\u001b[0m\u001b[0;34m=\u001b[0m\u001b[0;34m(\u001b[0m\u001b[0;36m20\u001b[0m\u001b[0;34m,\u001b[0m\u001b[0;36m15\u001b[0m\u001b[0;34m)\u001b[0m\u001b[0;34m)\u001b[0m\u001b[0;34m\u001b[0m\u001b[0;34m\u001b[0m\u001b[0m\n\u001b[0m\u001b[1;32m      2\u001b[0m \u001b[0mplt\u001b[0m\u001b[0;34m.\u001b[0m\u001b[0mshow\u001b[0m\u001b[0;34m(\u001b[0m\u001b[0;34m)\u001b[0m\u001b[0;34m\u001b[0m\u001b[0;34m\u001b[0m\u001b[0m\n",
            "\u001b[0;31mAttributeError\u001b[0m: 'numpy.ndarray' object has no attribute 'hist'"
          ]
        }
      ]
    }
  ]
}