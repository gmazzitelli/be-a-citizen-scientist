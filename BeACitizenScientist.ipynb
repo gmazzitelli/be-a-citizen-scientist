{
  "nbformat": 4,
  "nbformat_minor": 0,
  "metadata": {
    "colab": {
      "name": "BeACitizenScientist.ipynb",
      "version": "0.3.2",
      "provenance": [],
      "collapsed_sections": [],
      "include_colab_link": true
    },
    "kernelspec": {
      "name": "python3",
      "display_name": "Python 3"
    }
  },
  "cells": [
    {
      "cell_type": "markdown",
      "metadata": {
        "id": "view-in-github",
        "colab_type": "text"
      },
      "source": [
        "<a href=\"https://colab.research.google.com/github/gmazzitelli/be-a-citizen-scientist/blob/master/BeACitizenScientist.ipynb\" target=\"_parent\"><img src=\"https://colab.research.google.com/assets/colab-badge.svg\" alt=\"Open In Colab\"/></a>"
      ]
    },
    {
      "cell_type": "markdown",
      "metadata": {
        "id": "fYziw4PrTj9h",
        "colab_type": "text"
      },
      "source": [
        "# GET data from local file with autentication\n",
        "\n",
        "\n"
      ]
    },
    {
      "cell_type": "code",
      "metadata": {
        "id": "qQlkP8D2JrYA",
        "colab_type": "code",
        "colab": {}
      },
      "source": [
        "from google.colab import drive\n",
        "drive.mount('/content/drive')\n",
        "!ls /content/drive/\n",
        "!ls \"/content/drive/My Drive/Colab Notebooks\"\n",
        "import pandas as pd\n",
        "csv_file = \"/content/drive/My Drive/Colab Notebooks/_Be a Data Scientist a #IJF19 (Responses) - Form Responses 1.csv\"\n",
        "df = pd.read_csv(csv_file)\n",
        "df.head()"
      ],
      "execution_count": 0,
      "outputs": []
    },
    {
      "cell_type": "markdown",
      "metadata": {
        "id": "bJOYMMk93sXE",
        "colab_type": "text"
      },
      "source": [
        "# GET data from URL\n",
        "Carica il file del questionario dalla URL (shared readeable file)\n",
        "buona refence [link text](https://michaelsaruggia.com/python-per-data-science-pandas/)"
      ]
    },
    {
      "cell_type": "code",
      "metadata": {
        "id": "VqV02vrl1k52",
        "colab_type": "code",
        "colab": {
          "base_uri": "https://localhost:8080/",
          "height": 836
        },
        "outputId": "80b86ba0-3f7b-44be-f22c-140dc1008dd2"
      },
      "source": [
        "import numpy as np\n",
        "import pandas as pd\n",
        "url_csv_file = \"https://docs.google.com/spreadsheet/ccc?key=19zCRezCS3yIy6_Igzex2sotnNja2Ks57RonGX8W2R8I&output=csv\"\n",
        "df = pd.read_csv(url_csv_file).replace(np.nan, 'no answer', regex=True)\n",
        "df.head()"
      ],
      "execution_count": 1,
      "outputs": [
        {
          "output_type": "execute_result",
          "data": {
            "text/html": [
              "<div>\n",
              "<style scoped>\n",
              "    .dataframe tbody tr th:only-of-type {\n",
              "        vertical-align: middle;\n",
              "    }\n",
              "\n",
              "    .dataframe tbody tr th {\n",
              "        vertical-align: top;\n",
              "    }\n",
              "\n",
              "    .dataframe thead th {\n",
              "        text-align: right;\n",
              "    }\n",
              "</style>\n",
              "<table border=\"1\" class=\"dataframe\">\n",
              "  <thead>\n",
              "    <tr style=\"text-align: right;\">\n",
              "      <th></th>\n",
              "      <th>Timestamp</th>\n",
              "      <th>Età in anni compiuti</th>\n",
              "      <th>Sesso</th>\n",
              "      <th>Cittadinanza</th>\n",
              "      <th>Sei nato in Italia?</th>\n",
              "      <th>Provincia di nascita</th>\n",
              "      <th>Provincia di dimora abituale</th>\n",
              "      <th>Titolo di Studio più alto conseguito</th>\n",
              "      <th>Cittadinanza del padre</th>\n",
              "      <th>Tuo padre è nato in Italia?</th>\n",
              "      <th>Provincia di nascita del padre</th>\n",
              "      <th>Cittadinanza della madre</th>\n",
              "      <th>Tua madre è nata in Italia?</th>\n",
              "      <th>Provincia di nascita della madre</th>\n",
              "      <th>Negli ultimi 12 mesi ti è mai capitato di cercare informazioni?</th>\n",
              "      <th>Negli ultimi 12 mesi quante volte hai cercato informazioni?</th>\n",
              "      <th>Negli ultimi 12 mesi che strumenti hai utilizzato per cercare informazioni?  [Carta (es. giornali, riviste, ecc.)]</th>\n",
              "      <th>Negli ultimi 12 mesi che strumenti hai utilizzato per cercare informazioni?  [Tv (es. telegiornali, talkshow)]</th>\n",
              "      <th>Negli ultimi 12 mesi che strumenti hai utilizzato per cercare informazioni?  [Radio (es. giornaleradio)]</th>\n",
              "      <th>Negli ultimi 12 mesi che strumenti hai utilizzato per cercare informazioni?  [Persone (amici, scuola, famiglia)]</th>\n",
              "      <th>Negli ultimi 12 mesi che strumenti hai utilizzato per cercare informazioni?  [Internet]</th>\n",
              "      <th>Negli ultimi 12 mesi che strumenti hai utilizzato per cercare informazioni?  [Altro]</th>\n",
              "      <th>Tra gli strumenti che negli ultimi 12 mesi hai utilizzato per cercare informazioni, qual è quello che preferisci usare?</th>\n",
              "      <th>Negli ultimi 12 mesi, quando hai cercato notizie, quanto tempo hai impiegato mediamente al giorno nella ricerca?</th>\n",
              "      <th>Quali notizie ti fanno paura?</th>\n",
              "      <th>Con che frequenza ti informi su argomenti riguardanti la scienza?</th>\n",
              "      <th>Quali argomenti scientifici ti attirano di più</th>\n",
              "      <th>Quando hai saputo della strage in discoteca a Corinaldo al concerto di Sfera Ebbasta, cosa ha catturato la tua attenzione?</th>\n",
              "      <th>Da dove hai appreso della caduta del ponte Morandi a Genova?</th>\n",
              "      <th>Hai mai usato internet?</th>\n",
              "      <th>Sul web, dove prendi le informazioni? [testate giornalistiche online]</th>\n",
              "      <th>Sul web, dove prendi le informazioni? [social]</th>\n",
              "      <th>Sul web, dove prendi le informazioni? [motori di ricerca (es google, safari, ping]</th>\n",
              "      <th>Sul web, dove prendi le informazioni? [siti specifici che conosco]</th>\n",
              "      <th>Sul web, dove prendi le informazioni? [app dedicate]</th>\n",
              "      <th>Sul web, dove prendi le informazioni? [newsletter via email]</th>\n",
              "      <th>Quali social usi di più per informarti?</th>\n",
              "      <th>Tra i social che usi di più anche per informati, quale preferisci?</th>\n",
              "      <th>Cosa cerchi di più su internet?</th>\n",
              "      <th>Qual è la prima cosa che vai a vedere sui social?</th>\n",
              "      <th>Da dove ricevi notizie senza cercarle quando sei on line?</th>\n",
              "      <th>Quali argomenti ti vengono suggeriti mentre sei online</th>\n",
              "      <th>Cosa attrae innanzitutto la tua attenzione su una notizia on line?</th>\n",
              "      <th>Condividi le notizie?</th>\n",
              "      <th>Con chi le condividi?</th>\n",
              "      <th>Come condividi le notizie che leggi?</th>\n",
              "      <th>Quando condividi lo fai ...  [Perché è una notizia che mi ha impressionato]</th>\n",
              "      <th>Quando condividi lo fai ...  [Per farlo sapere a tutti]</th>\n",
              "      <th>Quando condividi lo fai ...  [Per commentare]</th>\n",
              "      <th>Quando condividi lo fai ...  [Perché lo fanno tutti]</th>\n",
              "      <th>Secondo te ci si può fidare di ciò che scrivono i giornalisti?</th>\n",
              "      <th>Secondo te ci si può fidare delle notizie che si trovano su internet?</th>\n",
              "      <th>Ritieni che esistano sistemi sicuri per capire con certezza se una notizia è vera o no?</th>\n",
              "      <th>Cosa ti fa capire se una notizia è attendibile? [La notizia in sé, l'argomento che tratta]</th>\n",
              "      <th>Cosa ti fa capire se una notizia è attendibile? [Se riporta le fonti da cui è tratto l'argomento]</th>\n",
              "      <th>Cosa ti fa capire se una notizia è attendibile? [Il modo in cui è raccontata la notizia]</th>\n",
              "      <th>Cosa ti fa capire se una notizia è attendibile? [La fonte che la pubblica (il sito, il giornale, il social)]</th>\n",
              "      <th>Cosa ti fa capire se una notizia è attendibile? [La forma e lo stile]</th>\n",
              "      <th>Cosa ti fa capire se una notizia è attendibile? [altro]</th>\n",
              "      <th>Secondo te dove si diffondono di più le fake news?</th>\n",
              "      <th>Quali sono gli argormenti fake che attecchiscono di più?</th>\n",
              "      <th>Secondo te a che età si è più inclini a condividere una fake news?</th>\n",
              "      <th>Sai cos'è la reputazione digitale?</th>\n",
              "      <th>Sai quali pericoli potrebbero esserci nel postare le foto sui social?</th>\n",
              "    </tr>\n",
              "  </thead>\n",
              "  <tbody>\n",
              "    <tr>\n",
              "      <th>0</th>\n",
              "      <td>4/1/2019 19:34:25</td>\n",
              "      <td>tra 35 e 44</td>\n",
              "      <td>F</td>\n",
              "      <td>italiana</td>\n",
              "      <td>no answer</td>\n",
              "      <td>Roma</td>\n",
              "      <td>Roma</td>\n",
              "      <td>scuola primaria</td>\n",
              "      <td>italiana</td>\n",
              "      <td>no answer</td>\n",
              "      <td>Belluno</td>\n",
              "      <td>italiana</td>\n",
              "      <td>no answer</td>\n",
              "      <td>Asti</td>\n",
              "      <td>Sì</td>\n",
              "      <td>Meno di una volta al mese</td>\n",
              "      <td>raramente</td>\n",
              "      <td>raramente</td>\n",
              "      <td>raramente</td>\n",
              "      <td>raramente</td>\n",
              "      <td>raramente</td>\n",
              "      <td>raramente</td>\n",
              "      <td>Radio</td>\n",
              "      <td>circa 30 minuti</td>\n",
              "      <td>bullismo</td>\n",
              "      <td>giornalmente</td>\n",
              "      <td>matematica, medicina, ecologia/clima</td>\n",
              "      <td>i titoli delle testate giornalistiche</td>\n",
              "      <td>da un social, da un'app di informazione, dalla tv</td>\n",
              "      <td>Sì</td>\n",
              "      <td>mai</td>\n",
              "      <td>mai</td>\n",
              "      <td>mai</td>\n",
              "      <td>mai</td>\n",
              "      <td>mai</td>\n",
              "      <td>no answer</td>\n",
              "      <td>Instagram, Facebook, Twitter</td>\n",
              "      <td>Instagram</td>\n",
              "      <td>gossip, Notizie/cronaca/attualità, shopping on...</td>\n",
              "      <td>memes</td>\n",
              "      <td>Da un'app di news (es google news, apple news...)</td>\n",
              "      <td>gossip, Notizie/cronaca/attualità, shopping on...</td>\n",
              "      <td>il titolo</td>\n",
              "      <td>mai</td>\n",
              "      <td>famiglia</td>\n",
              "      <td>no answer</td>\n",
              "      <td>no answer</td>\n",
              "      <td>no answer</td>\n",
              "      <td>no answer</td>\n",
              "      <td>no answer</td>\n",
              "      <td>generalmente si</td>\n",
              "      <td>generalmente si</td>\n",
              "      <td>si</td>\n",
              "      <td>poco</td>\n",
              "      <td>poco</td>\n",
              "      <td>poco</td>\n",
              "      <td>poco</td>\n",
              "      <td>poco</td>\n",
              "      <td>poco</td>\n",
              "      <td>Instagram</td>\n",
              "      <td>Notizie/cronaca/attualità</td>\n",
              "      <td>sopra i 50</td>\n",
              "      <td>non mi interessa</td>\n",
              "      <td>lo so, ma non mi interessa</td>\n",
              "    </tr>\n",
              "    <tr>\n",
              "      <th>1</th>\n",
              "      <td>4/1/2019 19:47:19</td>\n",
              "      <td>tra 55 e 64</td>\n",
              "      <td>F</td>\n",
              "      <td>italiana</td>\n",
              "      <td>no answer</td>\n",
              "      <td>Pescara</td>\n",
              "      <td>Roma</td>\n",
              "      <td>laurea magistrale a ciclo unico</td>\n",
              "      <td>italiana</td>\n",
              "      <td>no answer</td>\n",
              "      <td>Venezia</td>\n",
              "      <td>italiana</td>\n",
              "      <td>no answer</td>\n",
              "      <td>Arezzo</td>\n",
              "      <td>Sì</td>\n",
              "      <td>Tutti i giorni</td>\n",
              "      <td>raramente</td>\n",
              "      <td>raramente</td>\n",
              "      <td>spesso</td>\n",
              "      <td>raramente</td>\n",
              "      <td>sempre</td>\n",
              "      <td>mai</td>\n",
              "      <td>Internet</td>\n",
              "      <td>più di un'ora</td>\n",
              "      <td>violenze e/o abusi sulle donne, violenze e/o a...</td>\n",
              "      <td>settimanalmente</td>\n",
              "      <td>ecologia/clima, curiosità scientifiche, tecnol...</td>\n",
              "      <td>commenti e discussioni riguardo la notizia</td>\n",
              "      <td>da un giornale o rivista online, dalla tv</td>\n",
              "      <td>Sì</td>\n",
              "      <td>sempre</td>\n",
              "      <td>sempre</td>\n",
              "      <td>sempre</td>\n",
              "      <td>sempre</td>\n",
              "      <td>raramente</td>\n",
              "      <td>no answer</td>\n",
              "      <td>Facebook, Twitter</td>\n",
              "      <td>Twitter</td>\n",
              "      <td>Notizie/cronaca/attualità, politica, scienza (...</td>\n",
              "      <td>no answer</td>\n",
              "      <td>Da un motore di ricerca online (es google, bin...</td>\n",
              "      <td>Notizie/cronaca/attualità, politica, scienza (...</td>\n",
              "      <td>commenti e discussioni riguardo la notizia</td>\n",
              "      <td>spesso</td>\n",
              "      <td>tutti, attraverso post pubblici</td>\n",
              "      <td>no answer</td>\n",
              "      <td>no answer</td>\n",
              "      <td>no answer</td>\n",
              "      <td>no answer</td>\n",
              "      <td>no answer</td>\n",
              "      <td>dipende dal giornale o dalla fonte</td>\n",
              "      <td>dipende dalla notizia</td>\n",
              "      <td>dipende</td>\n",
              "      <td>abbastanza</td>\n",
              "      <td>molto</td>\n",
              "      <td>molto</td>\n",
              "      <td>molto</td>\n",
              "      <td>molto</td>\n",
              "      <td>abbastanza</td>\n",
              "      <td>blog e siti vari</td>\n",
              "      <td>politica, scienza, cibo, salute</td>\n",
              "      <td>sopra i 50</td>\n",
              "      <td>si</td>\n",
              "      <td>si</td>\n",
              "    </tr>\n",
              "    <tr>\n",
              "      <th>2</th>\n",
              "      <td>4/2/2019 15:32:41</td>\n",
              "      <td>tra 45 e 54</td>\n",
              "      <td>M</td>\n",
              "      <td>europea</td>\n",
              "      <td>no answer</td>\n",
              "      <td>no answer</td>\n",
              "      <td>Fermo</td>\n",
              "      <td>laurea di primo livello</td>\n",
              "      <td>europea</td>\n",
              "      <td>no answer</td>\n",
              "      <td>no answer</td>\n",
              "      <td>europea</td>\n",
              "      <td>no answer</td>\n",
              "      <td>no answer</td>\n",
              "      <td>Sì</td>\n",
              "      <td>Tutti i giorni</td>\n",
              "      <td>raramente</td>\n",
              "      <td>raramente</td>\n",
              "      <td>raramente</td>\n",
              "      <td>raramente</td>\n",
              "      <td>raramente</td>\n",
              "      <td>mai</td>\n",
              "      <td>Radio</td>\n",
              "      <td>circa 30 minuti</td>\n",
              "      <td>violenze e/o abusi sui minori, catastrofi natu...</td>\n",
              "      <td>settimanalmente</td>\n",
              "      <td>ecologia/clima, astronomia, curiosità scientif...</td>\n",
              "      <td>le immagini, i video, il fatto che fosse molto...</td>\n",
              "      <td>da internet, da un giornale o rivista cartacea...</td>\n",
              "      <td>No</td>\n",
              "      <td>no answer</td>\n",
              "      <td>no answer</td>\n",
              "      <td>no answer</td>\n",
              "      <td>no answer</td>\n",
              "      <td>no answer</td>\n",
              "      <td>no answer</td>\n",
              "      <td>no answer</td>\n",
              "      <td>no answer</td>\n",
              "      <td>no answer</td>\n",
              "      <td>no answer</td>\n",
              "      <td>no answer</td>\n",
              "      <td>no answer</td>\n",
              "      <td>no answer</td>\n",
              "      <td>no answer</td>\n",
              "      <td>no answer</td>\n",
              "      <td>no answer</td>\n",
              "      <td>no answer</td>\n",
              "      <td>no answer</td>\n",
              "      <td>no answer</td>\n",
              "      <td>no answer</td>\n",
              "      <td>dipende dal giornale o dalla fonte</td>\n",
              "      <td>generalmente si</td>\n",
              "      <td>dipende</td>\n",
              "      <td>abbastanza</td>\n",
              "      <td>poco</td>\n",
              "      <td>molto</td>\n",
              "      <td>abbastanza</td>\n",
              "      <td>per niente</td>\n",
              "      <td>poco</td>\n",
              "      <td>Facebook, Twitter, Reddit</td>\n",
              "      <td>sport, politica, scienza, moda, cibo</td>\n",
              "      <td>tra 41 e 50</td>\n",
              "      <td>no</td>\n",
              "      <td>no</td>\n",
              "    </tr>\n",
              "    <tr>\n",
              "      <th>3</th>\n",
              "      <td>4/3/2019 20:22:05</td>\n",
              "      <td>tra 18 e 19</td>\n",
              "      <td>F</td>\n",
              "      <td>altra</td>\n",
              "      <td>no answer</td>\n",
              "      <td>no answer</td>\n",
              "      <td>Roma</td>\n",
              "      <td>licenza di scuola secondaria di primo grado</td>\n",
              "      <td>altra</td>\n",
              "      <td>no answer</td>\n",
              "      <td>no answer</td>\n",
              "      <td>altra</td>\n",
              "      <td>no answer</td>\n",
              "      <td>no answer</td>\n",
              "      <td>Sì</td>\n",
              "      <td>Più di due volte a settimana</td>\n",
              "      <td>mai</td>\n",
              "      <td>spesso</td>\n",
              "      <td>raramente</td>\n",
              "      <td>raramente</td>\n",
              "      <td>sempre</td>\n",
              "      <td>mai, raramente</td>\n",
              "      <td>Internet</td>\n",
              "      <td>meno di 10 minuti</td>\n",
              "      <td>terrorismo, violenze e/o abusi sulle donne, vi...</td>\n",
              "      <td>praticamente mai</td>\n",
              "      <td>no answer</td>\n",
              "      <td>commenti e discussioni riguardo la notizia</td>\n",
              "      <td>da internet</td>\n",
              "      <td>Sì</td>\n",
              "      <td>spesso</td>\n",
              "      <td>spesso</td>\n",
              "      <td>spesso</td>\n",
              "      <td>sempre</td>\n",
              "      <td>mai</td>\n",
              "      <td>no answer</td>\n",
              "      <td>Instagram</td>\n",
              "      <td>Instagram</td>\n",
              "      <td>gossip, Notizie/cronaca/attualità, moda, film ...</td>\n",
              "      <td>memes</td>\n",
              "      <td>Da un motore di ricerca online (es google, bin...</td>\n",
              "      <td>gossip, shopping online, moda, cibo, film - se...</td>\n",
              "      <td>il titolo, l'argomento che tratta</td>\n",
              "      <td>raramente</td>\n",
              "      <td>famiglia, gruppi con lo stesso interesse</td>\n",
              "      <td>no answer</td>\n",
              "      <td>no answer</td>\n",
              "      <td>no answer</td>\n",
              "      <td>no answer</td>\n",
              "      <td>no answer</td>\n",
              "      <td>dipende dal giornale o dalla fonte</td>\n",
              "      <td>dipende dalla notizia</td>\n",
              "      <td>no</td>\n",
              "      <td>per niente</td>\n",
              "      <td>abbastanza</td>\n",
              "      <td>per niente</td>\n",
              "      <td>abbastanza</td>\n",
              "      <td>per niente</td>\n",
              "      <td>per niente</td>\n",
              "      <td>Instagram, Facebook, messaggistica istantanea ...</td>\n",
              "      <td>politica, religioni, associazioni religiose, g...</td>\n",
              "      <td>tra 15 e 20</td>\n",
              "      <td>no</td>\n",
              "      <td>si</td>\n",
              "    </tr>\n",
              "    <tr>\n",
              "      <th>4</th>\n",
              "      <td>4/4/2019 16:35:20</td>\n",
              "      <td>tra 55 e 64</td>\n",
              "      <td>M</td>\n",
              "      <td>italiana</td>\n",
              "      <td>Sì</td>\n",
              "      <td>Viterbo</td>\n",
              "      <td>Perugia</td>\n",
              "      <td>laurea vecchio ordinamento</td>\n",
              "      <td>italiana</td>\n",
              "      <td>Sì</td>\n",
              "      <td>Viterbo</td>\n",
              "      <td>italiana</td>\n",
              "      <td>Sì</td>\n",
              "      <td>Viterbo</td>\n",
              "      <td>Sì</td>\n",
              "      <td>Tutti i giorni</td>\n",
              "      <td>raramente</td>\n",
              "      <td>spesso</td>\n",
              "      <td>raramente</td>\n",
              "      <td>raramente</td>\n",
              "      <td>sempre</td>\n",
              "      <td>mai</td>\n",
              "      <td>Internet</td>\n",
              "      <td>circa 30 minuti</td>\n",
              "      <td>bullismo, violenze e/o abusi sulle donne, viol...</td>\n",
              "      <td>giornalmente</td>\n",
              "      <td>chimica, tecnologia, innovazione, biologia</td>\n",
              "      <td>i titoli delle testate giornalistiche, i video</td>\n",
              "      <td>dalla tv, da una persona che ne parlava</td>\n",
              "      <td>Sì</td>\n",
              "      <td>sempre</td>\n",
              "      <td>raramente</td>\n",
              "      <td>sempre</td>\n",
              "      <td>sempre</td>\n",
              "      <td>mai</td>\n",
              "      <td>no answer</td>\n",
              "      <td>Altro</td>\n",
              "      <td>Altro</td>\n",
              "      <td>Notizie/cronaca/attualità, scienza (scoperte s...</td>\n",
              "      <td>news</td>\n",
              "      <td>Non ne ricevo</td>\n",
              "      <td>altro</td>\n",
              "      <td>il titolo, l'argomento che tratta</td>\n",
              "      <td>raramente</td>\n",
              "      <td>famiglia, amici più stretti</td>\n",
              "      <td>no answer</td>\n",
              "      <td>no answer</td>\n",
              "      <td>no answer</td>\n",
              "      <td>no answer</td>\n",
              "      <td>no answer</td>\n",
              "      <td>dipende dal giornale o dalla fonte</td>\n",
              "      <td>dipende dalla notizia</td>\n",
              "      <td>si</td>\n",
              "      <td>poco</td>\n",
              "      <td>abbastanza</td>\n",
              "      <td>abbastanza</td>\n",
              "      <td>abbastanza</td>\n",
              "      <td>poco</td>\n",
              "      <td>per niente</td>\n",
              "      <td>blog e siti vari</td>\n",
              "      <td>Notizie/cronaca/attualità, scienza, salute, te...</td>\n",
              "      <td>tra 15 e 20</td>\n",
              "      <td>si</td>\n",
              "      <td>si</td>\n",
              "    </tr>\n",
              "  </tbody>\n",
              "</table>\n",
              "</div>"
            ],
            "text/plain": [
              "           Timestamp  ... Sai quali pericoli potrebbero esserci nel postare le foto sui social?\n",
              "0  4/1/2019 19:34:25  ...                         lo so, ma non mi interessa                   \n",
              "1  4/1/2019 19:47:19  ...                                                 si                   \n",
              "2  4/2/2019 15:32:41  ...                                                 no                   \n",
              "3  4/3/2019 20:22:05  ...                                                 si                   \n",
              "4  4/4/2019 16:35:20  ...                                                 si                   \n",
              "\n",
              "[5 rows x 64 columns]"
            ]
          },
          "metadata": {
            "tags": []
          },
          "execution_count": 1
        }
      ]
    },
    {
      "cell_type": "markdown",
      "metadata": {
        "id": "5VkN7wXlCkxW",
        "colab_type": "text"
      },
      "source": [
        "# Look into data"
      ]
    },
    {
      "cell_type": "code",
      "metadata": {
        "id": "hfxujQ-SBfCK",
        "colab_type": "code",
        "colab": {
          "base_uri": "https://localhost:8080/",
          "height": 1210
        },
        "outputId": "4ed39bc7-1234-40bf-e8d3-628e08084a27"
      },
      "source": [
        "df.info()"
      ],
      "execution_count": 45,
      "outputs": [
        {
          "output_type": "stream",
          "text": [
            "<class 'pandas.core.frame.DataFrame'>\n",
            "RangeIndex: 1014 entries, 0 to 1013\n",
            "Data columns (total 64 columns):\n",
            "Timestamp                                                                                                                     1014 non-null object\n",
            "Età in anni compiuti                                                                                                          1014 non-null object\n",
            "Sesso                                                                                                                         1014 non-null object\n",
            "Cittadinanza                                                                                                                  1014 non-null object\n",
            "Sei nato in Italia?                                                                                                           1014 non-null object\n",
            "Provincia di nascita                                                                                                          1014 non-null object\n",
            "Provincia di dimora abituale                                                                                                  1014 non-null object\n",
            "Titolo di Studio più alto conseguito                                                                                          1014 non-null object\n",
            "Cittadinanza del padre                                                                                                        1014 non-null object\n",
            "Tuo padre è nato in Italia?                                                                                                   1014 non-null object\n",
            "Provincia di nascita del padre                                                                                                1014 non-null object\n",
            "Cittadinanza della madre                                                                                                      1014 non-null object\n",
            "Tua madre è nata in Italia?                                                                                                   1014 non-null object\n",
            "Provincia di nascita della madre                                                                                              1014 non-null object\n",
            "Negli ultimi 12 mesi ti è mai capitato di cercare informazioni?                                                               1014 non-null object\n",
            "Negli ultimi 12 mesi quante volte hai cercato informazioni?                                                                   1014 non-null object\n",
            "Negli ultimi 12 mesi che strumenti hai utilizzato per cercare informazioni?  [Carta (es. giornali, riviste, ecc.)]            1014 non-null object\n",
            "Negli ultimi 12 mesi che strumenti hai utilizzato per cercare informazioni?  [Tv (es. telegiornali, talkshow)]                1014 non-null object\n",
            "Negli ultimi 12 mesi che strumenti hai utilizzato per cercare informazioni?  [Radio (es. giornaleradio)]                      1014 non-null object\n",
            "Negli ultimi 12 mesi che strumenti hai utilizzato per cercare informazioni?  [Persone (amici, scuola, famiglia)]              1014 non-null object\n",
            "Negli ultimi 12 mesi che strumenti hai utilizzato per cercare informazioni?  [Internet]                                       1014 non-null object\n",
            "Negli ultimi 12 mesi che strumenti hai utilizzato per cercare informazioni?  [Altro]                                          1014 non-null object\n",
            "Tra gli strumenti che negli ultimi 12 mesi hai utilizzato per cercare informazioni, qual è quello che preferisci usare?       1014 non-null object\n",
            "Negli ultimi 12 mesi, quando hai cercato notizie, quanto tempo hai impiegato mediamente al giorno nella ricerca?              1014 non-null object\n",
            "Quali notizie ti fanno paura?                                                                                                 1014 non-null object\n",
            "Con che frequenza ti informi su argomenti riguardanti la scienza?                                                             1014 non-null object\n",
            "Quali argomenti scientifici ti attirano di più                                                                                1014 non-null object\n",
            "Quando hai saputo della strage in discoteca a Corinaldo al concerto di Sfera Ebbasta, cosa ha catturato la tua attenzione?    1014 non-null object\n",
            "Da dove hai appreso della caduta del ponte Morandi a Genova?                                                                  1014 non-null object\n",
            "Hai mai usato internet?                                                                                                       1014 non-null object\n",
            "Sul web, dove prendi le informazioni? [testate giornalistiche online]                                                         1014 non-null object\n",
            "Sul web, dove prendi le informazioni? [social]                                                                                1014 non-null object\n",
            "Sul web, dove prendi le informazioni? [motori di ricerca (es google, safari, ping]                                            1014 non-null object\n",
            "Sul web, dove prendi le informazioni? [siti specifici che conosco]                                                            1014 non-null object\n",
            "Sul web, dove prendi le informazioni? [app dedicate]                                                                          1014 non-null object\n",
            "Sul web, dove prendi le informazioni? [newsletter via email]                                                                  1014 non-null object\n",
            "Quali social usi di più per informarti?                                                                                       1014 non-null object\n",
            "Tra i social che usi di più anche per informati, quale preferisci?                                                            1014 non-null object\n",
            "Cosa cerchi di più su internet?                                                                                               1014 non-null object\n",
            "Qual è la prima cosa che vai a vedere sui social?                                                                             1014 non-null object\n",
            "Da dove ricevi notizie senza cercarle quando sei on line?                                                                     1014 non-null object\n",
            "Quali argomenti ti vengono suggeriti mentre sei online                                                                        1014 non-null object\n",
            "Cosa attrae innanzitutto la tua attenzione su una notizia on line?                                                            1014 non-null object\n",
            "Condividi le notizie?                                                                                                         1014 non-null object\n",
            "Con chi le condividi?                                                                                                         1014 non-null object\n",
            "Come condividi le notizie che leggi?                                                                                          1014 non-null object\n",
            "Quando condividi lo fai ...  [Perché è una notizia che mi ha impressionato]                                                   1014 non-null object\n",
            "Quando condividi lo fai ...  [Per farlo sapere a tutti]                                                                       1014 non-null object\n",
            "Quando condividi lo fai ...  [Per commentare]                                                                                 1014 non-null object\n",
            "Quando condividi lo fai ...  [Perché lo fanno tutti]                                                                          1014 non-null object\n",
            "Secondo te ci si può fidare di ciò che scrivono i giornalisti?                                                                1014 non-null object\n",
            "Secondo te ci si può fidare delle notizie che si trovano su internet?                                                         1014 non-null object\n",
            "Ritieni che esistano sistemi sicuri per capire con certezza se una notizia è vera o no?                                       1014 non-null object\n",
            "Cosa ti fa capire se una notizia è attendibile? [La notizia in sé, l'argomento che tratta]                                    1014 non-null object\n",
            "Cosa ti fa capire se una notizia è attendibile? [Se riporta le fonti da cui è tratto l'argomento]                             1014 non-null object\n",
            "Cosa ti fa capire se una notizia è attendibile? [Il modo in cui è raccontata la notizia]                                      1014 non-null object\n",
            "Cosa ti fa capire se una notizia è attendibile? [La fonte che la pubblica (il sito, il giornale, il social)]                  1014 non-null object\n",
            "Cosa ti fa capire se una notizia è attendibile? [La forma e lo stile]                                                         1014 non-null object\n",
            "Cosa ti fa capire se una notizia è attendibile? [altro]                                                                       1014 non-null object\n",
            "Secondo te dove si diffondono di più le fake news?                                                                            1014 non-null object\n",
            "Quali sono gli argormenti fake che attecchiscono di più?                                                                      1014 non-null object\n",
            "Secondo te a che età si è più inclini a condividere una fake news?                                                            1014 non-null object\n",
            "Sai cos'è la reputazione digitale?                                                                                            1014 non-null object\n",
            "Sai quali pericoli potrebbero esserci nel postare le foto sui social?                                                         1014 non-null object\n",
            "dtypes: object(64)\n",
            "memory usage: 507.1+ KB\n"
          ],
          "name": "stdout"
        }
      ]
    },
    {
      "cell_type": "code",
      "metadata": {
        "id": "PMc7GDerHocC",
        "colab_type": "code",
        "colab": {
          "base_uri": "https://localhost:8080/",
          "height": 482
        },
        "outputId": "af7e1c72-18a1-4caa-ed42-6c371bedab5b"
      },
      "source": [
        "df.describe()"
      ],
      "execution_count": 46,
      "outputs": [
        {
          "output_type": "execute_result",
          "data": {
            "text/html": [
              "<div>\n",
              "<style scoped>\n",
              "    .dataframe tbody tr th:only-of-type {\n",
              "        vertical-align: middle;\n",
              "    }\n",
              "\n",
              "    .dataframe tbody tr th {\n",
              "        vertical-align: top;\n",
              "    }\n",
              "\n",
              "    .dataframe thead th {\n",
              "        text-align: right;\n",
              "    }\n",
              "</style>\n",
              "<table border=\"1\" class=\"dataframe\">\n",
              "  <thead>\n",
              "    <tr style=\"text-align: right;\">\n",
              "      <th></th>\n",
              "      <th>Timestamp</th>\n",
              "      <th>Età in anni compiuti</th>\n",
              "      <th>Sesso</th>\n",
              "      <th>Cittadinanza</th>\n",
              "      <th>Sei nato in Italia?</th>\n",
              "      <th>Provincia di nascita</th>\n",
              "      <th>Provincia di dimora abituale</th>\n",
              "      <th>Titolo di Studio più alto conseguito</th>\n",
              "      <th>Cittadinanza del padre</th>\n",
              "      <th>Tuo padre è nato in Italia?</th>\n",
              "      <th>Provincia di nascita del padre</th>\n",
              "      <th>Cittadinanza della madre</th>\n",
              "      <th>Tua madre è nata in Italia?</th>\n",
              "      <th>Provincia di nascita della madre</th>\n",
              "      <th>Negli ultimi 12 mesi ti è mai capitato di cercare informazioni?</th>\n",
              "      <th>Negli ultimi 12 mesi quante volte hai cercato informazioni?</th>\n",
              "      <th>Negli ultimi 12 mesi che strumenti hai utilizzato per cercare informazioni?  [Carta (es. giornali, riviste, ecc.)]</th>\n",
              "      <th>Negli ultimi 12 mesi che strumenti hai utilizzato per cercare informazioni?  [Tv (es. telegiornali, talkshow)]</th>\n",
              "      <th>Negli ultimi 12 mesi che strumenti hai utilizzato per cercare informazioni?  [Radio (es. giornaleradio)]</th>\n",
              "      <th>Negli ultimi 12 mesi che strumenti hai utilizzato per cercare informazioni?  [Persone (amici, scuola, famiglia)]</th>\n",
              "      <th>Negli ultimi 12 mesi che strumenti hai utilizzato per cercare informazioni?  [Internet]</th>\n",
              "      <th>Negli ultimi 12 mesi che strumenti hai utilizzato per cercare informazioni?  [Altro]</th>\n",
              "      <th>Tra gli strumenti che negli ultimi 12 mesi hai utilizzato per cercare informazioni, qual è quello che preferisci usare?</th>\n",
              "      <th>Negli ultimi 12 mesi, quando hai cercato notizie, quanto tempo hai impiegato mediamente al giorno nella ricerca?</th>\n",
              "      <th>Quali notizie ti fanno paura?</th>\n",
              "      <th>Con che frequenza ti informi su argomenti riguardanti la scienza?</th>\n",
              "      <th>Quali argomenti scientifici ti attirano di più</th>\n",
              "      <th>Quando hai saputo della strage in discoteca a Corinaldo al concerto di Sfera Ebbasta, cosa ha catturato la tua attenzione?</th>\n",
              "      <th>Da dove hai appreso della caduta del ponte Morandi a Genova?</th>\n",
              "      <th>Hai mai usato internet?</th>\n",
              "      <th>Sul web, dove prendi le informazioni? [testate giornalistiche online]</th>\n",
              "      <th>Sul web, dove prendi le informazioni? [social]</th>\n",
              "      <th>Sul web, dove prendi le informazioni? [motori di ricerca (es google, safari, ping]</th>\n",
              "      <th>Sul web, dove prendi le informazioni? [siti specifici che conosco]</th>\n",
              "      <th>Sul web, dove prendi le informazioni? [app dedicate]</th>\n",
              "      <th>Sul web, dove prendi le informazioni? [newsletter via email]</th>\n",
              "      <th>Quali social usi di più per informarti?</th>\n",
              "      <th>Tra i social che usi di più anche per informati, quale preferisci?</th>\n",
              "      <th>Cosa cerchi di più su internet?</th>\n",
              "      <th>Qual è la prima cosa che vai a vedere sui social?</th>\n",
              "      <th>Da dove ricevi notizie senza cercarle quando sei on line?</th>\n",
              "      <th>Quali argomenti ti vengono suggeriti mentre sei online</th>\n",
              "      <th>Cosa attrae innanzitutto la tua attenzione su una notizia on line?</th>\n",
              "      <th>Condividi le notizie?</th>\n",
              "      <th>Con chi le condividi?</th>\n",
              "      <th>Come condividi le notizie che leggi?</th>\n",
              "      <th>Quando condividi lo fai ...  [Perché è una notizia che mi ha impressionato]</th>\n",
              "      <th>Quando condividi lo fai ...  [Per farlo sapere a tutti]</th>\n",
              "      <th>Quando condividi lo fai ...  [Per commentare]</th>\n",
              "      <th>Quando condividi lo fai ...  [Perché lo fanno tutti]</th>\n",
              "      <th>Secondo te ci si può fidare di ciò che scrivono i giornalisti?</th>\n",
              "      <th>Secondo te ci si può fidare delle notizie che si trovano su internet?</th>\n",
              "      <th>Ritieni che esistano sistemi sicuri per capire con certezza se una notizia è vera o no?</th>\n",
              "      <th>Cosa ti fa capire se una notizia è attendibile? [La notizia in sé, l'argomento che tratta]</th>\n",
              "      <th>Cosa ti fa capire se una notizia è attendibile? [Se riporta le fonti da cui è tratto l'argomento]</th>\n",
              "      <th>Cosa ti fa capire se una notizia è attendibile? [Il modo in cui è raccontata la notizia]</th>\n",
              "      <th>Cosa ti fa capire se una notizia è attendibile? [La fonte che la pubblica (il sito, il giornale, il social)]</th>\n",
              "      <th>Cosa ti fa capire se una notizia è attendibile? [La forma e lo stile]</th>\n",
              "      <th>Cosa ti fa capire se una notizia è attendibile? [altro]</th>\n",
              "      <th>Secondo te dove si diffondono di più le fake news?</th>\n",
              "      <th>Quali sono gli argormenti fake che attecchiscono di più?</th>\n",
              "      <th>Secondo te a che età si è più inclini a condividere una fake news?</th>\n",
              "      <th>Sai cos'è la reputazione digitale?</th>\n",
              "      <th>Sai quali pericoli potrebbero esserci nel postare le foto sui social?</th>\n",
              "    </tr>\n",
              "  </thead>\n",
              "  <tbody>\n",
              "    <tr>\n",
              "      <th>count</th>\n",
              "      <td>1014</td>\n",
              "      <td>1014</td>\n",
              "      <td>1014</td>\n",
              "      <td>1014</td>\n",
              "      <td>1014</td>\n",
              "      <td>1014</td>\n",
              "      <td>1014</td>\n",
              "      <td>1014</td>\n",
              "      <td>1014</td>\n",
              "      <td>1014</td>\n",
              "      <td>1014</td>\n",
              "      <td>1014</td>\n",
              "      <td>1014</td>\n",
              "      <td>1014</td>\n",
              "      <td>1014</td>\n",
              "      <td>1014</td>\n",
              "      <td>1014</td>\n",
              "      <td>1014</td>\n",
              "      <td>1014</td>\n",
              "      <td>1014</td>\n",
              "      <td>1014</td>\n",
              "      <td>1014</td>\n",
              "      <td>1014</td>\n",
              "      <td>1014</td>\n",
              "      <td>1014</td>\n",
              "      <td>1014</td>\n",
              "      <td>1014</td>\n",
              "      <td>1014</td>\n",
              "      <td>1014</td>\n",
              "      <td>1014</td>\n",
              "      <td>1014</td>\n",
              "      <td>1014</td>\n",
              "      <td>1014</td>\n",
              "      <td>1014</td>\n",
              "      <td>1014</td>\n",
              "      <td>1014</td>\n",
              "      <td>1014</td>\n",
              "      <td>1014</td>\n",
              "      <td>1014</td>\n",
              "      <td>1014</td>\n",
              "      <td>1014</td>\n",
              "      <td>1014</td>\n",
              "      <td>1014</td>\n",
              "      <td>1014</td>\n",
              "      <td>1014</td>\n",
              "      <td>1014</td>\n",
              "      <td>1014</td>\n",
              "      <td>1014</td>\n",
              "      <td>1014</td>\n",
              "      <td>1014</td>\n",
              "      <td>1014</td>\n",
              "      <td>1014</td>\n",
              "      <td>1014</td>\n",
              "      <td>1014</td>\n",
              "      <td>1014</td>\n",
              "      <td>1014</td>\n",
              "      <td>1014</td>\n",
              "      <td>1014</td>\n",
              "      <td>1014</td>\n",
              "      <td>1014</td>\n",
              "      <td>1014</td>\n",
              "      <td>1014</td>\n",
              "      <td>1014</td>\n",
              "      <td>1014</td>\n",
              "    </tr>\n",
              "    <tr>\n",
              "      <th>unique</th>\n",
              "      <td>1010</td>\n",
              "      <td>10</td>\n",
              "      <td>2</td>\n",
              "      <td>3</td>\n",
              "      <td>3</td>\n",
              "      <td>63</td>\n",
              "      <td>40</td>\n",
              "      <td>12</td>\n",
              "      <td>3</td>\n",
              "      <td>3</td>\n",
              "      <td>88</td>\n",
              "      <td>3</td>\n",
              "      <td>3</td>\n",
              "      <td>87</td>\n",
              "      <td>2</td>\n",
              "      <td>5</td>\n",
              "      <td>10</td>\n",
              "      <td>10</td>\n",
              "      <td>10</td>\n",
              "      <td>11</td>\n",
              "      <td>11</td>\n",
              "      <td>10</td>\n",
              "      <td>7</td>\n",
              "      <td>5</td>\n",
              "      <td>40</td>\n",
              "      <td>5</td>\n",
              "      <td>163</td>\n",
              "      <td>62</td>\n",
              "      <td>29</td>\n",
              "      <td>3</td>\n",
              "      <td>10</td>\n",
              "      <td>10</td>\n",
              "      <td>10</td>\n",
              "      <td>11</td>\n",
              "      <td>11</td>\n",
              "      <td>8</td>\n",
              "      <td>55</td>\n",
              "      <td>8</td>\n",
              "      <td>741</td>\n",
              "      <td>8</td>\n",
              "      <td>66</td>\n",
              "      <td>687</td>\n",
              "      <td>47</td>\n",
              "      <td>5</td>\n",
              "      <td>30</td>\n",
              "      <td>16</td>\n",
              "      <td>5</td>\n",
              "      <td>5</td>\n",
              "      <td>5</td>\n",
              "      <td>5</td>\n",
              "      <td>5</td>\n",
              "      <td>5</td>\n",
              "      <td>5</td>\n",
              "      <td>5</td>\n",
              "      <td>5</td>\n",
              "      <td>5</td>\n",
              "      <td>5</td>\n",
              "      <td>5</td>\n",
              "      <td>5</td>\n",
              "      <td>206</td>\n",
              "      <td>595</td>\n",
              "      <td>8</td>\n",
              "      <td>4</td>\n",
              "      <td>5</td>\n",
              "    </tr>\n",
              "    <tr>\n",
              "      <th>top</th>\n",
              "      <td>5/9/2019 10:12:29</td>\n",
              "      <td>tra 15 e 17</td>\n",
              "      <td>F</td>\n",
              "      <td>italiana</td>\n",
              "      <td>Sì</td>\n",
              "      <td>Roma</td>\n",
              "      <td>Roma</td>\n",
              "      <td>licenza di scuola secondaria di primo grado</td>\n",
              "      <td>italiana</td>\n",
              "      <td>Sì</td>\n",
              "      <td>Roma</td>\n",
              "      <td>italiana</td>\n",
              "      <td>Sì</td>\n",
              "      <td>Roma</td>\n",
              "      <td>Sì</td>\n",
              "      <td>Tutti i giorni</td>\n",
              "      <td>raramente</td>\n",
              "      <td>spesso</td>\n",
              "      <td>raramente</td>\n",
              "      <td>spesso</td>\n",
              "      <td>sempre</td>\n",
              "      <td>mai</td>\n",
              "      <td>Internet</td>\n",
              "      <td>circa 30 minuti</td>\n",
              "      <td>terrorismo, violenze e/o abusi sulle donne, vi...</td>\n",
              "      <td>settimanalmente</td>\n",
              "      <td>no answer</td>\n",
              "      <td>commenti e discussioni riguardo la notizia</td>\n",
              "      <td>dalla tv</td>\n",
              "      <td>Sì</td>\n",
              "      <td>spesso</td>\n",
              "      <td>spesso</td>\n",
              "      <td>spesso</td>\n",
              "      <td>spesso</td>\n",
              "      <td>mai</td>\n",
              "      <td>mai</td>\n",
              "      <td>Instagram, Youtube</td>\n",
              "      <td>Instagram</td>\n",
              "      <td>no answer</td>\n",
              "      <td>foto</td>\n",
              "      <td>Non ne ricevo</td>\n",
              "      <td>no answer</td>\n",
              "      <td>l'argomento che tratta</td>\n",
              "      <td>raramente</td>\n",
              "      <td>famiglia, amici più stretti</td>\n",
              "      <td>con un'app di messaggistica istantanea (whatsa...</td>\n",
              "      <td>molto</td>\n",
              "      <td>abbastanza</td>\n",
              "      <td>poco</td>\n",
              "      <td>mai per questo</td>\n",
              "      <td>dipende dal giornale o dalla fonte</td>\n",
              "      <td>dipende dalla notizia</td>\n",
              "      <td>dipende</td>\n",
              "      <td>abbastanza</td>\n",
              "      <td>abbastanza</td>\n",
              "      <td>abbastanza</td>\n",
              "      <td>molto</td>\n",
              "      <td>poco</td>\n",
              "      <td>per niente</td>\n",
              "      <td>Facebook</td>\n",
              "      <td>Notizie/cronaca/attualità</td>\n",
              "      <td>tra 15 e 20</td>\n",
              "      <td>si</td>\n",
              "      <td>si</td>\n",
              "    </tr>\n",
              "    <tr>\n",
              "      <th>freq</th>\n",
              "      <td>2</td>\n",
              "      <td>381</td>\n",
              "      <td>641</td>\n",
              "      <td>977</td>\n",
              "      <td>952</td>\n",
              "      <td>505</td>\n",
              "      <td>618</td>\n",
              "      <td>577</td>\n",
              "      <td>948</td>\n",
              "      <td>917</td>\n",
              "      <td>342</td>\n",
              "      <td>938</td>\n",
              "      <td>900</td>\n",
              "      <td>342</td>\n",
              "      <td>984</td>\n",
              "      <td>544</td>\n",
              "      <td>514</td>\n",
              "      <td>461</td>\n",
              "      <td>391</td>\n",
              "      <td>561</td>\n",
              "      <td>621</td>\n",
              "      <td>423</td>\n",
              "      <td>825</td>\n",
              "      <td>431</td>\n",
              "      <td>153</td>\n",
              "      <td>378</td>\n",
              "      <td>192</td>\n",
              "      <td>178</td>\n",
              "      <td>541</td>\n",
              "      <td>973</td>\n",
              "      <td>428</td>\n",
              "      <td>392</td>\n",
              "      <td>455</td>\n",
              "      <td>385</td>\n",
              "      <td>437</td>\n",
              "      <td>595</td>\n",
              "      <td>206</td>\n",
              "      <td>400</td>\n",
              "      <td>31</td>\n",
              "      <td>268</td>\n",
              "      <td>115</td>\n",
              "      <td>31</td>\n",
              "      <td>324</td>\n",
              "      <td>466</td>\n",
              "      <td>207</td>\n",
              "      <td>277</td>\n",
              "      <td>370</td>\n",
              "      <td>299</td>\n",
              "      <td>282</td>\n",
              "      <td>694</td>\n",
              "      <td>767</td>\n",
              "      <td>694</td>\n",
              "      <td>342</td>\n",
              "      <td>470</td>\n",
              "      <td>460</td>\n",
              "      <td>383</td>\n",
              "      <td>445</td>\n",
              "      <td>417</td>\n",
              "      <td>374</td>\n",
              "      <td>63</td>\n",
              "      <td>53</td>\n",
              "      <td>284</td>\n",
              "      <td>492</td>\n",
              "      <td>871</td>\n",
              "    </tr>\n",
              "  </tbody>\n",
              "</table>\n",
              "</div>"
            ],
            "text/plain": [
              "                Timestamp  ... Sai quali pericoli potrebbero esserci nel postare le foto sui social?\n",
              "count                1014  ...                                               1014                   \n",
              "unique               1010  ...                                                  5                   \n",
              "top     5/9/2019 10:12:29  ...                                                 si                   \n",
              "freq                    2  ...                                                871                   \n",
              "\n",
              "[4 rows x 64 columns]"
            ]
          },
          "metadata": {
            "tags": []
          },
          "execution_count": 46
        }
      ]
    },
    {
      "cell_type": "code",
      "metadata": {
        "id": "-wAN8QsyDixe",
        "colab_type": "code",
        "colab": {
          "base_uri": "https://localhost:8080/",
          "height": 153
        },
        "outputId": "739278aa-f87d-4b05-a6d7-68886e9643b1"
      },
      "source": [
        "print(df['Cittadinanza'].value_counts())\n",
        "print(df['Sei nato in Italia?'].value_counts())"
      ],
      "execution_count": 47,
      "outputs": [
        {
          "output_type": "stream",
          "text": [
            "italiana    977\n",
            "europea      21\n",
            "altra        16\n",
            "Name: Cittadinanza, dtype: int64\n",
            "Sì           952\n",
            "no answer     39\n",
            "No            23\n",
            "Name: Sei nato in Italia?, dtype: int64\n"
          ],
          "name": "stdout"
        }
      ]
    },
    {
      "cell_type": "markdown",
      "metadata": {
        "id": "GxOJtL7qaO5r",
        "colab_type": "text"
      },
      "source": [
        "# dataset visualizzation"
      ]
    },
    {
      "cell_type": "code",
      "metadata": {
        "id": "EFEzaSiy5vSS",
        "colab_type": "code",
        "colab": {
          "base_uri": "https://localhost:8080/",
          "height": 306
        },
        "outputId": "8ee72a01-795f-4362-a0a5-10ec64d6a2fe"
      },
      "source": [
        "%matplotlib inline\n",
        "import matplotlib.pyplot as plt\n",
        "df['Sesso'].value_counts().plot(kind='pie')\n",
        "plt.show()  \n",
        "df['Sesso'].value_counts()\n"
      ],
      "execution_count": 2,
      "outputs": [
        {
          "output_type": "display_data",
          "data": {
            "image/png": "[encoded data removed]",
            "text/plain": [
              "<Figure size 432x288 with 1 Axes>"
            ]
          },
          "metadata": {
            "tags": []
          }
        },
        {
          "output_type": "execute_result",
          "data": {
            "text/plain": [
              "F    642\n",
              "M    373\n",
              "Name: Sesso, dtype: int64"
            ]
          },
          "metadata": {
            "tags": []
          },
          "execution_count": 2
        }
      ]
    },
    {
      "cell_type": "markdown",
      "metadata": {
        "id": "hqPWwqOQ5u3X",
        "colab_type": "text"
      },
      "source": [
        "istogramma... \n",
        "l'ordine prescelto per una visulizzazione semplice e' in base a gli entries (che falsa la visulizzazione)"
      ]
    },
    {
      "cell_type": "code",
      "metadata": {
        "id": "g1Q1cfE-9hma",
        "colab_type": "code",
        "colab": {
          "base_uri": "https://localhost:8080/",
          "height": 314
        },
        "outputId": "2ce1d26c-c4a1-450c-ae53-26764ff28f0c"
      },
      "source": [
        "df['Età in anni compiuti'].value_counts().plot(kind='bar')\n",
        "plt.show()  \n",
        " "
      ],
      "execution_count": 3,
      "outputs": [
        {
          "output_type": "display_data",
          "data": {
            "image/png": "[encoded data removed]",
            "text/plain": [
              "<Figure size 432x288 with 1 Axes>"
            ]
          },
          "metadata": {
            "tags": []
          }
        }
      ]
    },
    {
      "cell_type": "markdown",
      "metadata": {
        "id": "TMutPUswBDAT",
        "colab_type": "text"
      },
      "source": [
        "data are index in ASCI oder and must be reindex "
      ]
    },
    {
      "cell_type": "code",
      "metadata": {
        "id": "gl9fLW9MBB1e",
        "colab_type": "code",
        "colab": {
          "base_uri": "https://localhost:8080/",
          "height": 314
        },
        "outputId": "5656ef53-64eb-4760-87d8-e8cbb55ef44d"
      },
      "source": [
        "ordine_eta = ['tra 11 e 14', 'tra 15 e 17', 'tra 18 e 19',\n",
        "       'tra 20 e 24', 'tra 25 e 34', 'tra 35 e 44', 'tra 45 e 54',\n",
        "       'tra 55 e 64', 'tra 65 e 74', '75 e oltre']\n",
        "df['Età in anni compiuti'].value_counts().reindex(ordine_eta).plot(kind='bar')\n",
        "plt.show() "
      ],
      "execution_count": 6,
      "outputs": [
        {
          "output_type": "display_data",
          "data": {
            "image/png": "[encoded data removed]",
            "text/plain": [
              "<Figure size 432x288 with 1 Axes>"
            ]
          },
          "metadata": {
            "tags": []
          }
        }
      ]
    },
    {
      "cell_type": "code",
      "metadata": {
        "id": "46Vd9ZP2q7p1",
        "colab_type": "code",
        "colab": {
          "base_uri": "https://localhost:8080/",
          "height": 314
        },
        "outputId": "bf43803c-8cd4-42fc-f881-52895aef94ba"
      },
      "source": [
        "cat_eta = pd.Categorical(df['Età in anni compiuti'], \n",
        "                     categories=ordine_eta, \n",
        "                     ordered=True)\n",
        "cat_eta.value_counts().plot(kind='bar')\n",
        "plt.show()"
      ],
      "execution_count": 7,
      "outputs": [
        {
          "output_type": "display_data",
          "data": {
            "image/png": "[encoded data removed]",
            "text/plain": [
              "<Figure size 432x288 with 1 Axes>"
            ]
          },
          "metadata": {
            "tags": []
          }
        }
      ]
    },
    {
      "cell_type": "markdown",
      "metadata": {
        "id": "pf8fvWPg6VRi",
        "colab_type": "text"
      },
      "source": [
        "per passarlo ad algorirmi di machine lenrning e' necessario indicizzarlo corretamente"
      ]
    },
    {
      "cell_type": "code",
      "metadata": {
        "id": "0AnbWoO49Fuh",
        "colab_type": "code",
        "colab": {}
      },
      "source": [
        "from sklearn.preprocessing import OrdinalEncoder\n",
        "ordinal_encoder = OrdinalEncoder(categories=[ordine_eta])\n",
        "eta_encoded = ordinal_encoder.fit_transform(df[['Età in anni compiuti']])"
      ],
      "execution_count": 0,
      "outputs": []
    },
    {
      "cell_type": "markdown",
      "metadata": {
        "id": "ZkH9npCcrHII",
        "colab_type": "text"
      },
      "source": [
        "segue esempio di unsepevised machine lerning che separa in 2 cluster\n",
        "dati raw"
      ]
    },
    {
      "cell_type": "code",
      "metadata": {
        "id": "NgnnqUEv-pJ6",
        "colab_type": "code",
        "colab": {
          "base_uri": "https://localhost:8080/",
          "height": 320
        },
        "outputId": "42ba3e97-d5de-4862-98a1-01d061fc9325"
      },
      "source": [
        "print(ordinal_encoder.categories_)\n",
        "plt.hist(eta_encoded)\n",
        "plt.show()"
      ],
      "execution_count": 13,
      "outputs": [
        {
          "output_type": "stream",
          "text": [
            "[array(['tra 11 e 14', 'tra 15 e 17', 'tra 18 e 19', 'tra 20 e 24',\n",
            "       'tra 25 e 34', 'tra 35 e 44', 'tra 45 e 54', 'tra 55 e 64',\n",
            "       'tra 65 e 74', '75 e oltre'], dtype=object)]\n"
          ],
          "name": "stdout"
        },
        {
          "output_type": "display_data",
          "data": {
            "image/png": "[encoded data removed]",
            "text/plain": [
              "<Figure size 432x288 with 1 Axes>"
            ]
          },
          "metadata": {
            "tags": []
          }
        }
      ]
    },
    {
      "cell_type": "markdown",
      "metadata": {
        "id": "wxjTfl56rURH",
        "colab_type": "text"
      },
      "source": [
        "applichaimo una classificazione per capire le famiglie di dati separati in 2 cluster usando KMeans"
      ]
    },
    {
      "cell_type": "code",
      "metadata": {
        "id": "eqx7KRmNP2KJ",
        "colab_type": "code",
        "colab": {
          "base_uri": "https://localhost:8080/",
          "height": 314
        },
        "outputId": "ef4a5eff-258c-4d2d-ea59-a561505172eb"
      },
      "source": [
        "from sklearn import cluster\n",
        "import numpy as np\n",
        "X = eta_encoded\n",
        "k_means = cluster.KMeans(n_clusters=2)\n",
        "k_means.fit(X)\n",
        "#labels = dff.columns\n",
        "labels = k_means.labels_\n",
        "#plt.scatter(X[:,1], X[:,0], c=labels.astype(np.float))\n",
        "plt.hist(X, range=(0,len(ordinal_encoder.categories_[0])), bins=len(ordinal_encoder.categories_[0]))\n",
        "plt.hist(X[labels==0], range=(0,len(ordinal_encoder.categories_[0])), bins=len(ordinal_encoder.categories_[0]),color = 'r')\n",
        "plt.xticks([0,1,2,3,4,5,6,7,8,9], ordine_eta, rotation='vertical')\n",
        "plt.show()\n",
        "#print(ordinal_encoder.categories_[0])\n"
      ],
      "execution_count": 14,
      "outputs": [
        {
          "output_type": "display_data",
          "data": {
            "image/png": "[encoded data removed]",
            "text/plain": [
              "<Figure size 432x288 with 1 Axes>"
            ]
          },
          "metadata": {
            "tags": []
          }
        }
      ]
    },
    {
      "cell_type": "markdown",
      "metadata": {
        "id": "M2Qs4iq9ra6j",
        "colab_type": "text"
      },
      "source": [
        "istogrammi di tutti il dataset"
      ]
    },
    {
      "cell_type": "code",
      "metadata": {
        "id": "su4XtaZuEK7u",
        "colab_type": "code",
        "colab": {
          "base_uri": "https://localhost:8080/",
          "height": 36722
        },
        "outputId": "6e7d53c6-ab74-4b2a-a159-911fa649588c"
      },
      "source": [
        "for i in range (1, len(df.columns)):\n",
        "  ordinal_encoder = OrdinalEncoder()\n",
        "  ordinated_encoded = ordinal_encoder.fit_transform(df[[df.columns[i]]])\n",
        "  print (df[df.columns[i]].value_counts())\n",
        "  plt.hist(ordinated_encoded, range=(0,len(ordinal_encoder.categories_[0])), bins=len(ordinal_encoder.categories_[0]))\n",
        "  \n",
        "  plt.show()"
      ],
      "execution_count": 23,
      "outputs": [
        {
          "output_type": "stream",
          "text": [
            "tra 15 e 17    381\n",
            "tra 11 e 14    208\n",
            "tra 45 e 54    151\n",
            "tra 18 e 19    119\n",
            "tra 55 e 64     49\n",
            "tra 35 e 44     44\n",
            "tra 25 e 34     36\n",
            "tra 20 e 24     17\n",
            "tra 65 e 74      6\n",
            "75 e oltre       4\n",
            "Name: Età in anni compiuti, dtype: int64\n"
          ],
          "name": "stdout"
        },
        {
          "output_type": "display_data",
          "data": {
            "image/png": "[encoded data removed]",
            "text/plain": [
              "<Figure size 432x288 with 1 Axes>"
            ]
          },
          "metadata": {
            "tags": []
          }
        },
        {
          "output_type": "stream",
          "text": [
            "F    642\n",
            "M    373\n",
            "Name: Sesso, dtype: int64\n"
          ],
          "name": "stdout"
        },
        {
          "output_type": "display_data",
          "data": {
            "image/png": "[encoded data removed]",
            "text/plain": [
              "<Figure size 432x288 with 1 Axes>"
            ]
          },
          "metadata": {
            "tags": []
          }
        },
        {
          "output_type": "stream",
          "text": [
            "italiana    978\n",
            "europea      21\n",
            "altra        16\n",
            "Name: Cittadinanza, dtype: int64\n"
          ],
          "name": "stdout"
        },
        {
          "output_type": "display_data",
          "data": {
            "image/png": "[encoded data removed]",
            "text/plain": [
              "<Figure size 432x288 with 1 Axes>"
            ]
          },
          "metadata": {
            "tags": []
          }
        },
        {
          "output_type": "stream",
          "text": [
            "Sì           953\n",
            "no answer     39\n",
            "No            23\n",
            "Name: Sei nato in Italia?, dtype: int64\n"
          ],
          "name": "stdout"
        },
        {
          "output_type": "display_data",
          "data": {
            "image/png": "[encoded data removed]",
            "text/plain": [
              "<Figure size 432x288 with 1 Axes>"
            ]
          },
          "metadata": {
            "tags": []
          }
        },
        {
          "output_type": "stream",
          "text": [
            "Roma               505\n",
            "Varese             168\n",
            "Perugia             78\n",
            "no answer           60\n",
            "Foggia              26\n",
            "Milano              21\n",
            "Napoli              13\n",
            "Como                11\n",
            "Genova               9\n",
            "Cosenza              9\n",
            "Salerno              9\n",
            "Bari                 7\n",
            "Reggio Calabria      6\n",
            "Monza Brianza        5\n",
            "Palermo              5\n",
            "Brindisi             4\n",
            "Ancona               4\n",
            "Agrigento            3\n",
            "Novara               3\n",
            "Latina               3\n",
            "Torino               3\n",
            "Caserta              3\n",
            "Catanzaro            3\n",
            "L'Aquila             3\n",
            "Potenza              3\n",
            "Bologna              3\n",
            "Trieste              2\n",
            "Vicenza              2\n",
            "Padova               2\n",
            "Taranto              2\n",
            "                  ... \n",
            "Brescia              2\n",
            "Siena                2\n",
            "Frosinone            2\n",
            "Lecce                2\n",
            "Messina              1\n",
            "Ferrara              1\n",
            "Cremona              1\n",
            "Catania              1\n",
            "Bergamo              1\n",
            "Savona               1\n",
            "Vercelli             1\n",
            "Forlì-Cesena         1\n",
            "Benevento            1\n",
            "Sassari              1\n",
            "Avellino             1\n",
            "Piacenza             1\n",
            "Bolzano/Bozen        1\n",
            "Venezia              1\n",
            "Arezzo               1\n",
            "Pescara              1\n",
            "Modena               1\n",
            "Rieti                1\n",
            "Pisa                 1\n",
            "Cuneo                1\n",
            "Matera               1\n",
            "Macerata             1\n",
            "Firenze              1\n",
            "Lucca                1\n",
            "Viterbo              1\n",
            "Ascoli Piceno        1\n",
            "Name: Provincia di nascita, Length: 63, dtype: int64\n"
          ],
          "name": "stdout"
        },
        {
          "output_type": "display_data",
          "data": {
            "image/png": "[encoded data removed]",
            "text/plain": [
              "<Figure size 432x288 with 1 Axes>"
            ]
          },
          "metadata": {
            "tags": []
          }
        },
        {
          "output_type": "stream",
          "text": [
            "Roma                     618\n",
            "Varese                   190\n",
            "Perugia                   84\n",
            "Como                      25\n",
            "Foggia                    23\n",
            "Genova                    11\n",
            "Cosenza                    6\n",
            "Ancona                     5\n",
            "Milano                     4\n",
            "Latina                     3\n",
            "Barletta-Andria-Trani      3\n",
            "Palermo                    3\n",
            "Bari                       3\n",
            "Bologna                    3\n",
            "Firenze                    2\n",
            "Monza e della Brianza      2\n",
            "Alessandria                2\n",
            "Siena                      2\n",
            "Vercelli                   2\n",
            "Trieste                    2\n",
            "Ferrara                    2\n",
            "Agrigento                  2\n",
            "Cremona                    1\n",
            "Vicenza                    1\n",
            "Bergamo                    1\n",
            "Lecce                      1\n",
            "Pordenone                  1\n",
            "Rovigo                     1\n",
            "Fermo                      1\n",
            "Udine                      1\n",
            "Savona                     1\n",
            "Potenza                    1\n",
            "Torino                     1\n",
            "Cuneo                      1\n",
            "Reggio Calabria            1\n",
            "Lucca                      1\n",
            "Padova                     1\n",
            "Brescia                    1\n",
            "Arezzo                     1\n",
            "Rieti                      1\n",
            "Name: Provincia di dimora abituale, dtype: int64\n"
          ],
          "name": "stdout"
        },
        {
          "output_type": "display_data",
          "data": {
            "image/png": "[encoded data removed]",
            "text/plain": [
              "<Figure size 432x288 with 1 Axes>"
            ]
          },
          "metadata": {
            "tags": []
          }
        },
        {
          "output_type": "stream",
          "text": [
            "licenza di scuola secondaria di primo grado                                                                       577\n",
            "scuola primaria                                                                                                   116\n",
            "laurea vecchio ordinamento                                                                                        116\n",
            "diploma di istituto tecnico                                                                                        53\n",
            "licenza liceale                                                                                                    46\n",
            "laurea magistrale biennale                                                                                         29\n",
            "dottorato                                                                                                          21\n",
            "laurea di primo livello                                                                                            19\n",
            "diploma di istituto professionale                                                                                  18\n",
            "laurea magistrale a ciclo unico                                                                                     9\n",
            "corsi universitari precedenti la legge di riforma n. 509 del 1999 (comprese le scuole dirette a fini speciali)      6\n",
            "diploma di istruzione artistica (scuole d'arte)                                                                     5\n",
            "Name: Titolo di Studio più alto conseguito, dtype: int64\n"
          ],
          "name": "stdout"
        },
        {
          "output_type": "display_data",
          "data": {
            "image/png": "[encoded data removed]",
            "text/plain": [
              "<Figure size 432x288 with 1 Axes>"
            ]
          },
          "metadata": {
            "tags": []
          }
        },
        {
          "output_type": "stream",
          "text": [
            "italiana    949\n",
            "europea      34\n",
            "altra        32\n",
            "Name: Cittadinanza del padre, dtype: int64\n"
          ],
          "name": "stdout"
        },
        {
          "output_type": "display_data",
          "data": {
            "image/png": "[encoded data removed]",
            "text/plain": [
              "<Figure size 432x288 with 1 Axes>"
            ]
          },
          "metadata": {
            "tags": []
          }
        },
        {
          "output_type": "stream",
          "text": [
            "Sì           918\n",
            "no answer     68\n",
            "No            29\n",
            "Name: Tuo padre è nato in Italia?, dtype: int64\n"
          ],
          "name": "stdout"
        },
        {
          "output_type": "display_data",
          "data": {
            "image/png": "[encoded data removed]",
            "text/plain": [
              "<Figure size 432x288 with 1 Axes>"
            ]
          },
          "metadata": {
            "tags": []
          }
        },
        {
          "output_type": "stream",
          "text": [
            "Roma                     342\n",
            "Varese                   124\n",
            "no answer                 95\n",
            "Perugia                   65\n",
            "Napoli                    33\n",
            "Foggia                    27\n",
            "Milano                    24\n",
            "Reggio Calabria           14\n",
            "Salerno                   12\n",
            "Palermo                   11\n",
            "Frosinone                 11\n",
            "Como                      10\n",
            "Cosenza                   10\n",
            "Catanzaro                  9\n",
            "L'Aquila                   9\n",
            "Bari                       8\n",
            "Messina                    8\n",
            "Avellino                   8\n",
            "Caserta                    8\n",
            "Taranto                    8\n",
            "Latina                     7\n",
            "Genova                     7\n",
            "Campobasso                 6\n",
            "Lecce                      6\n",
            "Terni                      6\n",
            "Potenza                    6\n",
            "Trieste                    5\n",
            "Catania                    5\n",
            "Benevento                  5\n",
            "Siracusa                   5\n",
            "                        ... \n",
            "Macerata                   2\n",
            "Barletta-Andria-Trani      2\n",
            "Udine                      2\n",
            "Ragusa                     2\n",
            "Crotone                    2\n",
            "Trento                     2\n",
            "Ascoli Piceno              2\n",
            "Nuoro                      1\n",
            "Chieti                     1\n",
            "Enna                       1\n",
            "Viterbo                    1\n",
            "Isernia                    1\n",
            "Bergamo                    1\n",
            "Piacenza                   1\n",
            "Teramo                     1\n",
            "Vicenza                    1\n",
            "Vercelli                   1\n",
            "Grosseto                   1\n",
            "Asti                       1\n",
            "Biella                     1\n",
            "Livorno                    1\n",
            "Sassari                    1\n",
            "Novara                     1\n",
            "Cuneo                      1\n",
            "Siena                      1\n",
            "Oristano                   1\n",
            "Prato                      1\n",
            "Verbano-Cusio-Ossola       1\n",
            "Carbonia Iglesias          1\n",
            "Pesaro e Urbino            1\n",
            "Name: Provincia di nascita del padre, Length: 88, dtype: int64\n"
          ],
          "name": "stdout"
        },
        {
          "output_type": "display_data",
          "data": {
            "image/png": "[encoded data removed]",
            "text/plain": [
              "<Figure size 432x288 with 1 Axes>"
            ]
          },
          "metadata": {
            "tags": []
          }
        },
        {
          "output_type": "stream",
          "text": [
            "italiana    939\n",
            "europea      41\n",
            "altra        35\n",
            "Name: Cittadinanza della madre, dtype: int64\n"
          ],
          "name": "stdout"
        },
        {
          "output_type": "display_data",
          "data": {
            "image/png": "[encoded data removed]",
            "text/plain": [
              "<Figure size 432x288 with 1 Axes>"
            ]
          },
          "metadata": {
            "tags": []
          }
        },
        {
          "output_type": "stream",
          "text": [
            "Sì           901\n",
            "no answer     78\n",
            "No            36\n",
            "Name: Tua madre è nata in Italia?, dtype: int64\n"
          ],
          "name": "stdout"
        },
        {
          "output_type": "display_data",
          "data": {
            "image/png": "[encoded data removed]",
            "text/plain": [
              "<Figure size 432x288 with 1 Axes>"
            ]
          },
          "metadata": {
            "tags": []
          }
        },
        {
          "output_type": "stream",
          "text": [
            "Roma                     342\n",
            "Varese                   124\n",
            "no answer                112\n",
            "Perugia                   64\n",
            "Napoli                    29\n",
            "Milano                    26\n",
            "Foggia                    26\n",
            "Bari                      14\n",
            "Cosenza                   12\n",
            "Como                      11\n",
            "Potenza                   10\n",
            "L'Aquila                  10\n",
            "Avellino                  10\n",
            "Caserta                   10\n",
            "Reggio Calabria            9\n",
            "Venezia                    9\n",
            "Salerno                    9\n",
            "Frosinone                  8\n",
            "Catanzaro                  8\n",
            "Palermo                    8\n",
            "Lecce                      7\n",
            "Genova                     7\n",
            "Padova                     6\n",
            "Ancona                     6\n",
            "Agrigento                  5\n",
            "Cagliari                   5\n",
            "Brindisi                   5\n",
            "Forlì-Cesena               4\n",
            "Latina                     4\n",
            "Terni                      4\n",
            "                        ... \n",
            "Sassari                    2\n",
            "Asti                       2\n",
            "Caltanissetta              2\n",
            "Rieti                      2\n",
            "Lucca                      2\n",
            "Cuneo                      2\n",
            "Ragusa                     2\n",
            "Pistoia                    1\n",
            "Pavia                      1\n",
            "Verona                     1\n",
            "Verbano-Cusio-Ossola       1\n",
            "Siracusa                   1\n",
            "Lodi                       1\n",
            "Chieti                     1\n",
            "Vercelli                   1\n",
            "Barletta-Andria-Trani      1\n",
            "Pordenone                  1\n",
            "Trieste                    1\n",
            "Oristano                   1\n",
            "Catania                    1\n",
            "Grosseto                   1\n",
            "Sondrio                    1\n",
            "Reggio nell'Emilia         1\n",
            "Alessandria                1\n",
            "Rovigo                     1\n",
            "Treviso                    1\n",
            "Parma                      1\n",
            "Ascoli Piceno              1\n",
            "Teramo                     1\n",
            "Pisa                       1\n",
            "Name: Provincia di nascita della madre, Length: 87, dtype: int64\n"
          ],
          "name": "stdout"
        },
        {
          "output_type": "display_data",
          "data": {
            "image/png": "[encoded data removed]",
            "text/plain": [
              "<Figure size 432x288 with 1 Axes>"
            ]
          },
          "metadata": {
            "tags": []
          }
        },
        {
          "output_type": "stream",
          "text": [
            "Sì    985\n",
            "No     30\n",
            "Name: Negli ultimi 12 mesi ti è mai capitato di cercare informazioni?, dtype: int64\n"
          ],
          "name": "stdout"
        },
        {
          "output_type": "display_data",
          "data": {
            "image/png": "[encoded data removed]",
            "text/plain": [
              "<Figure size 432x288 with 1 Axes>"
            ]
          },
          "metadata": {
            "tags": []
          }
        },
        {
          "output_type": "stream",
          "text": [
            "Tutti i giorni                   544\n",
            "Più di due volte a settimana     324\n",
            "Meno di due volte a settimana     94\n",
            "no answer                         30\n",
            "Meno di una volta al mese         23\n",
            "Name: Negli ultimi 12 mesi quante volte hai cercato informazioni?, dtype: int64\n"
          ],
          "name": "stdout"
        },
        {
          "output_type": "display_data",
          "data": {
            "image/png": "[encoded data removed]",
            "text/plain": [
              "<Figure size 432x288 with 1 Axes>"
            ]
          },
          "metadata": {
            "tags": []
          }
        },
        {
          "output_type": "stream",
          "text": [
            "raramente                         515\n",
            "mai                               257\n",
            "spesso                            187\n",
            "no answer                          30\n",
            "sempre                             19\n",
            "mai, raramente                      2\n",
            "mai, raramente, spesso, sempre      2\n",
            "mai, raramente, spesso              1\n",
            "mai, spesso                         1\n",
            "raramente, spesso                   1\n",
            "Name: Negli ultimi 12 mesi che strumenti hai utilizzato per cercare informazioni?  [Carta (es. giornali, riviste, ecc.)], dtype: int64\n"
          ],
          "name": "stdout"
        },
        {
          "output_type": "display_data",
          "data": {
            "image/png": "[encoded data removed]",
            "text/plain": [
              "<Figure size 432x288 with 1 Axes>"
            ]
          },
          "metadata": {
            "tags": []
          }
        },
        {
          "output_type": "stream",
          "text": [
            "spesso                            461\n",
            "raramente                         323\n",
            "mai                               108\n",
            "sempre                             85\n",
            "no answer                          30\n",
            "raramente, spesso                   3\n",
            "mai, raramente, spesso, sempre      2\n",
            "mai, raramente, spesso              1\n",
            "mai, spesso                         1\n",
            "spesso, sempre                      1\n",
            "Name: Negli ultimi 12 mesi che strumenti hai utilizzato per cercare informazioni?  [Tv (es. telegiornali, talkshow)], dtype: int64\n"
          ],
          "name": "stdout"
        },
        {
          "output_type": "display_data",
          "data": {
            "image/png": "[encoded data removed]",
            "text/plain": [
              "<Figure size 432x288 with 1 Axes>"
            ]
          },
          "metadata": {
            "tags": []
          }
        },
        {
          "output_type": "stream",
          "text": [
            "raramente                         391\n",
            "mai                               338\n",
            "spesso                            210\n",
            "sempre                             36\n",
            "no answer                          30\n",
            "mai, raramente                      5\n",
            "mai, raramente, spesso, sempre      2\n",
            "mai, raramente, spesso              1\n",
            "raramente, spesso                   1\n",
            "spesso, sempre                      1\n",
            "Name: Negli ultimi 12 mesi che strumenti hai utilizzato per cercare informazioni?  [Radio (es. giornaleradio)], dtype: int64\n"
          ],
          "name": "stdout"
        },
        {
          "output_type": "display_data",
          "data": {
            "image/png": "[encoded data removed]",
            "text/plain": [
              "<Figure size 432x288 with 1 Axes>"
            ]
          },
          "metadata": {
            "tags": []
          }
        },
        {
          "output_type": "stream",
          "text": [
            "spesso                            562\n",
            "raramente                         259\n",
            "sempre                            118\n",
            "mai                                30\n",
            "no answer                          30\n",
            "raramente, spesso                   7\n",
            "spesso, sempre                      3\n",
            "mai, spesso                         2\n",
            "mai, raramente, spesso, sempre      2\n",
            "mai, raramente, spesso              1\n",
            "mai, raramente                      1\n",
            "Name: Negli ultimi 12 mesi che strumenti hai utilizzato per cercare informazioni?  [Persone (amici, scuola, famiglia)], dtype: int64\n"
          ],
          "name": "stdout"
        },
        {
          "output_type": "display_data",
          "data": {
            "image/png": "[encoded data removed]",
            "text/plain": [
              "<Figure size 432x288 with 1 Axes>"
            ]
          },
          "metadata": {
            "tags": []
          }
        },
        {
          "output_type": "stream",
          "text": [
            "sempre                            621\n",
            "spesso                            328\n",
            "no answer                          30\n",
            "raramente                          19\n",
            "mai                                 7\n",
            "spesso, sempre                      4\n",
            "mai, raramente, spesso, sempre      2\n",
            "mai, raramente, spesso              1\n",
            "mai, spesso                         1\n",
            "mai, sempre                         1\n",
            "mai, spesso, sempre                 1\n",
            "Name: Negli ultimi 12 mesi che strumenti hai utilizzato per cercare informazioni?  [Internet], dtype: int64\n"
          ],
          "name": "stdout"
        },
        {
          "output_type": "display_data",
          "data": {
            "image/png": "[encoded data removed]",
            "text/plain": [
              "<Figure size 432x288 with 1 Axes>"
            ]
          },
          "metadata": {
            "tags": []
          }
        },
        {
          "output_type": "stream",
          "text": [
            "mai                               423\n",
            "raramente                         372\n",
            "spesso                            132\n",
            "sempre                             41\n",
            "no answer                          30\n",
            "mai, raramente                      7\n",
            "raramente, spesso                   6\n",
            "mai, raramente, spesso, sempre      2\n",
            "mai, raramente, spesso              1\n",
            "mai, spesso                         1\n",
            "Name: Negli ultimi 12 mesi che strumenti hai utilizzato per cercare informazioni?  [Altro], dtype: int64\n"
          ],
          "name": "stdout"
        },
        {
          "output_type": "display_data",
          "data": {
            "image/png": "[encoded data removed]",
            "text/plain": [
              "<Figure size 432x288 with 1 Axes>"
            ]
          },
          "metadata": {
            "tags": []
          }
        },
        {
          "output_type": "stream",
          "text": [
            "Internet     826\n",
            "Persone       52\n",
            "Carta         52\n",
            "Tv            35\n",
            "no answer     30\n",
            "Altro         11\n",
            "Radio          9\n",
            "Name: Tra gli strumenti che negli ultimi 12 mesi hai utilizzato per cercare informazioni, qual è quello che preferisci usare? , dtype: int64\n"
          ],
          "name": "stdout"
        },
        {
          "output_type": "display_data",
          "data": {
            "image/png": "[encoded data removed]",
            "text/plain": [
              "<Figure size 432x288 with 1 Axes>"
            ]
          },
          "metadata": {
            "tags": []
          }
        },
        {
          "output_type": "stream",
          "text": [
            "circa 30 minuti      431\n",
            "meno di 10 minuti    315\n",
            "circa 1 ora          157\n",
            "più di un'ora         82\n",
            "no answer             30\n",
            "Name: Negli ultimi 12 mesi, quando hai cercato notizie, quanto tempo hai impiegato mediamente al giorno nella ricerca?, dtype: int64\n"
          ],
          "name": "stdout"
        },
        {
          "output_type": "display_data",
          "data": {
            "image/png": "[encoded data removed]",
            "text/plain": [
              "<Figure size 432x288 with 1 Axes>"
            ]
          },
          "metadata": {
            "tags": []
          }
        },
        {
          "output_type": "stream",
          "text": [
            "terrorismo, violenze e/o abusi sulle donne, violenze e/o abusi sui minori             153\n",
            "altro                                                                                  83\n",
            "catastrofi naturali                                                                    75\n",
            "bullismo, violenze e/o abusi sulle donne, violenze e/o abusi sui minori                70\n",
            "terrorismo, violenze e/o abusi sui minori, catastrofi naturali                         67\n",
            "terrorismo                                                                             64\n",
            "terrorismo, catastrofi naturali                                                        61\n",
            "terrorismo, violenze e/o abusi sulle donne, catastrofi naturali                        60\n",
            "violenze e/o abusi sulle donne, violenze e/o abusi sui minori, catastrofi naturali     50\n",
            "violenze e/o abusi sulle donne, violenze e/o abusi sui minori                          41\n",
            "violenze e/o abusi sui minori                                                          31\n",
            "no answer                                                                              30\n",
            "terrorismo, bullismo, violenze e/o abusi sui minori                                    28\n",
            "violenze e/o abusi sulle donne                                                         25\n",
            "terrorismo, catastrofi naturali, altro                                                 22\n",
            "terrorismo, bullismo, violenze e/o abusi sulle donne                                   16\n",
            "terrorismo, violenze e/o abusi sulle donne                                             13\n",
            "violenze e/o abusi sulle donne, violenze e/o abusi sui minori, altro                   12\n",
            "bullismo, violenze e/o abusi sui minori, catastrofi naturali                           11\n",
            "terrorismo, bullismo, catastrofi naturali                                               9\n",
            "catastrofi naturali, altro                                                              9\n",
            "terrorismo, violenze e/o abusi sui minori                                               8\n",
            "violenze e/o abusi sulle donne, catastrofi naturali, altro                              7\n",
            "violenze e/o abusi sui minori, catastrofi naturali                                      7\n",
            "terrorismo, violenze e/o abusi sulle donne, altro                                       6\n",
            "terrorismo, bullismo                                                                    6\n",
            "bullismo, violenze e/o abusi sulle donne, catastrofi naturali                           6\n",
            "violenze e/o abusi sulle donne, catastrofi naturali                                     5\n",
            "bullismo, violenze e/o abusi sui minori                                                 5\n",
            "terrorismo, violenze e/o abusi sui minori, altro                                        5\n",
            "bullismo                                                                                5\n",
            "violenze e/o abusi sui minori, catastrofi naturali, altro                               4\n",
            "terrorismo, bullismo, altro                                                             4\n",
            "terrorismo, altro                                                                       4\n",
            "bullismo, violenze e/o abusi sui minori, altro                                          3\n",
            "bullismo, catastrofi naturali, altro                                                    3\n",
            "bullismo, catastrofi naturali                                                           3\n",
            "violenze e/o abusi sulle donne, altro                                                   2\n",
            "violenze e/o abusi sui minori, altro                                                    1\n",
            "bullismo, violenze e/o abusi sulle donne                                                1\n",
            "Name: Quali notizie ti fanno paura?, dtype: int64\n"
          ],
          "name": "stdout"
        },
        {
          "output_type": "display_data",
          "data": {
            "image/png": "[encoded data removed]",
            "text/plain": [
              "<Figure size 432x288 with 1 Axes>"
            ]
          },
          "metadata": {
            "tags": []
          }
        },
        {
          "output_type": "stream",
          "text": [
            "settimanalmente     379\n",
            "mensilmente         272\n",
            "giornalmente        172\n",
            "praticamente mai    162\n",
            "no answer            30\n",
            "Name: Con che frequenza ti informi su argomenti riguardanti la scienza?, dtype: int64\n"
          ],
          "name": "stdout"
        },
        {
          "output_type": "display_data",
          "data": {
            "image/png": "[encoded data removed]",
            "text/plain": [
              "<Figure size 432x288 with 1 Axes>"
            ]
          },
          "metadata": {
            "tags": []
          }
        },
        {
          "output_type": "stream",
          "text": [
            "no answer                                                          192\n",
            "astronomia, curiosità scientifiche, tecnologia, innovazione         42\n",
            "medicina, ecologia/clima, tecnologia, innovazione                   39\n",
            "medicina, curiosità scientifiche, tecnologia, innovazione           38\n",
            "ecologia/clima, curiosità scientifiche, tecnologia, innovazione     35\n",
            "tecnologia, innovazione                                             21\n",
            "medicina, ecologia/clima, curiosità scientifiche                    21\n",
            "ecologia/clima, astronomia, tecnologia, innovazione                 19\n",
            "ecologia/clima, astronomia, curiosità scientifiche                  19\n",
            "astronomia                                                          16\n",
            "medicina, curiosità scientifiche, biologia                          16\n",
            "curiosità scientifiche                                              16\n",
            "medicina                                                            15\n",
            "ecologia/clima, curiosità scientifiche, biologia                    15\n",
            "medicina, ecologia/clima, biologia                                  13\n",
            "medicina, astronomia, tecnologia, innovazione                       12\n",
            "matematica, curiosità scientifiche, tecnologia, innovazione         12\n",
            "medicina, astronomia, curiosità scientifiche                        11\n",
            "ecologia/clima                                                      11\n",
            "medicina, ecologia/clima, astronomia                                10\n",
            "matematica, fisica, tecnologia, innovazione                         10\n",
            "astronomia, tecnologia, innovazione, biologia                        9\n",
            "ecologia/clima, tecnologia, innovazione, biologia                    9\n",
            "astronomia, fisica, tecnologia, innovazione                          9\n",
            "medicina, tecnologia, innovazione                                    8\n",
            "astronomia, curiosità scientifiche, biologia                         8\n",
            "curiosità scientifiche, tecnologia, innovazione                      8\n",
            "matematica, astronomia, curiosità scientifiche                       7\n",
            "matematica, curiosità scientifiche, fisica                           7\n",
            "matematica, fisica, chimica                                          7\n",
            "                                                                  ... \n",
            "medicina, nucleare, biologia                                         1\n",
            "ecologia/clima, altro                                                1\n",
            "chimica, biologia                                                    1\n",
            "tecnologia, innovazione, altro                                       1\n",
            "matematica, altro                                                    1\n",
            "astronomia, nucleare                                                 1\n",
            "ecologia/clima, curiosità scientifiche, nucleare                     1\n",
            "ecologia/clima, chimica, nucleare                                    1\n",
            "curiosità scientifiche, fisica, biologia                             1\n",
            "matematica, ecologia/clima                                           1\n",
            "tecnologia, innovazione, biologia                                    1\n",
            "chimica, tecnologia, innovazione, biologia                           1\n",
            "medicina, tecnologia, innovazione, nucleare                          1\n",
            "medicina, fisica, chimica                                            1\n",
            "matematica, medicina, altro                                          1\n",
            "matematica, ecologia/clima, chimica                                  1\n",
            "medicina, chimica                                                    1\n",
            "chimica                                                              1\n",
            "chimica, tecnologia, innovazione, nucleare                           1\n",
            "fisica, tecnologia, innovazione, altro                               1\n",
            "matematica, curiosità scientifiche, nucleare                         1\n",
            "matematica, fisica, nucleare                                         1\n",
            "matematica, medicina, chimica                                        1\n",
            "fisica, tecnologia, innovazione                                      1\n",
            "fisica, tecnologia, innovazione, biologia                            1\n",
            "nucleare, altro                                                      1\n",
            "matematica, chimica, biologia                                        1\n",
            "ecologia/clima, astronomia, nucleare                                 1\n",
            "ecologia/clima, curiosità scientifiche, chimica                      1\n",
            "tecnologia, innovazione, nucleare, biologia                          1\n",
            "Name: Quali argomenti scientifici ti attirano di più, Length: 163, dtype: int64\n"
          ],
          "name": "stdout"
        },
        {
          "output_type": "display_data",
          "data": {
            "image/png": "[encoded data removed]",
            "text/plain": [
              "<Figure size 432x288 with 1 Axes>"
            ]
          },
          "metadata": {
            "tags": []
          }
        },
        {
          "output_type": "stream",
          "text": [
            "commenti e discussioni riguardo la notizia                                                                                                                                                                                                                       178\n",
            "i video                                                                                                                                                                                                                                                          108\n",
            "non so                                                                                                                                                                                                                                                            59\n",
            "i titoli delle testate giornalistiche                                                                                                                                                                                                                             59\n",
            "i video, commenti e discussioni riguardo la notizia                                                                                                                                                                                                               57\n",
            "le immagini, i video, commenti e discussioni riguardo la notizia                                                                                                                                                                                                  51\n",
            "il fatto che fosse molto condivisa                                                                                                                                                                                                                                49\n",
            "le immagini                                                                                                                                                                                                                                                       43\n",
            "le immagini, i video                                                                                                                                                                                                                                              41\n",
            "i titoli delle testate giornalistiche, commenti e discussioni riguardo la notizia                                                                                                                                                                                 35\n",
            "no answer                                                                                                                                                                                                                                                         30\n",
            "il fatto che fosse molto condivisa, commenti e discussioni riguardo la notizia                                                                                                                                                                                    27\n",
            "i titoli delle testate giornalistiche, i video, commenti e discussioni riguardo la notizia                                                                                                                                                                        27\n",
            "non sapevo della strage in discoteca a Corinaldo al concerto di Sfera Ebbasta                                                                                                                                                                                     24\n",
            "le immagini, commenti e discussioni riguardo la notizia                                                                                                                                                                                                           23\n",
            "i titoli delle testate giornalistiche, le immagini, commenti e discussioni riguardo la notizia                                                                                                                                                                    18\n",
            "i video, il fatto che fosse molto condivisa, commenti e discussioni riguardo la notizia                                                                                                                                                                           16\n",
            "i titoli delle testate giornalistiche, le immagini, i video                                                                                                                                                                                                       15\n",
            "i titoli delle testate giornalistiche, i video                                                                                                                                                                                                                    15\n",
            "i titoli delle testate giornalistiche, le immagini                                                                                                                                                                                                                14\n",
            "i commenti dei tuoi amici                                                                                                                                                                                                                                         12\n",
            "i video, il fatto che fosse molto condivisa                                                                                                                                                                                                                       11\n",
            "i titoli delle testate giornalistiche, il fatto che fosse molto condivisa, commenti e discussioni riguardo la notizia                                                                                                                                             10\n",
            "le immagini, i video, il fatto che fosse molto condivisa                                                                                                                                                                                                           9\n",
            "i titoli delle testate giornalistiche, le immagini, i video, commenti e discussioni riguardo la notizia                                                                                                                                                            8\n",
            "le immagini, il fatto che fosse molto condivisa, commenti e discussioni riguardo la notizia                                                                                                                                                                        5\n",
            "i titoli delle testate giornalistiche, i video, il fatto che fosse molto condivisa                                                                                                                                                                                 5\n",
            "i video, i commenti dei tuoi amici                                                                                                                                                                                                                                 4\n",
            "i titoli delle testate giornalistiche, il fatto che fosse molto condivisa                                                                                                                                                                                          4\n",
            "i titoli delle testate giornalistiche, le immagini, i video, il fatto che fosse molto condivisa, commenti e discussioni riguardo la notizia, i commenti dei tuoi amici, non so, non sapevo della strage in discoteca a Corinaldo al concerto di Sfera Ebbasta      4\n",
            "                                                                                                                                                                                                                                                                ... \n",
            "le immagini, il fatto che fosse molto condivisa                                                                                                                                                                                                                    3\n",
            "i titoli delle testate giornalistiche, i commenti dei tuoi amici                                                                                                                                                                                                   3\n",
            "le immagini, i video, i commenti dei tuoi amici                                                                                                                                                                                                                    3\n",
            "i titoli delle testate giornalistiche, commenti e discussioni riguardo la notizia, i commenti dei tuoi amici                                                                                                                                                       3\n",
            "le immagini, i commenti dei tuoi amici                                                                                                                                                                                                                             3\n",
            "le immagini, i video, il fatto che fosse molto condivisa, commenti e discussioni riguardo la notizia                                                                                                                                                               3\n",
            "i titoli delle testate giornalistiche, le immagini, i video, il fatto che fosse molto condivisa                                                                                                                                                                    2\n",
            "i titoli delle testate giornalistiche, le immagini, i video, il fatto che fosse molto condivisa, commenti e discussioni riguardo la notizia                                                                                                                        2\n",
            "commenti e discussioni riguardo la notizia, i commenti dei tuoi amici                                                                                                                                                                                              2\n",
            "commenti e discussioni riguardo la notizia, non so                                                                                                                                                                                                                 2\n",
            "il fatto che fosse molto condivisa, i commenti dei tuoi amici                                                                                                                                                                                                      2\n",
            "le immagini, i video, commenti e discussioni riguardo la notizia, i commenti dei tuoi amici                                                                                                                                                                        2\n",
            "le immagini, il fatto che fosse molto condivisa, i commenti dei tuoi amici                                                                                                                                                                                         1\n",
            "i video, il fatto che fosse molto condivisa, commenti e discussioni riguardo la notizia, i commenti dei tuoi amici                                                                                                                                                 1\n",
            "i titoli delle testate giornalistiche, i video, i commenti dei tuoi amici                                                                                                                                                                                          1\n",
            "i titoli delle testate giornalistiche, il fatto che fosse molto condivisa, non so                                                                                                                                                                                  1\n",
            "i video, commenti e discussioni riguardo la notizia, non so                                                                                                                                                                                                        1\n",
            "i commenti dei tuoi amici, non sapevo della strage in discoteca a Corinaldo al concerto di Sfera Ebbasta                                                                                                                                                           1\n",
            "le immagini, i video, il fatto che fosse molto condivisa, commenti e discussioni riguardo la notizia, i commenti dei tuoi amici                                                                                                                                    1\n",
            "i titoli delle testate giornalistiche, commenti e discussioni riguardo la notizia, non so                                                                                                                                                                          1\n",
            "i video, non so                                                                                                                                                                                                                                                    1\n",
            "i titoli delle testate giornalistiche, le immagini, i video, i commenti dei tuoi amici                                                                                                                                                                             1\n",
            "il fatto che fosse molto condivisa, commenti e discussioni riguardo la notizia, i commenti dei tuoi amici                                                                                                                                                          1\n",
            "le immagini, i video, il fatto che fosse molto condivisa, non so, non sapevo della strage in discoteca a Corinaldo al concerto di Sfera Ebbasta                                                                                                                    1\n",
            "i titoli delle testate giornalistiche, le immagini, il fatto che fosse molto condivisa, commenti e discussioni riguardo la notizia                                                                                                                                 1\n",
            "i titoli delle testate giornalistiche, le immagini, i video, il fatto che fosse molto condivisa, commenti e discussioni riguardo la notizia, i commenti dei tuoi amici                                                                                             1\n",
            "i titoli delle testate giornalistiche, le immagini, il fatto che fosse molto condivisa                                                                                                                                                                             1\n",
            "i titoli delle testate giornalistiche, i video, commenti e discussioni riguardo la notizia, i commenti dei tuoi amici                                                                                                                                              1\n",
            "i titoli delle testate giornalistiche, i video, non sapevo della strage in discoteca a Corinaldo al concerto di Sfera Ebbasta                                                                                                                                      1\n",
            "le immagini, i video, il fatto che fosse molto condivisa, i commenti dei tuoi amici                                                                                                                                                                                1\n",
            "Name: Quando hai saputo della strage in discoteca a Corinaldo al concerto di Sfera Ebbasta, cosa ha catturato la tua attenzione?, Length: 62, dtype: int64\n"
          ],
          "name": "stdout"
        },
        {
          "output_type": "display_data",
          "data": {
            "image/png": "[encoded data removed]",
            "text/plain": [
              "<Figure size 432x288 with 1 Axes>"
            ]
          },
          "metadata": {
            "tags": []
          }
        },
        {
          "output_type": "stream",
          "text": [
            "dalla tv                                                                                                                                                            542\n",
            "da internet                                                                                                                                                          95\n",
            "da internet, dalla tv                                                                                                                                                90\n",
            "dalla tv, da una persona che ne parlava                                                                                                                              42\n",
            "dalla radio                                                                                                                                                          41\n",
            "da una persona che ne parlava                                                                                                                                        35\n",
            "no answer                                                                                                                                                            30\n",
            "dalla tv, dalla radio                                                                                                                                                23\n",
            "da internet, dalla tv, da una persona che ne parlava                                                                                                                 20\n",
            "da internet, dalla tv, dalla radio                                                                                                                                   18\n",
            "da internet, da una persona che ne parlava                                                                                                                           15\n",
            "da internet, da un giornale o rivista cartacea, dalla tv                                                                                                              7\n",
            "da internet, da un giornale o rivista cartacea, dalla tv, dalla radio                                                                                                 6\n",
            "Non sapevo della caduta del ponte Morandi a Genova                                                                                                                    6\n",
            "da un giornale o rivista cartacea                                                                                                                                     6\n",
            "da un giornale o rivista cartacea, dalla tv                                                                                                                           5\n",
            "da internet, dalla radio                                                                                                                                              5\n",
            "da un giornale o rivista cartacea, dalla tv, dalla radio                                                                                                              5\n",
            "da internet, dalla tv, dalla radio, da una persona che ne parlava                                                                                                     4\n",
            "non so                                                                                                                                                                4\n",
            "dalla tv, dalla radio, da una persona che ne parlava                                                                                                                  3\n",
            "da internet, da un giornale o rivista cartacea, dalla tv, da una persona che ne parlava                                                                               3\n",
            "da internet, da un giornale o rivista cartacea                                                                                                                        3\n",
            "da internet, da un giornale o rivista cartacea, dalla tv, dalla radio, da una persona che ne parlava, non so, Non sapevo della caduta del ponte Morandi a Genova      2\n",
            "da un giornale o rivista online, dalla tv                                                                                                                             1\n",
            "dalla radio, da una persona che ne parlava                                                                                                                            1\n",
            "da un social, da un'app di informazione, dalla tv                                                                                                                     1\n",
            "da internet, da un giornale o rivista cartacea, da una persona che ne parlava                                                                                         1\n",
            "da internet, da un giornale o rivista cartacea, dalla tv, dalla radio, da una persona che ne parlava                                                                  1\n",
            "Name: Da dove hai appreso della caduta del ponte Morandi a Genova?, dtype: int64\n"
          ],
          "name": "stdout"
        },
        {
          "output_type": "display_data",
          "data": {
            "image/png": "[encoded data removed]",
            "text/plain": [
              "<Figure size 432x288 with 1 Axes>"
            ]
          },
          "metadata": {
            "tags": []
          }
        },
        {
          "output_type": "stream",
          "text": [
            "Sì           974\n",
            "no answer     30\n",
            "No            11\n",
            "Name: Hai mai usato internet?, dtype: int64\n"
          ],
          "name": "stdout"
        },
        {
          "output_type": "display_data",
          "data": {
            "image/png": "[encoded data removed]",
            "text/plain": [
              "<Figure size 432x288 with 1 Axes>"
            ]
          },
          "metadata": {
            "tags": []
          }
        },
        {
          "output_type": "stream",
          "text": [
            "spesso                            428\n",
            "raramente                         300\n",
            "sempre                            140\n",
            "mai                               109\n",
            "no answer                          31\n",
            "mai, raramente                      2\n",
            "mai, raramente, spesso, sempre      2\n",
            "mai, spesso                         1\n",
            "raramente, spesso, sempre           1\n",
            "spesso, sempre                      1\n",
            "Name: Sul web, dove prendi le informazioni? [testate giornalistiche online], dtype: int64\n"
          ],
          "name": "stdout"
        },
        {
          "output_type": "display_data",
          "data": {
            "image/png": "[encoded data removed]",
            "text/plain": [
              "<Figure size 432x288 with 1 Axes>"
            ]
          },
          "metadata": {
            "tags": []
          }
        },
        {
          "output_type": "stream",
          "text": [
            "spesso                            392\n",
            "raramente                         267\n",
            "sempre                            175\n",
            "mai                               141\n",
            "no answer                          31\n",
            "spesso, sempre                      3\n",
            "mai, raramente                      2\n",
            "mai, raramente, spesso, sempre      2\n",
            "raramente, spesso, sempre           1\n",
            "raramente, spesso                   1\n",
            "Name: Sul web, dove prendi le informazioni? [social], dtype: int64\n"
          ],
          "name": "stdout"
        },
        {
          "output_type": "display_data",
          "data": {
            "image/png": "[encoded data removed]",
            "text/plain": [
              "<Figure size 432x288 with 1 Axes>"
            ]
          },
          "metadata": {
            "tags": []
          }
        },
        {
          "output_type": "stream",
          "text": [
            "spesso                            455\n",
            "sempre                            452\n",
            "raramente                          49\n",
            "no answer                          31\n",
            "mai                                18\n",
            "spesso, sempre                      5\n",
            "mai, raramente, spesso, sempre      2\n",
            "raramente, sempre                   1\n",
            "raramente, spesso, sempre           1\n",
            "raramente, spesso                   1\n",
            "Name: Sul web, dove prendi le informazioni? [motori di ricerca (es google, safari, ping], dtype: int64\n"
          ],
          "name": "stdout"
        },
        {
          "output_type": "display_data",
          "data": {
            "image/png": "[encoded data removed]",
            "text/plain": [
              "<Figure size 432x288 with 1 Axes>"
            ]
          },
          "metadata": {
            "tags": []
          }
        },
        {
          "output_type": "stream",
          "text": [
            "spesso                            385\n",
            "raramente                         312\n",
            "sempre                            147\n",
            "mai                               132\n",
            "no answer                          31\n",
            "mai, raramente, spesso, sempre      2\n",
            "spesso, sempre                      2\n",
            "mai, spesso                         1\n",
            "raramente, spesso, sempre           1\n",
            "raramente, spesso                   1\n",
            "mai, raramente                      1\n",
            "Name: Sul web, dove prendi le informazioni? [siti specifici che conosco], dtype: int64\n"
          ],
          "name": "stdout"
        },
        {
          "output_type": "display_data",
          "data": {
            "image/png": "[encoded data removed]",
            "text/plain": [
              "<Figure size 432x288 with 1 Axes>"
            ]
          },
          "metadata": {
            "tags": []
          }
        },
        {
          "output_type": "stream",
          "text": [
            "mai                               438\n",
            "raramente                         321\n",
            "spesso                            165\n",
            "sempre                             46\n",
            "no answer                          31\n",
            "mai, raramente                      8\n",
            "mai, raramente, spesso, sempre      2\n",
            "mai, spesso                         1\n",
            "mai, sempre                         1\n",
            "raramente, spesso, sempre           1\n",
            "raramente, spesso                   1\n",
            "Name: Sul web, dove prendi le informazioni? [app dedicate], dtype: int64\n"
          ],
          "name": "stdout"
        },
        {
          "output_type": "display_data",
          "data": {
            "image/png": "[encoded data removed]",
            "text/plain": [
              "<Figure size 432x288 with 1 Axes>"
            ]
          },
          "metadata": {
            "tags": []
          }
        },
        {
          "output_type": "stream",
          "text": [
            "mai                               596\n",
            "raramente                         245\n",
            "spesso                            103\n",
            "no answer                          39\n",
            "sempre                             23\n",
            "mai, raramente                      5\n",
            "raramente, spesso                   2\n",
            "mai, raramente, spesso, sempre      2\n",
            "Name: Sul web, dove prendi le informazioni? [newsletter via email], dtype: int64\n"
          ],
          "name": "stdout"
        },
        {
          "output_type": "display_data",
          "data": {
            "image/png": "[encoded data removed]",
            "text/plain": [
              "<Figure size 432x288 with 1 Axes>"
            ]
          },
          "metadata": {
            "tags": []
          }
        },
        {
          "output_type": "stream",
          "text": [
            "Instagram, Youtube                                                206\n",
            "Altro                                                             109\n",
            "Instagram                                                         103\n",
            "Youtube                                                            72\n",
            "Instagram, Youtube, Altro                                          61\n",
            "Facebook                                                           55\n",
            "Instagram, Facebook, Youtube                                       54\n",
            "Facebook, Youtube                                                  44\n",
            "Instagram, Facebook                                                43\n",
            "Instagram, Altro                                                   33\n",
            "Youtube, Altro                                                     32\n",
            "no answer                                                          31\n",
            "Twitter                                                            11\n",
            "Instagram, Facebook, Twitter                                       11\n",
            "Facebook, Youtube, Altro                                           11\n",
            "Facebook, Twitter                                                  11\n",
            "Instagram, Twitter, Youtube                                        11\n",
            "Instagram, Facebook, Youtube, Altro                                10\n",
            "Facebook, Altro                                                    10\n",
            "Instagram, Twitter                                                  9\n",
            "Instagram, Facebook, Twitter, Youtube                               8\n",
            "Twitter, Youtube                                                    8\n",
            "Facebook, Twitter, Altro                                            6\n",
            "Facebook, Twitter, Youtube                                          6\n",
            "Instagram, Facebook, Altro                                          6\n",
            "Instagram, Reddit, Youtube                                          5\n",
            "Reddit                                                              4\n",
            "Instagram, Snapchat, Youtube                                        4\n",
            "Instagram, Twitter, Altro                                           3\n",
            "Instagram, Twitter, Youtube, Altro                                  3\n",
            "Snapchat, Youtube                                                   3\n",
            "Twitter, Youtube, Altro                                             3\n",
            "Instagram, Facebook, Twitter, Reddit, Snapchat, Youtube, Altro      3\n",
            "Instagram, Snapchat                                                 2\n",
            "Instagram, Twitter, Reddit                                          2\n",
            "Reddit, Youtube                                                     2\n",
            "Facebook, Reddit, Youtube                                           2\n",
            "Instagram, Twitter, Reddit, Youtube                                 1\n",
            "Instagram, Facebook, Twitter, Youtube, Altro                        1\n",
            "Twitter, Reddit, Altro                                              1\n",
            "Instagram, Twitter, Snapchat, Youtube                               1\n",
            "Reddit, Altro                                                       1\n",
            "Snapchat, Youtube, Altro                                            1\n",
            "Instagram, Snapchat, Youtube, Altro                                 1\n",
            "Instagram, Facebook, Snapchat, Youtube                              1\n",
            "Instagram, Reddit                                                   1\n",
            "Facebook, Twitter, Reddit                                           1\n",
            "Instagram, Facebook, Twitter, Reddit, Youtube                       1\n",
            "Instagram, Facebook, Twitter, Reddit, Snapchat, Youtube             1\n",
            "Snapchat                                                            1\n",
            "Twitter, Reddit, Youtube                                            1\n",
            "Facebook, Reddit                                                    1\n",
            "Twitter, Reddit                                                     1\n",
            "Instagram, Reddit, Youtube, Altro                                   1\n",
            "Instagram, Twitter, Reddit, Youtube, Altro                          1\n",
            "Name: Quali social usi di più per informarti?, dtype: int64\n"
          ],
          "name": "stdout"
        },
        {
          "output_type": "display_data",
          "data": {
            "image/png": "[encoded data removed]",
            "text/plain": [
              "<Figure size 432x288 with 1 Axes>"
            ]
          },
          "metadata": {
            "tags": []
          }
        },
        {
          "output_type": "stream",
          "text": [
            "Instagram    400\n",
            "Youtube      227\n",
            "Altro        152\n",
            "Facebook     151\n",
            "Twitter       41\n",
            "no answer     31\n",
            "Reddit        10\n",
            "Snapchat       3\n",
            "Name: Tra i social che usi di più anche per informati, quale preferisci?, dtype: int64\n"
          ],
          "name": "stdout"
        },
        {
          "output_type": "display_data",
          "data": {
            "image/png": "[encoded data removed]",
            "text/plain": [
              "<Figure size 432x288 with 1 Axes>"
            ]
          },
          "metadata": {
            "tags": []
          }
        },
        {
          "output_type": "stream",
          "text": [
            "no answer                                                                                                                                                                                                                      31\n",
            "sport, film - serie tv, musica                                                                                                                                                                                                  9\n",
            "altro                                                                                                                                                                                                                           8\n",
            "gossip, Notizie/cronaca/attualità, film - serie tv, musica, cultura (arte, cinema, teatro, storia, letteratura, libri)                                                                                                          7\n",
            "gossip, shopping online, moda, film - serie tv, musica                                                                                                                                                                          7\n",
            "musica                                                                                                                                                                                                                          7\n",
            "Notizie/cronaca/attualità, sport, scienza (scoperte scientifiche, innovazioni, approfondimenti), film - serie tv, musica                                                                                                        7\n",
            "sport                                                                                                                                                                                                                           6\n",
            "Notizie/cronaca/attualità, scienza (scoperte scientifiche, innovazioni, approfondimenti), tecnologia (software, hardware, internet, elettronica, giochi)                                                                        5\n",
            "Notizie/cronaca/attualità, film - serie tv, musica                                                                                                                                                                              5\n",
            "Notizie/cronaca/attualità, scienza (scoperte scientifiche, innovazioni, approfondimenti), musica, ambiente/ecologia/sostenibilità, cultura (arte, cinema, teatro, storia, letteratura, libri)                                   5\n",
            "Notizie/cronaca/attualità, sport                                                                                                                                                                                                4\n",
            "Notizie/cronaca/attualità, scienza (scoperte scientifiche, innovazioni, approfondimenti), film - serie tv, musica, cultura (arte, cinema, teatro, storia, letteratura, libri)                                                   4\n",
            "Notizie/cronaca/attualità, cultura (arte, cinema, teatro, storia, letteratura, libri), tecnologia (software, hardware, internet, elettronica, giochi)                                                                           4\n",
            "Notizie/cronaca/attualità, politica, film - serie tv, musica, cultura (arte, cinema, teatro, storia, letteratura, libri)                                                                                                        4\n",
            "Notizie/cronaca/attualità, scienza (scoperte scientifiche, innovazioni, approfondimenti), film - serie tv, ambiente/ecologia/sostenibilità, cultura (arte, cinema, teatro, storia, letteratura, libri)                          4\n",
            "Notizie/cronaca/attualità, sport, scienza (scoperte scientifiche, innovazioni, approfondimenti), tecnologia (software, hardware, internet, elettronica, giochi)                                                                 4\n",
            "Notizie/cronaca/attualità, politica, scienza (scoperte scientifiche, innovazioni, approfondimenti), ambiente/ecologia/sostenibilità, cultura (arte, cinema, teatro, storia, letteratura, libri)                                 4\n",
            "Notizie/cronaca/attualità, scienza (scoperte scientifiche, innovazioni, approfondimenti), ambiente/ecologia/sostenibilità, salute, cultura (arte, cinema, teatro, storia, letteratura, libri)                                   4\n",
            "contenuti per adulti (sesso)                                                                                                                                                                                                    4\n",
            "film - serie tv                                                                                                                                                                                                                 4\n",
            "Notizie/cronaca/attualità, sport, scienza (scoperte scientifiche, innovazioni, approfondimenti), cultura (arte, cinema, teatro, storia, letteratura, libri), tecnologia (software, hardware, internet, elettronica, giochi)     3\n",
            "Notizie/cronaca/attualità, shopping online, film - serie tv, tecnologia (software, hardware, internet, elettronica, giochi)                                                                                                     3\n",
            "Notizie/cronaca/attualità, shopping online, sport, cibo, film - serie tv                                                                                                                                                        3\n",
            "gossip, shopping online, moda                                                                                                                                                                                                   3\n",
            "gossip, Notizie/cronaca/attualità, moda, film - serie tv, musica                                                                                                                                                                3\n",
            "tecnologia (software, hardware, internet, elettronica, giochi)                                                                                                                                                                  3\n",
            "scienza (scoperte scientifiche, innovazioni, approfondimenti), ambiente/ecologia/sostenibilità, cultura (arte, cinema, teatro, storia, letteratura, libri)                                                                      3\n",
            "Notizie/cronaca/attualità, politica, film - serie tv, ambiente/ecologia/sostenibilità, cultura (arte, cinema, teatro, storia, letteratura, libri)                                                                               3\n",
            "Notizie/cronaca/attualità, shopping online, salute                                                                                                                                                                              3\n",
            "                                                                                                                                                                                                                               ..\n",
            "Notizie/cronaca/attualità, politica, religioni, associazioni religiose, violenza, altro                                                                                                                                         1\n",
            "Notizie/cronaca/attualità, scienza (scoperte scientifiche, innovazioni, approfondimenti), cibo                                                                                                                                  1\n",
            "gossip, Notizie/cronaca/attualità, sport, scienza (scoperte scientifiche, innovazioni, approfondimenti), ambiente/ecologia/sostenibilità                                                                                        1\n",
            "shopping online, scienza (scoperte scientifiche, innovazioni, approfondimenti), moda, musica, cultura (arte, cinema, teatro, storia, letteratura, libri)                                                                        1\n",
            "gossip, film - serie tv, cultura (arte, cinema, teatro, storia, letteratura, libri), satira, altro                                                                                                                              1\n",
            "cibo, musica, salute, cultura (arte, cinema, teatro, storia, letteratura, libri), tecnologia (software, hardware, internet, elettronica, giochi)                                                                                1\n",
            "gossip, politica, moda                                                                                                                                                                                                          1\n",
            "Notizie/cronaca/attualità, shopping online, sport, tecnologia (software, hardware, internet, elettronica, giochi)                                                                                                               1\n",
            "scienza (scoperte scientifiche, innovazioni, approfondimenti), ambiente/ecologia/sostenibilità, salute                                                                                                                          1\n",
            "cibo, film - serie tv, musica, ambiente/ecologia/sostenibilità, cultura (arte, cinema, teatro, storia, letteratura, libri)                                                                                                      1\n",
            "scienza (scoperte scientifiche, innovazioni, approfondimenti), musica, altro                                                                                                                                                    1\n",
            "sport, film - serie tv, ricerca di lavoro                                                                                                                                                                                       1\n",
            "Notizie/cronaca/attualità, scienza (scoperte scientifiche, innovazioni, approfondimenti), cibo, cultura (arte, cinema, teatro, storia, letteratura, libri)                                                                      1\n",
            "gossip, Notizie/cronaca/attualità, moda, film - serie tv                                                                                                                                                                        1\n",
            "Notizie/cronaca/attualità, cibo, salute, cultura (arte, cinema, teatro, storia, letteratura, libri)                                                                                                                             1\n",
            "Notizie/cronaca/attualità, scienza (scoperte scientifiche, innovazioni, approfondimenti), moda, film - serie tv, musica                                                                                                         1\n",
            "shopping online, scienza (scoperte scientifiche, innovazioni, approfondimenti), film - serie tv, salute                                                                                                                         1\n",
            "shopping online, scienza (scoperte scientifiche, innovazioni, approfondimenti), moda, film - serie tv, salute                                                                                                                   1\n",
            "politica, scienza (scoperte scientifiche, innovazioni, approfondimenti), musica, satira, tecnologia (software, hardware, internet, elettronica, giochi)                                                                         1\n",
            "Notizie/cronaca/attualità                                                                                                                                                                                                       1\n",
            "gossip, Notizie/cronaca/attualità, scienza (scoperte scientifiche, innovazioni, approfondimenti), cibo, ambiente/ecologia/sostenibilità                                                                                         1\n",
            "film - serie tv, musica, salute, cultura (arte, cinema, teatro, storia, letteratura, libri), ricerca di lavoro                                                                                                                  1\n",
            "Notizie/cronaca/attualità, scienza (scoperte scientifiche, innovazioni, approfondimenti), cibo, salute                                                                                                                          1\n",
            "Notizie/cronaca/attualità, sport, politica, scienza (scoperte scientifiche, innovazioni, approfondimenti)                                                                                                                       1\n",
            "scienza (scoperte scientifiche, innovazioni, approfondimenti), film - serie tv, cultura (arte, cinema, teatro, storia, letteratura, libri), altro                                                                               1\n",
            "violenza, espressioni volgari, oscenità                                                                                                                                                                                         1\n",
            "Notizie/cronaca/attualità, sport, film - serie tv, ambiente/ecologia/sostenibilità, cultura (arte, cinema, teatro, storia, letteratura, libri)                                                                                  1\n",
            "Notizie/cronaca/attualità, shopping online, film - serie tv, ambiente/ecologia/sostenibilità                                                                                                                                    1\n",
            "Notizie/cronaca/attualità, salute, cultura (arte, cinema, teatro, storia, letteratura, libri), economia, tecnologia (software, hardware, internet, elettronica, giochi)                                                         1\n",
            "shopping online, moda, film - serie tv, musica, tecnologia (software, hardware, internet, elettronica, giochi)                                                                                                                  1\n",
            "Name: Cosa cerchi di più su internet?, Length: 742, dtype: int64\n"
          ],
          "name": "stdout"
        },
        {
          "output_type": "display_data",
          "data": {
            "image/png": "[encoded data removed]",
            "text/plain": [
              "<Figure size 432x288 with 1 Axes>"
            ]
          },
          "metadata": {
            "tags": []
          }
        },
        {
          "output_type": "stream",
          "text": [
            "foto              268\n",
            "news              226\n",
            "memes             207\n",
            "video             128\n",
            "profili vari      118\n",
            "no answer          32\n",
            "like/followers     28\n",
            "classifiche         8\n",
            "Name: Qual è la prima cosa che vai a vedere sui social?, dtype: int64\n"
          ],
          "name": "stdout"
        },
        {
          "output_type": "display_data",
          "data": {
            "image/png": "[encoded data removed]",
            "text/plain": [
              "<Figure size 432x288 with 1 Axes>"
            ]
          },
          "metadata": {
            "tags": []
          }
        },
        {
          "output_type": "stream",
          "text": [
            "Non ne ricevo                                                                                                                                                               115\n",
            "Da un motore di ricerca online (es google, bing, safari ...)                                                                                                                114\n",
            "Da un'app di news (es google news, apple news...)                                                                                                                            88\n",
            "Dalle Home dei social                                                                                                                                                        60\n",
            "Dai video proposti su Youtube                                                                                                                                                39\n",
            "no answer                                                                                                                                                                    31\n",
            "Da un'app di messaggistica istantanea (WhatsApp, Messanger...)                                                                                                               31\n",
            "Da un motore di ricerca online (es google, bing, safari ...), Dai video proposti su Youtube                                                                                  30\n",
            "Da un'app di news (es google news, apple news...), Da un motore di ricerca online (es google, bing, safari ...), Dai video proposti su Youtube                               28\n",
            "Da newsletter per posta elettronica                                                                                                                                          27\n",
            "Da un'app di news (es google news, apple news...), Da un motore di ricerca online (es google, bing, safari ...)                                                              27\n",
            "Da un motore di ricerca online (es google, bing, safari ...), Dai video proposti su Youtube, Dalle Home dei social                                                           25\n",
            "Dalle dirette o dalle stories di Instagram                                                                                                                                   24\n",
            "Da un motore di ricerca online (es google, bing, safari ...), Dalle Home dei social                                                                                          19\n",
            "Da un motore di ricerca online (es google, bing, safari ...), Da un'app di messaggistica istantanea (WhatsApp, Messanger...), Dai video proposti su Youtube                  18\n",
            "Dalle dirette o dalle stories di Instagram, Dalle Home dei social                                                                                                            18\n",
            "Dai video proposti su Youtube, Dalle Home dei social                                                                                                                         17\n",
            "Da un motore di ricerca online (es google, bing, safari ...), Dalle dirette o dalle stories di Instagram, Dai video proposti su Youtube                                      16\n",
            "Da un'app di news (es google news, apple news...), Da un'app di messaggistica istantanea (WhatsApp, Messanger...)                                                            15\n",
            "Da un motore di ricerca online (es google, bing, safari ...), Da newsletter per posta elettronica                                                                            13\n",
            "Da un motore di ricerca online (es google, bing, safari ...), Dalle dirette o dalle stories di Instagram                                                                     13\n",
            "Da un motore di ricerca online (es google, bing, safari ...), Dalle dirette o dalle stories di Instagram, Dalle Home dei social                                              12\n",
            "Da un'app di messaggistica istantanea (WhatsApp, Messanger...), Dai video proposti su Youtube, Dalle Home dei social                                                         12\n",
            "Da un motore di ricerca online (es google, bing, safari ...), Da un'app di messaggistica istantanea (WhatsApp, Messanger...), Dalle dirette o dalle stories di Instagram     12\n",
            "Da un motore di ricerca online (es google, bing, safari ...), Da un'app di messaggistica istantanea (WhatsApp, Messanger...)                                                 11\n",
            "Da un'app di news (es google news, apple news...), Dai video proposti su Youtube                                                                                             11\n",
            "Dalle Home dei social, Da newsletter per posta elettronica                                                                                                                   10\n",
            "Da un'app di messaggistica istantanea (WhatsApp, Messanger...), Dalle dirette o dalle stories di Instagram, Dai video proposti su Youtube                                    10\n",
            "Da un'app di messaggistica istantanea (WhatsApp, Messanger...), Dalle dirette o dalle stories di Instagram                                                                    9\n",
            "Da un'app di messaggistica istantanea (WhatsApp, Messanger...), Dalle Home dei social                                                                                         9\n",
            "                                                                                                                                                                           ... \n",
            "Da un'app di news (es google news, apple news...), Dalle dirette o dalle stories di Instagram                                                                                 7\n",
            "Dalle dirette o dalle stories di Instagram, Dai video proposti su Youtube, Dalle Home dei social                                                                              7\n",
            "Da un'app di news (es google news, apple news...), Da un motore di ricerca online (es google, bing, safari ...), Dalle Home dei social                                        7\n",
            "Da un'app di news (es google news, apple news...), Dalle dirette o dalle stories di Instagram, Dai video proposti su Youtube                                                  6\n",
            "Da un'app di news (es google news, apple news...), Dai video proposti su Youtube, Dalle Home dei social                                                                       6\n",
            "Da un'app di news (es google news, apple news...), Dalle dirette o dalle stories di Instagram, Dalle Home dei social                                                          6\n",
            "Da un'app di news (es google news, apple news...), Da un motore di ricerca online (es google, bing, safari ...), Da newsletter per posta elettronica                          6\n",
            "Da un'app di news (es google news, apple news...), Dalle Home dei social, Da newsletter per posta elettronica                                                                 5\n",
            "Da un'app di messaggistica istantanea (WhatsApp, Messanger...), Dai video proposti su Youtube                                                                                 4\n",
            "Da un'app di messaggistica istantanea (WhatsApp, Messanger...), Da newsletter per posta elettronica                                                                           4\n",
            "Da un'app di news (es google news, apple news...), Da un'app di messaggistica istantanea (WhatsApp, Messanger...), Dalle Home dei social                                      4\n",
            "Da un motore di ricerca online (es google, bing, safari ...), Dai video proposti su Youtube, Da newsletter per posta elettronica                                              4\n",
            "Da un'app di news (es google news, apple news...), Da newsletter per posta elettronica                                                                                        4\n",
            "Da un'app di news (es google news, apple news...), Da un'app di messaggistica istantanea (WhatsApp, Messanger...), Dalle dirette o dalle stories di Instagram                 4\n",
            "Dalle dirette o dalle stories di Instagram, Dai video proposti su Youtube                                                                                                     4\n",
            "Da un'app di news (es google news, apple news...), Dalle dirette o dalle stories di Instagram, Da newsletter per posta elettronica                                            3\n",
            "Da un motore di ricerca online (es google, bing, safari ...), Da un'app di messaggistica istantanea (WhatsApp, Messanger...), Da newsletter per posta elettronica             3\n",
            "Da un'app di messaggistica istantanea (WhatsApp, Messanger...), Dai video proposti su Youtube, Da newsletter per posta elettronica                                            3\n",
            "Da un motore di ricerca online (es google, bing, safari ...), Dalle dirette o dalle stories di Instagram, Da newsletter per posta elettronica                                 2\n",
            "Da un'app di news (es google news, apple news...), Da un motore di ricerca online (es google, bing, safari ...), Dalle dirette o dalle stories di Instagram                   2\n",
            "Dalle Home dei social, Non ne ricevo                                                                                                                                          1\n",
            "Da un motore di ricerca online (es google, bing, safari ...), Dalle Home dei social, Da newsletter per posta elettronica                                                      1\n",
            "Dalle dirette o dalle stories di Instagram, Dai video proposti su Youtube, Da newsletter per posta elettronica                                                                1\n",
            "Da un'app di news (es google news, apple news...), Non ne ricevo                                                                                                              1\n",
            "Dai video proposti su Youtube, Da newsletter per posta elettronica                                                                                                            1\n",
            "Da un'app di messaggistica istantanea (WhatsApp, Messanger...), Non ne ricevo                                                                                                 1\n",
            "Dalle dirette o dalle stories di Instagram, Dalle Home dei social, Da newsletter per posta elettronica                                                                        1\n",
            "Dai video proposti su Youtube, Dalle Home dei social, Non ne ricevo                                                                                                           1\n",
            "Dai video proposti su Youtube, Dalle Home dei social, Da newsletter per posta elettronica                                                                                     1\n",
            "Da un motore di ricerca online (es google, bing, safari ...), Dalla tv, Dalla radio                                                                                           1\n",
            "Name: Da dove ricevi notizie senza cercarle quando sei on line? , Length: 66, dtype: int64\n"
          ],
          "name": "stdout"
        },
        {
          "output_type": "display_data",
          "data": {
            "image/png": "[encoded data removed]",
            "text/plain": [
              "<Figure size 432x288 with 1 Axes>"
            ]
          },
          "metadata": {
            "tags": []
          }
        },
        {
          "output_type": "stream",
          "text": [
            "no answer                                                                                                                                                                                            31\n",
            "shopping online                                                                                                                                                                                      29\n",
            "altro                                                                                                                                                                                                28\n",
            "Notizie/cronaca/attualità                                                                                                                                                                            22\n",
            "Notizie/cronaca/attualità, shopping online                                                                                                                                                           12\n",
            "sport                                                                                                                                                                                                11\n",
            "gossip, shopping online                                                                                                                                                                               8\n",
            "film - serie tv                                                                                                                                                                                       7\n",
            "gossip, shopping online, moda, film - serie tv, musica                                                                                                                                                6\n",
            "sport, film - serie tv, musica                                                                                                                                                                        6\n",
            "tecnologia (software, hardware, internet, elettronica, giochi)                                                                                                                                        5\n",
            "shopping online, cibo                                                                                                                                                                                 5\n",
            "Notizie/cronaca/attualità, scienza (scoperte scientifiche, innovazioni, approfondimenti)                                                                                                              5\n",
            "gossip, Notizie/cronaca/attualità, shopping online, sport, politica                                                                                                                                   5\n",
            "gossip, sport, moda, film - serie tv, musica                                                                                                                                                          5\n",
            "gossip, shopping online, moda, cibo, film - serie tv                                                                                                                                                  5\n",
            "shopping online, moda, cibo, film - serie tv, musica                                                                                                                                                  4\n",
            "Notizie/cronaca/attualità, sport, scienza (scoperte scientifiche, innovazioni, approfondimenti)                                                                                                       4\n",
            "shopping online, cultura (arte, cinema, teatro, storia, letteratura, libri)                                                                                                                           4\n",
            "gossip, Notizie/cronaca/attualità, shopping online                                                                                                                                                    4\n",
            "sport, altro                                                                                                                                                                                          4\n",
            "gossip, Notizie/cronaca/attualità, shopping online, moda, estetica                                                                                                                                    4\n",
            "gossip, shopping online, film - serie tv, musica                                                                                                                                                      4\n",
            "Notizie/cronaca/attualità, sport                                                                                                                                                                      4\n",
            "Notizie/cronaca/attualità, shopping online, scienza (scoperte scientifiche, innovazioni, approfondimenti)                                                                                             4\n",
            "shopping online, sport, moda, film - serie tv, musica                                                                                                                                                 4\n",
            "gossip, Notizie/cronaca/attualità                                                                                                                                                                     3\n",
            "Notizie/cronaca/attualità, scienza (scoperte scientifiche, innovazioni, approfondimenti), ambiente/ecologia/sostenibilità, cultura (arte, cinema, teatro, storia, letteratura, libri)                 3\n",
            "Notizie/cronaca/attualità, sport, tecnologia (software, hardware, internet, elettronica, giochi)                                                                                                      3\n",
            "gossip, Notizie/cronaca/attualità, shopping online, politica                                                                                                                                          3\n",
            "                                                                                                                                                                                                     ..\n",
            "scienza (scoperte scientifiche, innovazioni, approfondimenti), cibo, musica, ambiente/ecologia/sostenibilità, satira                                                                                  1\n",
            "gossip, scienza (scoperte scientifiche, innovazioni, approfondimenti), film - serie tv, ambiente/ecologia/sostenibilità, salute                                                                       1\n",
            "gossip, Notizie/cronaca/attualità, cibo, ambiente/ecologia/sostenibilità, cultura (arte, cinema, teatro, storia, letteratura, libri)                                                                  1\n",
            "gossip, film - serie tv, ambiente/ecologia/sostenibilità, estetica, altro                                                                                                                             1\n",
            "ambiente/ecologia/sostenibilità, cultura (arte, cinema, teatro, storia, letteratura, libri)                                                                                                           1\n",
            "moda, film - serie tv, musica, economia, gioco d'azzardo, lotterie, scommesse                                                                                                                         1\n",
            "shopping online, moda, cibo, estetica                                                                                                                                                                 1\n",
            "Notizie/cronaca/attualità, sport, politica, violenza                                                                                                                                                  1\n",
            "gossip, moda                                                                                                                                                                                          1\n",
            "moda, cibo, musica, estetica, altro                                                                                                                                                                   1\n",
            "gossip, shopping online, film - serie tv, musica, estetica                                                                                                                                            1\n",
            "sport, musica, tecnologia (software, hardware, internet, elettronica, giochi), altro                                                                                                                  1\n",
            "sport, cibo, salute                                                                                                                                                                                   1\n",
            "politica, scienza (scoperte scientifiche, innovazioni, approfondimenti), economia                                                                                                                     1\n",
            "Notizie/cronaca/attualità, sport, scienza (scoperte scientifiche, innovazioni, approfondimenti), film - serie tv, musica                                                                              1\n",
            "scienza (scoperte scientifiche, innovazioni, approfondimenti), tecnologia (software, hardware, internet, elettronica, giochi)                                                                         1\n",
            "Notizie/cronaca/attualità, sport, cibo, film - serie tv, musica                                                                                                                                       1\n",
            "cibo, film - serie tv, cultura (arte, cinema, teatro, storia, letteratura, libri), estetica                                                                                                           1\n",
            "scienza (scoperte scientifiche, innovazioni, approfondimenti), moda, film - serie tv, musica, cultura (arte, cinema, teatro, storia, letteratura, libri)                                              1\n",
            "sport, cibo, tecnologia (software, hardware, internet, elettronica, giochi), altro                                                                                                                    1\n",
            "contenuti per adulti (sesso), gioco d'azzardo, lotterie, scommesse, tecnologia (software, hardware, internet, elettronica, giochi)                                                                    1\n",
            "Notizie/cronaca/attualità, sport, musica, cultura (arte, cinema, teatro, storia, letteratura, libri)                                                                                                  1\n",
            "gossip, Notizie/cronaca/attualità, politica, scienza (scoperte scientifiche, innovazioni, approfondimenti), cultura (arte, cinema, teatro, storia, letteratura, libri)                                1\n",
            "scienza (scoperte scientifiche, innovazioni, approfondimenti), salute, cultura (arte, cinema, teatro, storia, letteratura, libri), tecnologia (software, hardware, internet, elettronica, giochi)     1\n",
            "shopping online, politica, ambiente/ecologia/sostenibilità                                                                                                                                            1\n",
            "gossip, moda, musica, contenuti per adulti (sesso)                                                                                                                                                    1\n",
            "Notizie/cronaca/attualità, moda, film - serie tv, ambiente/ecologia/sostenibilità                                                                                                                     1\n",
            "film - serie tv, musica                                                                                                                                                                               1\n",
            "Notizie/cronaca/attualità, scienza (scoperte scientifiche, innovazioni, approfondimenti), film - serie tv, musica, ambiente/ecologia/sostenibilità                                                    1\n",
            "shopping online, scienza (scoperte scientifiche, innovazioni, approfondimenti), cultura (arte, cinema, teatro, storia, letteratura, libri), altro                                                     1\n",
            "Name: Quali argomenti ti vengono suggeriti mentre sei online, Length: 688, dtype: int64\n"
          ],
          "name": "stdout"
        },
        {
          "output_type": "display_data",
          "data": {
            "image/png": "[encoded data removed]",
            "text/plain": [
              "<Figure size 432x288 with 1 Axes>"
            ]
          },
          "metadata": {
            "tags": []
          }
        },
        {
          "output_type": "stream",
          "text": [
            "l'argomento che tratta                                                                                                                324\n",
            "il titolo, l'argomento che tratta                                                                                                     147\n",
            "il titolo                                                                                                                             108\n",
            "il titolo, la grafica, l'argomento che tratta                                                                                          47\n",
            "l'argomento che tratta, commenti e discussioni riguardo la notizia                                                                     40\n",
            "la grafica, l'argomento che tratta                                                                                                     33\n",
            "no answer                                                                                                                              31\n",
            "la grafica                                                                                                                             29\n",
            "il titolo, la grafica                                                                                                                  28\n",
            "il titolo, l'argomento che tratta, commenti e discussioni riguardo la notizia                                                          24\n",
            "il titolo, l'argomento che tratta, video                                                                                               21\n",
            "commenti e discussioni riguardo la notizia                                                                                             16\n",
            "video                                                                                                                                  13\n",
            "l'argomento che tratta, se è una notizia molto condivisa                                                                               11\n",
            "l'argomento che tratta, video                                                                                                          11\n",
            "il titolo, commenti e discussioni riguardo la notizia                                                                                  10\n",
            "il titolo, video                                                                                                                        9\n",
            "il titolo, la grafica, commenti e discussioni riguardo la notizia                                                                       8\n",
            "l'argomento che tratta, commenti e discussioni riguardo la notizia, video                                                               8\n",
            "il titolo, la grafica, l'argomento che tratta, se è una notizia molto condivisa, commenti e discussioni riguardo la notizia, video      8\n",
            "il titolo, la grafica, video                                                                                                            8\n",
            "il titolo, l'argomento che tratta, se è una notizia molto condivisa                                                                     7\n",
            "il titolo, la grafica, l'argomento che tratta, video                                                                                    7\n",
            "l'argomento che tratta, se è una notizia molto condivisa, commenti e discussioni riguardo la notizia                                    7\n",
            "la grafica, l'argomento che tratta, commenti e discussioni riguardo la notizia                                                          6\n",
            "se è una notizia molto condivisa                                                                                                        5\n",
            "la grafica, l'argomento che tratta, video                                                                                               5\n",
            "il titolo, l'argomento che tratta, se è una notizia molto condivisa, commenti e discussioni riguardo la notizia                         5\n",
            "il titolo, l'argomento che tratta, commenti e discussioni riguardo la notizia, video                                                    4\n",
            "il titolo, commenti e discussioni riguardo la notizia, video                                                                            4\n",
            "il titolo, la grafica, l'argomento che tratta, commenti e discussioni riguardo la notizia                                               4\n",
            "la grafica, l'argomento che tratta, se è una notizia molto condivisa                                                                    3\n",
            "il titolo, se è una notizia molto condivisa, commenti e discussioni riguardo la notizia                                                 3\n",
            "la grafica, se è una notizia molto condivisa, commenti e discussioni riguardo la notizia, video                                         2\n",
            "commenti e discussioni riguardo la notizia, video                                                                                       2\n",
            "l'argomento che tratta, se è una notizia molto condivisa, video                                                                         2\n",
            "il titolo, la grafica, se è una notizia molto condivisa                                                                                 2\n",
            "il titolo, se è una notizia molto condivisa                                                                                             2\n",
            "il titolo, la grafica, l'argomento che tratta, se è una notizia molto condivisa                                                         2\n",
            "il titolo, l'argomento che tratta, se è una notizia molto condivisa, video                                                              2\n",
            "il titolo, la grafica, l'argomento che tratta, se è una notizia molto condivisa, commenti e discussioni riguardo la notizia             1\n",
            "l'argomento che tratta, se è una notizia molto condivisa, commenti e discussioni riguardo la notizia, video                             1\n",
            "il titolo, la grafica, se è una notizia molto condivisa, commenti e discussioni riguardo la notizia                                     1\n",
            "il titolo, l'argomento che tratta, se è una notizia molto condivisa, commenti e discussioni riguardo la notizia, video                  1\n",
            "il titolo, la grafica, l'argomento che tratta, commenti e discussioni riguardo la notizia, video                                        1\n",
            "la grafica, se è una notizia molto condivisa, commenti e discussioni riguardo la notizia                                                1\n",
            "la grafica, commenti e discussioni riguardo la notizia                                                                                  1\n",
            "Name: Cosa attrae innanzitutto la tua attenzione su una notizia on line?, dtype: int64\n"
          ],
          "name": "stdout"
        },
        {
          "output_type": "display_data",
          "data": {
            "image/png": "[encoded data removed]",
            "text/plain": [
              "<Figure size 432x288 with 1 Axes>"
            ]
          },
          "metadata": {
            "tags": []
          }
        },
        {
          "output_type": "stream",
          "text": [
            "raramente    466\n",
            "spesso       314\n",
            "mai          169\n",
            "sempre        35\n",
            "no answer     31\n",
            "Name: Condividi le notizie?, dtype: int64\n"
          ],
          "name": "stdout"
        },
        {
          "output_type": "display_data",
          "data": {
            "image/png": "[encoded data removed]",
            "text/plain": [
              "<Figure size 432x288 with 1 Axes>"
            ]
          },
          "metadata": {
            "tags": []
          }
        },
        {
          "output_type": "stream",
          "text": [
            "famiglia, amici più stretti                                                                                 207\n",
            "no answer                                                                                                   199\n",
            "amici più stretti                                                                                           126\n",
            "famiglia, amici più stretti, gruppi con lo stesso interesse                                                  78\n",
            "tutti, attraverso post pubblici                                                                              57\n",
            "famiglia                                                                                                     52\n",
            "amici più stretti, gruppi con lo stesso interesse                                                            51\n",
            "gruppi con lo stesso interesse                                                                               34\n",
            "famiglia, amici più stretti, conoscenti                                                                      29\n",
            "conoscenti                                                                                                   23\n",
            "famiglia, gruppi con lo stesso interesse                                                                     23\n",
            "amici più stretti, conoscenti                                                                                17\n",
            "famiglia, amici più stretti, tutti, attraverso post pubblici                                                 14\n",
            "gruppi con lo stesso interesse, tutti, attraverso post pubblici                                              13\n",
            "famiglia, amici più stretti, conoscenti, gruppi con lo stesso interesse                                      13\n",
            "famiglia, tutti, attraverso post pubblici                                                                    11\n",
            "famiglia, conoscenti                                                                                         11\n",
            "amici più stretti, gruppi con lo stesso interesse, tutti, attraverso post pubblici                            9\n",
            "amici più stretti, tutti, attraverso post pubblici                                                            9\n",
            "famiglia, amici più stretti, conoscenti, gruppi con lo stesso interesse, tutti, attraverso post pubblici      7\n",
            "conoscenti, gruppi con lo stesso interesse                                                                    7\n",
            "amici più stretti, conoscenti, gruppi con lo stesso interesse                                                 6\n",
            "famiglia, amici più stretti, conoscenti, tutti, attraverso post pubblici                                      4\n",
            "famiglia, amici più stretti, gruppi con lo stesso interesse, tutti, attraverso post pubblici                  3\n",
            "conoscenti, tutti, attraverso post pubblici                                                                   3\n",
            "famiglia, gruppi con lo stesso interesse, tutti, attraverso post pubblici                                     2\n",
            "famiglia, conoscenti, tutti, attraverso post pubblici                                                         2\n",
            "famiglia, conoscenti, gruppi con lo stesso interesse                                                          2\n",
            "amici più stretti, conoscenti, tutti, attraverso post pubblici                                                2\n",
            "conoscenti, gruppi con lo stesso interesse, tutti, attraverso post pubblici                                   1\n",
            "Name: Con chi le condividi?, dtype: int64\n"
          ],
          "name": "stdout"
        },
        {
          "output_type": "display_data",
          "data": {
            "image/png": "[encoded data removed]",
            "text/plain": [
              "<Figure size 432x288 with 1 Axes>"
            ]
          },
          "metadata": {
            "tags": []
          }
        },
        {
          "output_type": "stream",
          "text": [
            "con un'app di messaggistica istantanea (whatsapp, SMS), ne parlo a voce                                              277\n",
            "no answer                                                                                                            209\n",
            "ne parlo a voce                                                                                                      153\n",
            "con un'app di messaggistica istantanea (whatsapp, SMS)                                                               143\n",
            "con un'app di messaggistica istantanea (whatsapp, SMS), ne parlo a voce, postando e commentando sui social            54\n",
            "postando e commentando sui social                                                                                     52\n",
            "ne parlo a voce, postando e commentando sui social                                                                    44\n",
            "con un'app di messaggistica istantanea (whatsapp, SMS), postando e commentando sui social                             36\n",
            "altro                                                                                                                 20\n",
            "ne parlo a voce, altro                                                                                                 9\n",
            "con un'app di messaggistica istantanea (whatsapp, SMS), ne parlo a voce, postando e commentando sui social, altro      5\n",
            "con un'app di messaggistica istantanea (whatsapp, SMS), ne parlo a voce, altro                                         4\n",
            "con un'app di messaggistica istantanea (whatsapp, SMS), altro                                                          4\n",
            "postando e commentando sui social, altro                                                                               3\n",
            "con un'app di messaggistica istantanea (whatsapp, SMS), postando e commentando sui social, altro                       1\n",
            "ne parlo a voce, postando e commentando sui social, altro                                                              1\n",
            "Name: Come condividi le notizie che leggi? , dtype: int64\n"
          ],
          "name": "stdout"
        },
        {
          "output_type": "display_data",
          "data": {
            "image/png": "[encoded data removed]",
            "text/plain": [
              "<Figure size 432x288 with 1 Axes>"
            ]
          },
          "metadata": {
            "tags": []
          }
        },
        {
          "output_type": "stream",
          "text": [
            "molto             370\n",
            "abbastanza        368\n",
            "no answer         209\n",
            "poco               55\n",
            "mai per questo     13\n",
            "Name: Quando condividi lo fai ...  [Perché è una notizia che mi ha impressionato], dtype: int64\n"
          ],
          "name": "stdout"
        },
        {
          "output_type": "display_data",
          "data": {
            "image/png": "[encoded data removed]",
            "text/plain": [
              "<Figure size 432x288 with 1 Axes>"
            ]
          },
          "metadata": {
            "tags": []
          }
        },
        {
          "output_type": "stream",
          "text": [
            "abbastanza        299\n",
            "poco              264\n",
            "no answer         209\n",
            "mai per questo    130\n",
            "molto             113\n",
            "Name: Quando condividi lo fai ...  [Per farlo sapere a tutti], dtype: int64\n"
          ],
          "name": "stdout"
        },
        {
          "output_type": "display_data",
          "data": {
            "image/png": "[encoded data removed]",
            "text/plain": [
              "<Figure size 432x288 with 1 Axes>"
            ]
          },
          "metadata": {
            "tags": []
          }
        },
        {
          "output_type": "stream",
          "text": [
            "poco              282\n",
            "abbastanza        278\n",
            "no answer         209\n",
            "mai per questo    178\n",
            "molto              68\n",
            "Name: Quando condividi lo fai ...  [Per commentare], dtype: int64\n"
          ],
          "name": "stdout"
        },
        {
          "output_type": "display_data",
          "data": {
            "image/png": "[encoded data removed]",
            "text/plain": [
              "<Figure size 432x288 with 1 Axes>"
            ]
          },
          "metadata": {
            "tags": []
          }
        },
        {
          "output_type": "stream",
          "text": [
            "mai per questo    694\n",
            "no answer         209\n",
            "poco               91\n",
            "abbastanza         15\n",
            "molto               6\n",
            "Name: Quando condividi lo fai ...  [Perché lo fanno tutti], dtype: int64\n"
          ],
          "name": "stdout"
        },
        {
          "output_type": "display_data",
          "data": {
            "image/png": "[encoded data removed]",
            "text/plain": [
              "<Figure size 432x288 with 1 Axes>"
            ]
          },
          "metadata": {
            "tags": []
          }
        },
        {
          "output_type": "stream",
          "text": [
            "dipende dal giornale o dalla fonte    768\n",
            "generalmente no                        95\n",
            "generalmente si                        93\n",
            "no answer                              30\n",
            "non saprei/non mi interessa            29\n",
            "Name: Secondo te ci si può fidare di ciò che scrivono i giornalisti?, dtype: int64\n"
          ],
          "name": "stdout"
        },
        {
          "output_type": "display_data",
          "data": {
            "image/png": "[encoded data removed]",
            "text/plain": [
              "<Figure size 432x288 with 1 Axes>"
            ]
          },
          "metadata": {
            "tags": []
          }
        },
        {
          "output_type": "stream",
          "text": [
            "dipende dalla notizia          695\n",
            "generalmente no                168\n",
            "generalmente si                103\n",
            "no answer                       30\n",
            "non saprei/non mi interessa     19\n",
            "Name: Secondo te ci si può fidare delle notizie che si trovano su internet?, dtype: int64\n"
          ],
          "name": "stdout"
        },
        {
          "output_type": "display_data",
          "data": {
            "image/png": "[encoded data removed]",
            "text/plain": [
              "<Figure size 432x288 with 1 Axes>"
            ]
          },
          "metadata": {
            "tags": []
          }
        },
        {
          "output_type": "stream",
          "text": [
            "si           343\n",
            "dipende      342\n",
            "no           194\n",
            "non lo so    106\n",
            "no answer     30\n",
            "Name: Ritieni che esistano sistemi sicuri per capire con certezza se una notizia è vera o no?, dtype: int64\n"
          ],
          "name": "stdout"
        },
        {
          "output_type": "display_data",
          "data": {
            "image/png": "[encoded data removed]",
            "text/plain": [
              "<Figure size 432x288 with 1 Axes>"
            ]
          },
          "metadata": {
            "tags": []
          }
        },
        {
          "output_type": "stream",
          "text": [
            "abbastanza    471\n",
            "poco          297\n",
            "molto         116\n",
            "per niente    101\n",
            "no answer      30\n",
            "Name: Cosa ti fa capire se una notizia è attendibile? [La notizia in sé, l'argomento che tratta], dtype: int64\n"
          ],
          "name": "stdout"
        },
        {
          "output_type": "display_data",
          "data": {
            "image/png": "[encoded data removed]",
            "text/plain": [
              "<Figure size 432x288 with 1 Axes>"
            ]
          },
          "metadata": {
            "tags": []
          }
        },
        {
          "output_type": "stream",
          "text": [
            "abbastanza    460\n",
            "molto         407\n",
            "poco           93\n",
            "no answer      30\n",
            "per niente     25\n",
            "Name: Cosa ti fa capire se una notizia è attendibile? [Se riporta le fonti da cui è tratto l'argomento], dtype: int64\n"
          ],
          "name": "stdout"
        },
        {
          "output_type": "display_data",
          "data": {
            "image/png": "[encoded data removed]",
            "text/plain": [
              "<Figure size 432x288 with 1 Axes>"
            ]
          },
          "metadata": {
            "tags": []
          }
        },
        {
          "output_type": "stream",
          "text": [
            "abbastanza    384\n",
            "poco          356\n",
            "per niente    125\n",
            "molto         120\n",
            "no answer      30\n",
            "Name: Cosa ti fa capire se una notizia è attendibile? [Il modo in cui è raccontata la notizia], dtype: int64\n"
          ],
          "name": "stdout"
        },
        {
          "output_type": "display_data",
          "data": {
            "image/png": "[encoded data removed]",
            "text/plain": [
              "<Figure size 432x288 with 1 Axes>"
            ]
          },
          "metadata": {
            "tags": []
          }
        },
        {
          "output_type": "stream",
          "text": [
            "molto         446\n",
            "abbastanza    415\n",
            "poco           97\n",
            "no answer      30\n",
            "per niente     27\n",
            "Name: Cosa ti fa capire se una notizia è attendibile? [La fonte che la pubblica (il sito, il giornale, il social)], dtype: int64\n"
          ],
          "name": "stdout"
        },
        {
          "output_type": "display_data",
          "data": {
            "image/png": "[encoded data removed]",
            "text/plain": [
              "<Figure size 432x288 with 1 Axes>"
            ]
          },
          "metadata": {
            "tags": []
          }
        },
        {
          "output_type": "stream",
          "text": [
            "poco          417\n",
            "abbastanza    289\n",
            "per niente    221\n",
            "molto          58\n",
            "no answer      30\n",
            "Name: Cosa ti fa capire se una notizia è attendibile? [La forma e lo stile], dtype: int64\n"
          ],
          "name": "stdout"
        },
        {
          "output_type": "display_data",
          "data": {
            "image/png": "[encoded data removed]",
            "text/plain": [
              "<Figure size 432x288 with 1 Axes>"
            ]
          },
          "metadata": {
            "tags": []
          }
        },
        {
          "output_type": "stream",
          "text": [
            "per niente    374\n",
            "poco          325\n",
            "abbastanza    200\n",
            "molto          86\n",
            "no answer      30\n",
            "Name: Cosa ti fa capire se una notizia è attendibile? [altro], dtype: int64\n"
          ],
          "name": "stdout"
        },
        {
          "output_type": "display_data",
          "data": {
            "image/png": "[encoded data removed]",
            "text/plain": [
              "<Figure size 432x288 with 1 Axes>"
            ]
          },
          "metadata": {
            "tags": []
          }
        },
        {
          "output_type": "stream",
          "text": [
            "Facebook                                                                                                                                                               63\n",
            "Facebook, messaggistica istantanea (whatsapp, messenger, instagram chat...)                                                                                            44\n",
            "Facebook, blog e siti vari                                                                                                                                             40\n",
            "Facebook, blog e siti vari, messaggistica istantanea (whatsapp, messenger, instagram chat...)                                                                          40\n",
            "blog e siti vari                                                                                                                                                       33\n",
            "no answer                                                                                                                                                              30\n",
            "messaggistica istantanea (whatsapp, messenger, instagram chat...)                                                                                                      29\n",
            "Instagram, Facebook                                                                                                                                                    25\n",
            "Instagram                                                                                                                                                              24\n",
            "Instagram, Facebook, blog e siti vari                                                                                                                                  23\n",
            "Instagram, Facebook, blog e siti vari, messaggistica istantanea (whatsapp, messenger, instagram chat...)                                                               22\n",
            "altro                                                                                                                                                                  21\n",
            "Instagram, Facebook, Twitter, Reddit, Snapchat, Youtube, Testate Online, blog e siti vari, messaggistica istantanea (whatsapp, messenger, instagram chat...), altro    20\n",
            "Instagram, Facebook, messaggistica istantanea (whatsapp, messenger, instagram chat...)                                                                                 17\n",
            "Instagram, Facebook, Twitter                                                                                                                                           16\n",
            "blog e siti vari, messaggistica istantanea (whatsapp, messenger, instagram chat...)                                                                                    15\n",
            "Facebook, Testate Online, blog e siti vari                                                                                                                             14\n",
            "Facebook, Youtube                                                                                                                                                      14\n",
            "Instagram, blog e siti vari, messaggistica istantanea (whatsapp, messenger, instagram chat...)                                                                         13\n",
            "Facebook, Testate Online, blog e siti vari, messaggistica istantanea (whatsapp, messenger, instagram chat...)                                                          13\n",
            "Instagram, blog e siti vari                                                                                                                                            12\n",
            "Facebook, Testate Online                                                                                                                                               12\n",
            "Testate Online, blog e siti vari                                                                                                                                       11\n",
            "Instagram, Facebook, Twitter, blog e siti vari, messaggistica istantanea (whatsapp, messenger, instagram chat...)                                                      11\n",
            "Instagram, Facebook, Twitter, Reddit, Snapchat, Youtube, Testate Online, blog e siti vari, messaggistica istantanea (whatsapp, messenger, instagram chat...)           10\n",
            "Testate Online                                                                                                                                                         10\n",
            "Instagram, Facebook, Testate Online, blog e siti vari                                                                                                                  10\n",
            "Instagram, Facebook, Testate Online                                                                                                                                     9\n",
            "Instagram, Facebook, Youtube, messaggistica istantanea (whatsapp, messenger, instagram chat...)                                                                         9\n",
            "Instagram, messaggistica istantanea (whatsapp, messenger, instagram chat...)                                                                                            9\n",
            "                                                                                                                                                                       ..\n",
            "Instagram, Facebook, Twitter, Reddit, blog e siti vari                                                                                                                  1\n",
            "Facebook, Snapchat, Youtube, blog e siti vari                                                                                                                           1\n",
            "Instagram, Facebook, Twitter, Reddit, messaggistica istantanea (whatsapp, messenger, instagram chat...)                                                                 1\n",
            "Instagram, Facebook, Youtube, Testate Online, messaggistica istantanea (whatsapp, messenger, instagram chat...)                                                         1\n",
            "Facebook, Twitter, blog e siti vari, altro                                                                                                                              1\n",
            "Instagram, Twitter, Testate Online, messaggistica istantanea (whatsapp, messenger, instagram chat...)                                                                   1\n",
            "Instagram, Youtube, Testate Online                                                                                                                                      1\n",
            "Testate Online, blog e siti vari, messaggistica istantanea (whatsapp, messenger, instagram chat...), altro                                                              1\n",
            "Facebook, Youtube, Testate Online, blog e siti vari                                                                                                                     1\n",
            "Instagram, Facebook, Twitter, Youtube, blog e siti vari                                                                                                                 1\n",
            "Facebook, Testate Online, blog e siti vari, altro                                                                                                                       1\n",
            "Instagram, Twitter, Youtube, Testate Online, messaggistica istantanea (whatsapp, messenger, instagram chat...)                                                          1\n",
            "Snapchat, blog e siti vari, messaggistica istantanea (whatsapp, messenger, instagram chat...)                                                                           1\n",
            "Instagram, Twitter, messaggistica istantanea (whatsapp, messenger, instagram chat...)                                                                                   1\n",
            "Instagram, Facebook, Twitter, altro                                                                                                                                     1\n",
            "Facebook, Twitter, Reddit                                                                                                                                               1\n",
            "Instagram, Twitter, Youtube, Testate Online, blog e siti vari, messaggistica istantanea (whatsapp, messenger, instagram chat...)                                        1\n",
            "Facebook, Twitter, Youtube, blog e siti vari                                                                                                                            1\n",
            "Instagram, Facebook, Snapchat, messaggistica istantanea (whatsapp, messenger, instagram chat...), altro                                                                 1\n",
            "Instagram, Facebook, Youtube, Testate Online                                                                                                                            1\n",
            "Testate Online, altro                                                                                                                                                   1\n",
            "Instagram, Youtube, blog e siti vari, messaggistica istantanea (whatsapp, messenger, instagram chat...), altro                                                          1\n",
            "Instagram, Snapchat, Youtube, Testate Online, altro                                                                                                                     1\n",
            "Instagram, Facebook, Twitter, Testate Online, messaggistica istantanea (whatsapp, messenger, instagram chat...), altro                                                  1\n",
            "Instagram, Twitter, blog e siti vari, messaggistica istantanea (whatsapp, messenger, instagram chat...)                                                                 1\n",
            "Twitter, Snapchat, messaggistica istantanea (whatsapp, messenger, instagram chat...)                                                                                    1\n",
            "Instagram, Facebook, Twitter, Testate Online, blog e siti vari, messaggistica istantanea (whatsapp, messenger, instagram chat...), altro                                1\n",
            "Instagram, Facebook, Testate Online, altro                                                                                                                              1\n",
            "Instagram, Facebook, altro                                                                                                                                              1\n",
            "Instagram, Facebook, Reddit, Snapchat, blog e siti vari, messaggistica istantanea (whatsapp, messenger, instagram chat...)                                              1\n",
            "Name: Secondo te dove si diffondono di più le fake news?, Length: 207, dtype: int64\n"
          ],
          "name": "stdout"
        },
        {
          "output_type": "display_data",
          "data": {
            "image/png": "[encoded data removed]",
            "text/plain": [
              "<Figure size 432x288 with 1 Axes>"
            ]
          },
          "metadata": {
            "tags": []
          }
        },
        {
          "output_type": "stream",
          "text": [
            "Notizie/cronaca/attualità                                                                                                                                             53\n",
            "gossip                                                                                                                                                                34\n",
            "no answer                                                                                                                                                             30\n",
            "Notizie/cronaca/attualità, gossip                                                                                                                                     29\n",
            "Notizie/cronaca/attualità, politica, gossip                                                                                                                           27\n",
            "altro                                                                                                                                                                 21\n",
            "Notizie/cronaca/attualità, politica                                                                                                                                   21\n",
            "politica                                                                                                                                                              10\n",
            "sport                                                                                                                                                                  8\n",
            "politica, gossip                                                                                                                                                       7\n",
            "Notizie/cronaca/attualità, salute, gossip                                                                                                                              7\n",
            "Notizie/cronaca/attualità, sport, gossip                                                                                                                               6\n",
            "Notizie/cronaca/attualità, film-serie tv, gossip                                                                                                                       6\n",
            "Notizie/cronaca/attualità, politica, scienza, ambiente/ecologia, salute                                                                                                6\n",
            "Notizie/cronaca/attualità, altro                                                                                                                                       6\n",
            "Notizie/cronaca/attualità, politica, scienza                                                                                                                           6\n",
            "Notizie/cronaca/attualità, politica, salute, gossip, estetica                                                                                                          5\n",
            "Notizie/cronaca/attualità, politica, scienza, cibo, salute                                                                                                             5\n",
            "Notizie/cronaca/attualità, politica, ambiente/ecologia                                                                                                                 5\n",
            "Notizie/cronaca/attualità, gossip, altro                                                                                                                               4\n",
            "Notizie/cronaca/attualità, politica, scienza, gossip                                                                                                                   4\n",
            "Notizie/cronaca/attualità, politica, ambiente/ecologia, salute, economia                                                                                               4\n",
            "contenuti per adulti (sesso)                                                                                                                                           4\n",
            "politica, scienza, gossip                                                                                                                                              4\n",
            "Notizie/cronaca/attualità, politica, violenza, gossip                                                                                                                  4\n",
            "Notizie/cronaca/attualità, scienza, salute                                                                                                                             4\n",
            "politica, salute, gossip                                                                                                                                               4\n",
            "Notizie/cronaca/attualità, politica, salute, gossip                                                                                                                    4\n",
            "Notizie/cronaca/attualità, sport                                                                                                                                       3\n",
            "Notizie/cronaca/attualità, politica, religioni, associazioni religiose, gossip                                                                                         3\n",
            "                                                                                                                                                                      ..\n",
            "Notizie/cronaca/attualità, scienza, salute, ricerca di lavoro, gossip                                                                                                  1\n",
            "politica, contenuti per adulti (sesso), gioco d'azzardo, lotterie                                                                                                      1\n",
            "politica, moda, economia                                                                                                                                               1\n",
            "sport, moda, film-serie tv, musica, gossip                                                                                                                             1\n",
            "politica, scienza, film-serie tv, salute, ricerca di lavoro                                                                                                            1\n",
            "moda, salute, gioco d'azzardo, lotterie                                                                                                                                1\n",
            "scienza, cibo, ambiente/ecologia                                                                                                                                       1\n",
            "Notizie/cronaca/attualità, moda, contenuti per adulti (sesso), armi, esplosivi, pirotecnica, espressioni volgari, oscenità                                             1\n",
            "religioni, associazioni religiose, alcolici, tabacco, narcotici, gossip, estetica                                                                                      1\n",
            "ambiente/ecologia, gossip                                                                                                                                              1\n",
            "Notizie/cronaca/attualità, politica, cultura (arte, cinema, libri, teatro ecc)                                                                                         1\n",
            "Notizie/cronaca/attualità, politica, scienza, alcolici, tabacco, narcotici, violenza                                                                                   1\n",
            "Notizie/cronaca/attualità, salute, gossip, estetica                                                                                                                    1\n",
            "sport, film-serie tv, contenuti per adulti (sesso), gossip                                                                                                             1\n",
            "sport, alcolici, tabacco, narcotici, violenza, espressioni volgari, oscenità, gossip                                                                                   1\n",
            "sport, politica, moda, violenza, armi, esplosivi, pirotecnica                                                                                                          1\n",
            "Notizie/cronaca/attualità, politica, salute, alcolici, tabacco, narcotici, altro                                                                                       1\n",
            "Notizie/cronaca/attualità, salute, ricerca di lavoro, espressioni volgari, oscenità, gossip                                                                            1\n",
            "Notizie/cronaca/attualità, sport, politica, scienza, gossip                                                                                                            1\n",
            "film-serie tv, musica, tecnologie (software, hardware, telefonia, internet, elettronica, giochi...), altro                                                             1\n",
            "estetica                                                                                                                                                               1\n",
            "politica, cibo, salute, tecnologie (software, hardware, telefonia, internet, elettronica, giochi...)                                                                   1\n",
            "cultura (arte, cinema, libri, teatro ecc), religioni, associazioni religiose, tecnologie (software, hardware, telefonia, internet, elettronica, giochi...), gossip     1\n",
            "ricerca di lavoro, tecnologie (software, hardware, telefonia, internet, elettronica, giochi...), gossip                                                                1\n",
            "Notizie/cronaca/attualità, violenza, armi, esplosivi, pirotecnica, espressioni volgari, oscenità, gioco d'azzardo, lotterie                                            1\n",
            "Notizie/cronaca/attualità, cultura (arte, cinema, libri, teatro ecc), ricerca di lavoro                                                                                1\n",
            "Notizie/cronaca/attualità, scienza, salute, violenza, gossip                                                                                                           1\n",
            "Notizie/cronaca/attualità, gioco d'azzardo, lotterie, tecnologie (software, hardware, telefonia, internet, elettronica, giochi...)                                     1\n",
            "Notizie/cronaca/attualità, sport, politica, religioni, associazioni religiose, altro                                                                                   1\n",
            "politica, salute, ricerca di lavoro, tecnologie (software, hardware, telefonia, internet, elettronica, giochi...), altro                                               1\n",
            "Name: Quali sono gli argormenti fake che attecchiscono di più? , Length: 596, dtype: int64\n"
          ],
          "name": "stdout"
        },
        {
          "output_type": "display_data",
          "data": {
            "image/png": "[encoded data removed]",
            "text/plain": [
              "<Figure size 432x288 with 1 Axes>"
            ]
          },
          "metadata": {
            "tags": []
          }
        },
        {
          "output_type": "stream",
          "text": [
            "tra 15 e 20        284\n",
            "tra 10 e 14        227\n",
            "sopra i 50         158\n",
            "tra 21 e 30        110\n",
            "tra 41 e 50         94\n",
            "tra 31 e 40         65\n",
            "meno di 10 anni     47\n",
            "no answer           30\n",
            "Name: Secondo te a che età si è più inclini a condividere una fake news?, dtype: int64\n"
          ],
          "name": "stdout"
        },
        {
          "output_type": "display_data",
          "data": {
            "image/png": "[encoded data removed]",
            "text/plain": [
              "<Figure size 432x288 with 1 Axes>"
            ]
          },
          "metadata": {
            "tags": []
          }
        },
        {
          "output_type": "stream",
          "text": [
            "si                  493\n",
            "no                  427\n",
            "non mi interessa     65\n",
            "no answer            30\n",
            "Name: Sai cos'è la reputazione digitale?, dtype: int64\n"
          ],
          "name": "stdout"
        },
        {
          "output_type": "display_data",
          "data": {
            "image/png": "[encoded data removed]",
            "text/plain": [
              "<Figure size 432x288 with 1 Axes>"
            ]
          },
          "metadata": {
            "tags": []
          }
        },
        {
          "output_type": "stream",
          "text": [
            "si                              872\n",
            "lo so, ma non mi interessa       71\n",
            "no                               34\n",
            "no answer                        30\n",
            "non lo so e non mi interessa      8\n",
            "Name: Sai quali pericoli potrebbero esserci nel postare le foto sui social?, dtype: int64\n"
          ],
          "name": "stdout"
        },
        {
          "output_type": "display_data",
          "data": {
            "image/png": "[encoded data removed]",
            "text/plain": [
              "<Figure size 432x288 with 1 Axes>"
            ]
          },
          "metadata": {
            "tags": []
          }
        }
      ]
    }
  ]
}