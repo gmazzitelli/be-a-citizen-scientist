{
  "nbformat": 4,
  "nbformat_minor": 0,
  "metadata": {
    "colab": {
      "name": "CO2.ipynb",
      "provenance": [],
      "authorship_tag": "ABX9TyOs8epdXt7chP43JtCHLdpQ",
      "include_colab_link": true
    },
    "kernelspec": {
      "name": "python3",
      "display_name": "Python 3"
    }
  },
  "cells": [
    {
      "cell_type": "markdown",
      "metadata": {
        "id": "view-in-github",
        "colab_type": "text"
      },
      "source": [
        "<a href=\"https://colab.research.google.com/github/gmazzitelli/be-a-citizen-scientist/blob/master/CO2.ipynb\" target=\"_parent\"><img src=\"https://colab.research.google.com/assets/colab-badge.svg\" alt=\"Open In Colab\"/></a>"
      ]
    },
    {
      "cell_type": "markdown",
      "metadata": {
        "id": "6aSXhEOnztOG",
        "colab_type": "text"
      },
      "source": [
        "**CO2**\n",
        "\n",
        "\n",
        "---\n",
        "\n",
        "\n",
        "Caloclo di quanti anni sono necessari per ammortizzare le emissioni di una autovertura rispetto a non cambiarla (Caddy life euro4 disel), comprarla elettrca o disel euro6d"
      ]
    },
    {
      "cell_type": "markdown",
      "metadata": {
        "id": "DFSTFI-C3rDT",
        "colab_type": "text"
      },
      "source": [
        ""
      ]
    },
    {
      "cell_type": "code",
      "metadata": {
        "id": "nZY0RLN1zUVJ",
        "colab_type": "code",
        "colab": {
          "base_uri": "https://localhost:8080/",
          "height": 290
        },
        "outputId": "789d527d-0684-4009-8d72-410e8b80c956"
      },
      "source": [
        "import numpy as np\n",
        "import matplotlib.pyplot as plt\n",
        "plt.style.use('fast')\n",
        "plt.rc('font', size = 12, family ='Sans-Serif')\n",
        "euro4  = 173 # g/km (voce V7 del mio libretto)\n",
        "euro6d = 95 # g/km\n",
        "# https://www.gazzetta.it/motori/la-mia-auto/31-12-2019/emissioni-auto-moto-inizia-l-era-dell-euro-6d-standard-dell-euro-5-3502312498475.shtml\n",
        "elettrico = 120*0.55 # g/km \n",
        "# https://www.qualenergia.it/articoli/auto-elettriche-e-diesel-confronto-su-emissioni-co2-e-inquinanti/\n",
        "offset_elttrico = 8.8\n",
        "offset_euro6d   = 5.6\n",
        "# https://www.lowcvp.org.uk/assets/workingdocuments/MC-P-11-15a%20Lifecycle%20emissions%20report.pdf \n",
        "anni = np.linspace(0, 20, 21)\n",
        "km   = 10000 # percorrenza media annua\n",
        "plt.plot(anni, offset_elttrico+elettrico*anni*km/1e6, 'g-')\n",
        "plt.plot(anni, offset_euro6d+euro6d*anni*km/1e6, 'r-')\n",
        "plt.plot(anni, anni*euro4*km/1e6, 'b-')\n",
        "plt.xlim(0,20)\n",
        "plt.ylim(0,40)\n",
        "plt.ylabel('CO2e [Tonnelate]')\n",
        "plt.xlabel('Anni')\n",
        "plt.show()"
      ],
      "execution_count": 3,
      "outputs": [
        {
          "output_type": "display_data",
          "data": {
            "image/png": "[encoded data removed]",
            "text/plain": [
              "<Figure size 432x288 with 1 Axes>"
            ]
          },
          "metadata": {
            "tags": []
          }
        }
      ]
    },
    {
      "cell_type": "markdown",
      "metadata": {
        "id": "BvIjdCV-3sUx",
        "colab_type": "text"
      },
      "source": [
        "\n",
        "\n",
        "---\n",
        "costo consumo disel/elettrco\n"
      ]
    },
    {
      "cell_type": "code",
      "metadata": {
        "id": "GoZFAnvizqMw",
        "colab_type": "code",
        "colab": {
          "base_uri": "https://localhost:8080/",
          "height": 51
        },
        "outputId": "e1e48243-011f-4c7a-cdcc-f428fb8b68f1"
      },
      "source": [
        "consumo_elttrico = 13.5 # kWh/100km\n",
        "# https://it.motor1.com/features/262190/consumo-auto-elettrica-tutte-le-risposte/\n",
        "consumo_disel    = 5    # litri/100km\n",
        "costo_disel      = 1.4  # euro/litro\n",
        "costo_elttrico   = 0.4  # euro/kWh\n",
        "print(\"costo elettrico: {} euro per 100km\".format(consumo_elttrico*costo_elttrico))\n",
        "print(\"costo disel: {} euro per 100km\".format(costo_disel*consumo_disel))\n"
      ],
      "execution_count": 10,
      "outputs": [
        {
          "output_type": "stream",
          "text": [
            "costo elettrico: 5.4 euro per 100km\n",
            "costo disel: 7.0 euro per 100km\n"
          ],
          "name": "stdout"
        }
      ]
    },
    {
      "cell_type": "code",
      "metadata": {
        "id": "anXZeVum2oQ2",
        "colab_type": "code",
        "colab": {}
      },
      "source": [
        ""
      ],
      "execution_count": 0,
      "outputs": []
    }
  ]
}